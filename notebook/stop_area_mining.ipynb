{
 "metadata": {
  "language_info": {
   "codemirror_mode": {
    "name": "ipython",
    "version": 3
   },
   "file_extension": ".py",
   "mimetype": "text/x-python",
   "name": "python",
   "nbconvert_exporter": "python",
   "pygments_lexer": "ipython3",
   "version": "3.7.9-final"
  },
  "orig_nbformat": 2,
  "kernelspec": {
   "name": "python3",
   "display_name": "Python 3.7.9 64-bit ('idms': conda)",
   "metadata": {
    "interpreter": {
     "hash": "a8830a6b190e3a3c92b56a6e784dbbf42a0fce4581b5215dca1d6ad350969660"
    }
   }
  }
 },
 "nbformat": 4,
 "nbformat_minor": 2,
 "cells": [
  {
   "cell_type": "code",
   "execution_count": null,
   "metadata": {},
   "outputs": [],
   "source": [
    "import pandas as pd \n",
    "import numpy as np\n",
    "from matplotlib import pyplot as plt \n",
    "import math"
   ]
  },
  {
   "source": [
    "## Run trajectory_generator.py"
   ],
   "cell_type": "markdown",
   "metadata": {}
  },
  {
   "source": [
    "### demo1"
   ],
   "cell_type": "markdown",
   "metadata": {}
  },
  {
   "source": [
    "Autoload modules"
   ],
   "cell_type": "markdown",
   "metadata": {}
  },
  {
   "cell_type": "code",
   "execution_count": 1,
   "metadata": {},
   "outputs": [],
   "source": [
    "%load_ext autoreload\n",
    "%autoreload 1\n",
    "import sys\n",
    "sys.path.append(r'D:\\\\CodeRepository\\\\Python\\\\IDMSImplementation')\n",
    "%aimport idms_impl.trajectory_generator\n",
    "%aimport idms_impl.stop_area_mining"
   ]
  },
  {
   "source": [
    "Test Stop Area Mining"
   ],
   "cell_type": "markdown",
   "metadata": {}
  },
  {
   "cell_type": "code",
   "execution_count": 7,
   "metadata": {
    "tags": []
   },
   "outputs": [
    {
     "output_type": "stream",
     "name": "stdout",
     "text": [
      "Finish it in 9.042531967163086s\n"
     ]
    }
   ],
   "source": [
    "orig_filename = r'C:\\Users\\Scott\\Documents\\ECNU\\data\\20201116\\9_user.csv'\n",
    "\n",
    "usecols = ['SUBSTR(MSISDN,1,7)', 'STAT_DATE', 'STIME', 'END_TIME', 'ZH_LABEL', 'LATITUDE', 'NUMBERITUDE', 'DURATION', 'DATA_TOTAL']\n",
    "name_mapper = {\n",
    "    \"SUBSTR(MSISDN,1,7)\": \"USER_ID\",\n",
    "    \"NUMBERITUDE\": \"LONGITUDE\",\n",
    "    \"DATA_TOTAL\": \"TOTAL_DATA\"\n",
    "}\n",
    "%run -m idms_impl.trajectory_generator\n",
    "\n",
    "import time\n",
    "\n",
    "start_time = time.time()\n",
    "\n",
    "tr_gen = TrajectoryGenerator()\n",
    "\n",
    "tr_gen.stop_area_mining(filename=orig_filename,\n",
    "                        usecols=usecols,\n",
    "                        name_mapper=name_mapper,\n",
    "                        nan_dur_theta=4 * 3600,\n",
    "                        dist_theta=5 / 111,\n",
    "                        point_dur_theta=20,\n",
    "                        eps=0.0036,\n",
    "                        min_dur=900)\n",
    "# tr_gen.sam.load_data(filename=orig_filename)\n",
    "\n",
    "# tr_gen.sam.format_raw_data(usecols=usecols, name_mapper={\n",
    "#     \"SUBSTR(MSISDN,1,7)\": \"USER_ID\",\n",
    "#     \"NUMBERITUDE\": \"LONGITUDE\",\n",
    "#     \"DATA_TOTAL\": \"TOTAL_DATA\"\n",
    "# })\n",
    "\n",
    "# tr_gen.sam.check_invalid_tr(nan_dur_theta=4 * 3600, dist_theta=5 / 111)\n",
    "\n",
    "# tr_gen.sam.gen_valid_area(point_dur_theta=20, eps=0.0036, min_dur=900)\n",
    "\n",
    "# tr_gen.sam.df.to_csv('../data/no_invalid_area.csv', encoding='gbk', index=False)\n",
    "# tr_gen.sam.merge_adjacent_points()\n",
    "\n",
    "# tr_gen.sam.df.to_csv('../data/sam.csv', encoding='gbk', index=False)\n",
    "\n",
    "end_time = time.time()\n",
    "print(f'Finish it in {end_time - start_time}s')"
   ]
  },
  {
   "cell_type": "code",
   "execution_count": 9,
   "metadata": {},
   "outputs": [],
   "source": [
    "tr_gen.df.columns\n",
    "# tr_gen.df.to_csv('../data/sam.csv', encoding='gbk', index=False)"
   ]
  },
  {
   "cell_type": "code",
   "execution_count": null,
   "metadata": {},
   "outputs": [],
   "source": [
    "user_grp = res.groupby(['USER_ID'], sort=False)\n",
    "for uid, user in user_grp:\n",
    "    \n",
    "    c_grp = user.groupby(['CLUSTER_ID'], sort=False)\n",
    "    for cid, cluster in c_grp:\n",
    "        print(cid, cluster.LATITUDE.mean(), cluster.LONGITUDE.mean())\n",
    "    break"
   ]
  },
  {
   "source": [
    "### demo2"
   ],
   "cell_type": "markdown",
   "metadata": {}
  },
  {
   "cell_type": "code",
   "execution_count": null,
   "metadata": {},
   "outputs": [],
   "source": [
    "%run ../idms_impl/data_load.py\n",
    "a = np.array([31.968177, 118.711710])\n",
    "b = np.array([31.967207, 118.707899])\n",
    "d = get_dist(a, b)\n",
    "print(type(d))\n",
    "print(a, b)"
   ]
  },
  {
   "source": [
    "## Run algorithm.py"
   ],
   "cell_type": "markdown",
   "metadata": {}
  },
  {
   "source": [
    "### demo1\n",
    "\n",
    "test groupby"
   ],
   "cell_type": "markdown",
   "metadata": {}
  },
  {
   "cell_type": "code",
   "execution_count": null,
   "metadata": {},
   "outputs": [],
   "source": [
    "%run ../demo/algorithm.py\n",
    "\n",
    "grp = df.groupby('A')\n",
    "display(df)\n",
    "def func(x):\n",
    "    display(x)\n",
    "    if x.iloc[0, 0] == 'bar':\n",
    "        return x.drop(x.index)\n",
    "    else:\n",
    "        return x\n",
    "grp.apply(func)\n",
    "\n"
   ]
  },
  {
   "source": [
    "### demo2\n",
    "\n",
    "test pands copy"
   ],
   "cell_type": "markdown",
   "metadata": {}
  },
  {
   "cell_type": "code",
   "execution_count": null,
   "metadata": {},
   "outputs": [],
   "source": [
    "%run ../demo/algorithm.py\n",
    "new_df = df\n",
    "new_df is df\n",
    "new_df.info()"
   ]
  },
  {
   "source": [
    "### demo3\n",
    "\n",
    "test subclass "
   ],
   "cell_type": "markdown",
   "metadata": {}
  },
  {
   "cell_type": "code",
   "execution_count": null,
   "metadata": {},
   "outputs": [],
   "source": [
    "%run ../demo/algorithm.py\n",
    "\n",
    "b = B('A', 12)\n"
   ]
  },
  {
   "cell_type": "code",
   "execution_count": null,
   "metadata": {},
   "outputs": [],
   "source": [
    "%cd D:\\\\CodeRepository\\\\Python\\\\IDMSImplementation\n",
    "%run demo/algorithm.py\n",
    "\n",
    "c = C()\n",
    "c.age = 1"
   ]
  },
  {
   "source": [
    "## Scratch"
   ],
   "cell_type": "markdown",
   "metadata": {}
  },
  {
   "source": [
    "### demo1\n",
    "\n",
    "test NamedTuple"
   ],
   "cell_type": "markdown",
   "metadata": {}
  },
  {
   "cell_type": "code",
   "execution_count": null,
   "metadata": {},
   "outputs": [],
   "source": [
    "from typing import NamedTuple, List\n",
    "SA = NamedTuple('SA', [('left', int), ('right', int), ('dur_sum', int), ('cid', int)])\n",
    "sa1 = SA(1, 2, 3, 4)\n",
    "sa2 = SA(3, 4, 5, 6)\n",
    "sas: List[SA] = []\n",
    "sas.append(sa1)\n",
    "sas"
   ]
  },
  {
   "source": [
    "### demo2\n",
    "\n",
    "test adjacent element in numpy"
   ],
   "cell_type": "markdown",
   "metadata": {}
  },
  {
   "cell_type": "code",
   "execution_count": null,
   "metadata": {},
   "outputs": [],
   "source": [
    "a = np.array([0, 0, 0,  1, 3, 2, 2, 3, 3, 3])\n",
    "# diff = np.diff(a).astype(np.bool)\n",
    "# a[np.insert(np.diff(a).astype(np.bool), 0, True)]\n",
    "a[:5].sum()\n",
    "b = 1\n"
   ]
  },
  {
   "source": [
    "### demo3\n",
    "\n",
    "test typing"
   ],
   "cell_type": "markdown",
   "metadata": {}
  },
  {
   "cell_type": "code",
   "execution_count": null,
   "metadata": {},
   "outputs": [],
   "source": [
    "from typing import Dict\n",
    "D = Dict[str, str]\n",
    "def func(x: D):\n",
    "    print(x)\n",
    "\n",
    "a = {\n",
    "    'A': 'c'\n",
    "}\n",
    "func(a)"
   ]
  },
  {
   "cell_type": "code",
   "execution_count": null,
   "metadata": {},
   "outputs": [],
   "source": [
    "a = pd.Series(np.arange(10))\n",
    "a[0] = np.nan\n",
    "a.fillna(value=1., inplace=True)\n",
    "a"
   ]
  },
  {
   "cell_type": "code",
   "execution_count": null,
   "metadata": {},
   "outputs": [],
   "source": [
    "a = pd.Series(np.arange(10))\n",
    "a = a.astype(bool)\n",
    "print(a)\n",
    "b = a[a].index\n",
    "b.values"
   ]
  },
  {
   "cell_type": "code",
   "execution_count": null,
   "metadata": {},
   "outputs": [],
   "source": [
    "a = np.arange(10)\n",
    "a[[1, 2, 3]]\n",
    "\n",
    "np.sum([[2, 1], [3, 5]], where=[False, True], axis=1)"
   ]
  }
 ]
}