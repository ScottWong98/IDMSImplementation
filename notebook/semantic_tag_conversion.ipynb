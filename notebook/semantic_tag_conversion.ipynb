{
 "metadata": {
  "language_info": {
   "codemirror_mode": {
    "name": "ipython",
    "version": 3
   },
   "file_extension": ".py",
   "mimetype": "text/x-python",
   "name": "python",
   "nbconvert_exporter": "python",
   "pygments_lexer": "ipython3",
   "version": "3.7.9-final"
  },
  "orig_nbformat": 2,
  "kernelspec": {
   "name": "python3",
   "display_name": "Python 3.7.9 64-bit ('idms': conda)",
   "metadata": {
    "interpreter": {
     "hash": "a8830a6b190e3a3c92b56a6e784dbbf42a0fce4581b5215dca1d6ad350969660"
    }
   }
  }
 },
 "nbformat": 4,
 "nbformat_minor": 2,
 "cells": [
  {
   "cell_type": "code",
   "execution_count": 1,
   "metadata": {},
   "outputs": [],
   "source": [
    "%load_ext autoreload\n",
    "%autoreload 1\n",
    "import sys\n",
    "sys.path.append(r'D:\\\\CodeRepository\\\\Python\\\\IDMSImplementation')\n",
    "%aimport idms_impl.trajectory_generator\n",
    "%aimport idms_impl.stop_area_mining\n",
    "%aimport idms_impl.semantic_tag_conversion"
   ]
  },
  {
   "cell_type": "code",
   "execution_count": 2,
   "metadata": {},
   "outputs": [
    {
     "output_type": "stream",
     "name": "stdout",
     "text": [
      "Finish it in 8.303912878036499s\n"
     ]
    }
   ],
   "source": [
    "orig_filename = r'C:\\Users\\Scott\\Documents\\ECNU\\data\\20201116\\9_user.csv'\n",
    "\n",
    "usecols = ['SUBSTR(MSISDN,1,7)', 'STAT_DATE', 'STIME', 'END_TIME', 'ZH_LABEL', 'LATITUDE', 'NUMBERITUDE', 'DURATION', 'DATA_TOTAL']\n",
    "name_mapper = {\n",
    "    \"SUBSTR(MSISDN,1,7)\": \"USER_ID\",\n",
    "    \"NUMBERITUDE\": \"LONGITUDE\",\n",
    "    \"DATA_TOTAL\": \"TOTAL_DATA\"\n",
    "}\n",
    "%run -m idms_impl.trajectory_generator\n",
    "\n",
    "import time\n",
    "\n",
    "start_time = time.time()\n",
    "\n",
    "tr_gen = TrajectoryGenerator()\n",
    "\n",
    "tr_gen.stop_area_mining(filename=orig_filename,\n",
    "                        usecols=usecols,\n",
    "                        name_mapper=name_mapper,\n",
    "                        nan_dur_theta=4 * 3600,\n",
    "                        dist_theta=5 / 111,\n",
    "                        point_dur_theta=20,\n",
    "                        eps=0.0036,\n",
    "                        min_dur=900)\n",
    "# tr_gen.sam.load_data(filename=orig_filename)\n",
    "\n",
    "# tr_gen.sam.format_raw_data(usecols=usecols, name_mapper={\n",
    "#     \"SUBSTR(MSISDN,1,7)\": \"USER_ID\",\n",
    "#     \"NUMBERITUDE\": \"LONGITUDE\",\n",
    "#     \"DATA_TOTAL\": \"TOTAL_DATA\"\n",
    "# })\n",
    "\n",
    "# tr_gen.sam.check_invalid_tr(nan_dur_theta=4 * 3600, dist_theta=5 / 111)\n",
    "\n",
    "# tr_gen.sam.gen_valid_area(point_dur_theta=20, eps=0.0036, min_dur=900)\n",
    "\n",
    "# tr_gen.sam.df.to_csv('../data/no_invalid_area.csv', encoding='gbk', index=False)\n",
    "# tr_gen.sam.merge_adjacent_points()\n",
    "\n",
    "# tr_gen.sam.df.to_csv('../data/sam.csv', encoding='gbk', index=False)\n",
    "\n",
    "end_time = time.time()\n",
    "print(f'Finish it in {end_time - start_time}s')"
   ]
  },
  {
   "cell_type": "code",
   "execution_count": 193,
   "metadata": {
    "tags": []
   },
   "outputs": [],
   "source": [
    "# poi_gen.knn_model.kneighbors([[31.96745185244962, 118.71106705349086]], return_distance=False)\n",
    "from collections import Counter\n",
    "def handle_cluster(cluster):\n",
    "\n",
    "    def get_ctg(base_name):\n",
    "        for ctg in ctgs:\n",
    "            if base_name == ctg[0]:\n",
    "                return ctg\n",
    "    \n",
    "    def find_poi():\n",
    "        if cluster_type == 'home':\n",
    "            for name, cnt in poi_counter:\n",
    "                if name in home_list:\n",
    "                    return get_ctg(name)\n",
    "        elif cluster_type == 'work':\n",
    "            for name, cnt in poi_counter:\n",
    "                if name in work_list:\n",
    "                    return get_ctg(name)\n",
    "        return get_ctg(poi_counter[0][0])\n",
    "\n",
    "    coords = cluster[:2].values.reshape(1, 2)\n",
    "    cluster_type = cluster[-1]\n",
    "    index = poi_gen.knn_model.kneighbors(coords, return_distance=False).flatten()\n",
    "    ctgs = poi_gen.poi_df.iloc[index, :7].values\n",
    "    # print(ctg)\n",
    "    c = Counter(ctgs[:, 0])\n",
    "    cluster_type = cluster[-1]\n",
    "    poi_counter = c.most_common()\n",
    "    home_list = ['商务住宅', '住宿服务', '生活服务', '地名地址信息']\n",
    "    work_list = ['公司企业']\n",
    "    poi = find_poi()\n",
    "    # print(\"+\" * 10)\n",
    "    # print(poi_counter)\n",
    "    # print(ctgs)\n",
    "    # print(poi)\n",
    "    # cluster[['big_ctg', 'medium_ctg', 'small_ctg', 'name']] = pd.Series( poi)\n",
    "    cluster['big_ctg'] = poi[0]\n",
    "    cluster['medium_ctg'] = poi[1]\n",
    "    cluster['small_ctg'] = poi[2]\n",
    "    cluster['name'] = poi[3]\n",
    "    cluster['province'] = poi[4]\n",
    "    cluster['city'] = poi[5]\n",
    "    cluster['region'] = poi[6]\n",
    "    return cluster\n",
    "new_cluster_poi = cluster_poi.apply(handle_cluster, axis=1)\n",
    "\n",
    "# cluster_poi.index.values"
   ]
  },
  {
   "cell_type": "code",
   "execution_count": 196,
   "metadata": {},
   "outputs": [],
   "source": [
    "new_df = df.copy()\n",
    "new_df.set_index(['USER_ID', 'CLUSTER_ID'], inplace=True)\n",
    "new_df[['type', 'big_ctg', 'medium_ctg', 'small_ctg', 'name', 'province', 'city', 'region']] = new_cluster_poi.iloc[:, 2:]\n"
   ]
  },
  {
   "cell_type": "code",
   "execution_count": 198,
   "metadata": {},
   "outputs": [],
   "source": [
    "# new_df.reset_index(drop=False, inplace=True)\n",
    "new_df\n",
    "new_df.to_csv('../data/9_user_with_flag.csv', encoding='gbk', index=False)"
   ]
  },
  {
   "cell_type": "code",
   "execution_count": 3,
   "metadata": {},
   "outputs": [],
   "source": [
    "tr_gen.semantic_tr_convertion()\n",
    "tr_gen.stc.main_area_mining(0.9)"
   ]
  },
  {
   "cell_type": "code",
   "execution_count": 68,
   "metadata": {},
   "outputs": [
    {
     "output_type": "execute_result",
     "data": {
      "text/plain": [
       "Empty DataFrame\n",
       "Columns: []\n",
       "Index: []"
      ],
      "text/html": "<div>\n<style scoped>\n    .dataframe tbody tr th:only-of-type {\n        vertical-align: middle;\n    }\n\n    .dataframe tbody tr th {\n        vertical-align: top;\n    }\n\n    .dataframe thead th {\n        text-align: right;\n    }\n</style>\n<table border=\"1\" class=\"dataframe\">\n  <thead>\n    <tr style=\"text-align: right;\">\n      <th></th>\n    </tr>\n  </thead>\n  <tbody>\n  </tbody>\n</table>\n</div>"
     },
     "metadata": {},
     "execution_count": 68
    }
   ],
   "source": [
    "user_grp = df.groupby(['USER_ID'], sort=False)\n",
    "\n",
    "def gen_cluster_attr(user):\n",
    "    cluster_grp = user.groupby(['CLUSTER_ID'], sort=False)\n",
    "    attr = cluster_grp.apply(lambda x: pd.Series([x['STAT_DATE'].nunique(), x['DURATION'].sum(), x['TOTAL_DATA'].sum() / x['STAT_DATE'].nunique()], index=['sn', 'dur_sum', 'd']))\n",
    "    attr.sort_values('dur_sum', ascending=False, inplace=True)\n",
    "    return attr\n",
    "\n",
    "cluster_attr = user_grp.apply(gen_cluster_attr)\n",
    "cluster_attr['type'] = np.array(['other'] * cluster_attr.shape[0])\n",
    "\n",
    "def home_prob(cid, n):\n",
    "    sn = cluster_attr.loc[cid, 'sn']\n",
    "    sn_prob = sn / n \n",
    "    d = cluster_attr.loc[cid, 'd']\n",
    "    sum_d = cluster_attr.loc[cid[0], 'd'].sum()\n",
    "    d_prob = 0. if sum_d == 0. else d / sum_d\n",
    "    return sn_prob + (1 - d_prob)\n",
    "\n",
    "def gen_main_area(user):\n",
    "    \n",
    "    n = user['STAT_DATE'].nunique()\n",
    "    uid = user.iloc[0, 0]\n",
    "    dur_sum_in_user = cluster_attr.loc[uid, 'dur_sum'].sum()\n",
    "    \n",
    "    cur_cluster_attr = cluster_attr.loc[uid]\n",
    "\n",
    "    sr_list = []\n",
    "    tmp_dur_sum = 0\n",
    "    for cluster_id, row in cur_cluster_attr.T.iteritems():\n",
    "        tmp_dur_sum += row['dur_sum']\n",
    "        if tmp_dur_sum / dur_sum_in_user <= theta:\n",
    "            sr_list.append((uid, cluster_id))\n",
    "    n_sr = len(sr_list)\n",
    "    # print(sr_list)\n",
    "\n",
    "    if n_sr == 1:\n",
    "        cluster_attr.loc[sr_list[0], 'type'] = 'home'\n",
    "    elif n_sr == 2:\n",
    "        if home_prob(sr_list[0], n) > home_prob(sr_list[1], n):\n",
    "            cluster_attr.loc[sr_list[0], 'type'] = 'home'\n",
    "            cluster_attr.loc[sr_list[1], 'type'] = 'work'\n",
    "        else:\n",
    "            cluster_attr.loc[sr_list[0], 'type'] = 'work'\n",
    "            cluster_attr.loc[sr_list[1], 'type'] = 'home'\n",
    "    elif n_sr == 3:\n",
    "        d0 = cluster_attr.loc[sr_list[0], 'd']\n",
    "        d1 = cluster_attr.loc[sr_list[1], 'd']\n",
    "        d2 = cluster_attr.loc[sr_list[2], 'd']\n",
    "        if d0 > (d1 + d2) / 2:\n",
    "            cluster_attr.loc[sr_list[0], 'type'] = 'work'\n",
    "            cluster_attr.loc[sr_list[1], 'type'] = 'home'\n",
    "            cluster_attr.loc[sr_list[2], 'type'] = 'home'\n",
    "        else:\n",
    "            cluster_attr.loc[sr_list[0], 'type'] = 'home'\n",
    "            cluster_attr.loc[sr_list[1], 'type'] = 'work'\n",
    "            cluster_attr.loc[sr_list[2], 'type'] = 'work'\n",
    "        \n",
    "theta = 0.9\n",
    "\n",
    "# for uid, user in user_grp:\n",
    "#     gen_main_area(user)\n",
    "user_grp.apply(gen_main_area)\n"
   ]
  },
  {
   "cell_type": "code",
   "execution_count": 81,
   "metadata": {},
   "outputs": [
    {
     "output_type": "execute_result",
     "data": {
      "text/plain": [
       "                      sn   dur_sum              d   type\n",
       "USER_ID CLUSTER_ID                                      \n",
       "1377032 0           21.0  858715.0   57049.663830   home\n",
       "        2           15.0  619153.0  238137.694661   work\n",
       "        22           3.0   96684.0  228284.142578  other\n",
       "        6            1.0   42723.0  433745.323242  other\n",
       "        10           1.0   34091.0  137122.463867  other\n",
       "...                  ...       ...            ...    ...\n",
       "1870519 5            1.0    2076.0    1552.216797  other\n",
       "        22           1.0    2042.0  250869.634766  other\n",
       "        17           1.0    1639.0       0.000000  other\n",
       "        16           1.0    1359.0       0.000000  other\n",
       "        28           1.0     958.0     872.636719  other\n",
       "\n",
       "[160 rows x 4 columns]"
      ],
      "text/html": "<div>\n<style scoped>\n    .dataframe tbody tr th:only-of-type {\n        vertical-align: middle;\n    }\n\n    .dataframe tbody tr th {\n        vertical-align: top;\n    }\n\n    .dataframe thead th {\n        text-align: right;\n    }\n</style>\n<table border=\"1\" class=\"dataframe\">\n  <thead>\n    <tr style=\"text-align: right;\">\n      <th></th>\n      <th></th>\n      <th>sn</th>\n      <th>dur_sum</th>\n      <th>d</th>\n      <th>type</th>\n    </tr>\n    <tr>\n      <th>USER_ID</th>\n      <th>CLUSTER_ID</th>\n      <th></th>\n      <th></th>\n      <th></th>\n      <th></th>\n    </tr>\n  </thead>\n  <tbody>\n    <tr>\n      <th rowspan=\"5\" valign=\"top\">1377032</th>\n      <th>0</th>\n      <td>21.0</td>\n      <td>858715.0</td>\n      <td>57049.663830</td>\n      <td>home</td>\n    </tr>\n    <tr>\n      <th>2</th>\n      <td>15.0</td>\n      <td>619153.0</td>\n      <td>238137.694661</td>\n      <td>work</td>\n    </tr>\n    <tr>\n      <th>22</th>\n      <td>3.0</td>\n      <td>96684.0</td>\n      <td>228284.142578</td>\n      <td>other</td>\n    </tr>\n    <tr>\n      <th>6</th>\n      <td>1.0</td>\n      <td>42723.0</td>\n      <td>433745.323242</td>\n      <td>other</td>\n    </tr>\n    <tr>\n      <th>10</th>\n      <td>1.0</td>\n      <td>34091.0</td>\n      <td>137122.463867</td>\n      <td>other</td>\n    </tr>\n    <tr>\n      <th>...</th>\n      <th>...</th>\n      <td>...</td>\n      <td>...</td>\n      <td>...</td>\n      <td>...</td>\n    </tr>\n    <tr>\n      <th rowspan=\"5\" valign=\"top\">1870519</th>\n      <th>5</th>\n      <td>1.0</td>\n      <td>2076.0</td>\n      <td>1552.216797</td>\n      <td>other</td>\n    </tr>\n    <tr>\n      <th>22</th>\n      <td>1.0</td>\n      <td>2042.0</td>\n      <td>250869.634766</td>\n      <td>other</td>\n    </tr>\n    <tr>\n      <th>17</th>\n      <td>1.0</td>\n      <td>1639.0</td>\n      <td>0.000000</td>\n      <td>other</td>\n    </tr>\n    <tr>\n      <th>16</th>\n      <td>1.0</td>\n      <td>1359.0</td>\n      <td>0.000000</td>\n      <td>other</td>\n    </tr>\n    <tr>\n      <th>28</th>\n      <td>1.0</td>\n      <td>958.0</td>\n      <td>872.636719</td>\n      <td>other</td>\n    </tr>\n  </tbody>\n</table>\n<p>160 rows × 4 columns</p>\n</div>"
     },
     "metadata": {},
     "execution_count": 81
    }
   ],
   "source": [
    "cluster_attr"
   ]
  },
  {
   "cell_type": "code",
   "execution_count": null,
   "metadata": {
    "tags": []
   },
   "outputs": [],
   "source": [
    "\n",
    "# cluster_grp = df.groupby(['USER_ID', 'CLUSTER_ID'], sort=False)\n",
    "# def func(cluster):\n",
    "#     series = pd.Series([cluster['STAT_DATE'].nunique(), cluster['DURATION'].sum(), cluster['TOTAL_DATA'].sum() / cluster['STAT_DATE'].nunique()], index=['sn', 'dur_sum', 'd'])\n",
    "#     return series\n",
    "# cluster_attr = cluster_grp.apply(func)\n",
    "\n",
    "\n",
    "user_grp = df.groupby(['USER_ID'], sort=False)\n",
    "\n",
    "def func(user):\n",
    "\n",
    "    c_grp = user.groupby(['CLUSTER_ID'], sort=False)\n",
    "    \n",
    "    attr = c_grp.apply(lambda x: pd.Series([x['STAT_DATE'].nunique(), x['DURATION'].sum(), x['TOTAL_DATA'].sum() / x['STAT_DATE'].nunique()], index=['sn', 'dur_sum', 'd']))\n",
    "\n",
    "    attr.sort_values('dur_sum', ascending=False, inplace=True)\n",
    "    return attr\n",
    "\n",
    "cluster_attr = user_grp.apply(func)\n",
    "cluster_attr.head(50)\n",
    "# cluster_attr.index\n",
    "\n",
    "# print(cluster_attr.index.names)\n",
    "# cluster_attr.loc['USER_ID']\n",
    "# cluster_attr[['sn', 'dur_sum']] = cluster_attr[['sn', 'dur_sum']].astype(int)\n",
    "\n",
    "# cluster_attr.sort_values('dur_sum', ascending=False, inplace=True)\n",
    "# cluster_attr.head(50)\n",
    "# cluster_attr.loc[(1377032, 0), 'sn']\n",
    "# for cid, cluster in cluster_grp:\n",
    "#     # print(cluster['STAT_DATE'])\n",
    "#     print(cluster['STAT_DATE'].nunique())\n",
    "#     # print(cluster['DURATION'])\n",
    "#     print(cluster['DURATION'].sum())\n",
    "#     print(cluster['TOTAL_DATA'].sum())\n",
    "#     print(cluster['TOTAL_DATA'].sum() / cluster['STAT_DATE'].nunique())\n",
    "#     break"
   ]
  },
  {
   "cell_type": "code",
   "execution_count": null,
   "metadata": {},
   "outputs": [],
   "source": [
    "from typing import Tuple\n",
    "def home_prob(cid, n):\n",
    "    sn = cluster_attr.loc[cid, 'sn']\n",
    "    sn_prob = sn / n \n",
    "    d = cluster_attr.loc[cid, 'd']\n",
    "    sum_d = cluster_attr.loc[cid[0], 'd'].sum()\n",
    "    d_prob = 0. if sum_d == 0. else d / sum_d\n",
    "    print(d_prob)\n",
    "    print(sn_prob)\n",
    "    return sn_prob + (1 - d_prob)\n",
    "    # sn_prob = cluster_attr.loc[cid, 'sn']\n",
    "home_prob((1377032, 0), 21)\n",
    "# print(cluster_attr.loc[1377032, 'd'].sum())\n"
   ]
  },
  {
   "cell_type": "code",
   "execution_count": null,
   "metadata": {},
   "outputs": [],
   "source": [
    "user_grp = df.groupby(['USER_ID'], sort=False)\n",
    "\n",
    "for uid, user in user_grp:\n",
    "    # c_grp = user.groupby(['CLUSTER_ID'], sort=False)\n",
    "    cluster = cluster_attr.loc[uid]\n",
    "    sss = cluster['dur_sum'].sum()\n",
    "    print(sss)\n",
    "    dur_sums = cluster['dur_sum'].values\n",
    "    # print(dur_sums)\n",
    "    # print(cluster.iloc[[0,1, 2]].index)\n",
    "    dd = 0\n",
    "    for i, dur_sum in enumerate( dur_sums):\n",
    "        print(i, dur_sum)\n",
    "    break"
   ]
  },
  {
   "cell_type": "code",
   "execution_count": 127,
   "metadata": {},
   "outputs": [
    {
     "output_type": "stream",
     "name": "stdout",
     "text": [
      "[[ 32.57567089 118.78719721]\n [ 32.56770851 118.78874347]\n [ 32.56205344 118.87286009]\n ...\n [ 31.24232641 118.84930304]\n [ 31.24232954 118.84938618]\n [ 31.24267898 119.0790029 ]]\n"
     ]
    }
   ],
   "source": [
    "%run ../idms_impl/poi.py\n",
    "poi_gen = POIGenerator()\n",
    "poi_gen.load_poi(filename=r'C:\\\\Users\\\\Scott\\\\Documents\\\\ECNU\\\\data\\\\poi\\\\nj_poi.csv')\n",
    "poi_gen.train_data(4)\n",
    "index = poi_gen.knn_model.kneighbors([[31.967434, 118.711093]], return_distance=False).flatten()\n"
   ]
  },
  {
   "cell_type": "code",
   "execution_count": 128,
   "metadata": {},
   "outputs": [
    {
     "output_type": "stream",
     "name": "stdout",
     "text": [
      "[100990  31120  69968  22312]\n"
     ]
    },
    {
     "output_type": "execute_result",
     "data": {
      "text/plain": [
       "[('商务住宅', 1), ('体育休闲服务', 1), ('公司企业', 1), ('住宿服务', 1)]"
      ]
     },
     "metadata": {},
     "execution_count": 128
    }
   ],
   "source": [
    "from collections import Counter\n",
    "print(index)\n",
    "ctg = poi_gen.poi_df.iloc[index, :3].values\n",
    "c = Counter(ctg[:, 0])\n",
    "c.most_common()"
   ]
  },
  {
   "cell_type": "code",
   "execution_count": 76,
   "metadata": {},
   "outputs": [
    {
     "output_type": "execute_result",
     "data": {
      "text/plain": [
       "     A    B         C         D  E  F\n",
       "0  foo  one -0.575247  1.346061  3  3\n",
       "1  bar  one  0.254161  1.511763  3  3"
      ],
      "text/html": "<div>\n<style scoped>\n    .dataframe tbody tr th:only-of-type {\n        vertical-align: middle;\n    }\n\n    .dataframe tbody tr th {\n        vertical-align: top;\n    }\n\n    .dataframe thead th {\n        text-align: right;\n    }\n</style>\n<table border=\"1\" class=\"dataframe\">\n  <thead>\n    <tr style=\"text-align: right;\">\n      <th></th>\n      <th>A</th>\n      <th>B</th>\n      <th>C</th>\n      <th>D</th>\n      <th>E</th>\n      <th>F</th>\n    </tr>\n  </thead>\n  <tbody>\n    <tr>\n      <th>0</th>\n      <td>foo</td>\n      <td>one</td>\n      <td>-0.575247</td>\n      <td>1.346061</td>\n      <td>3</td>\n      <td>3</td>\n    </tr>\n    <tr>\n      <th>1</th>\n      <td>bar</td>\n      <td>one</td>\n      <td>0.254161</td>\n      <td>1.511763</td>\n      <td>3</td>\n      <td>3</td>\n    </tr>\n  </tbody>\n</table>\n</div>"
     },
     "metadata": {},
     "execution_count": 76
    }
   ],
   "source": [
    "%run ../demo/algorithm.py\n",
    "df = df.iloc[:2]\n",
    "df\n",
    "df[['E', 'F']] = [3, 3]\n",
    "df"
   ]
  },
  {
   "cell_type": "code",
   "execution_count": 80,
   "metadata": {},
   "outputs": [
    {
     "output_type": "execute_result",
     "data": {
      "text/plain": [
       "A    1\n",
       "B    2\n",
       "E    3\n",
       "F    4\n",
       "dtype: int64"
      ]
     },
     "metadata": {},
     "execution_count": 80
    }
   ],
   "source": [
    "import pandas as pd\n",
    "import numpy as np \n",
    "s = pd.Series({'A': 1, 'B':2})\n",
    "# s[['E', 'F']] = [3, 4]\n",
    "s.append(pd.Series({'E': 3, 'F':4}))"
   ]
  },
  {
   "cell_type": "code",
   "execution_count": 37,
   "metadata": {},
   "outputs": [
    {
     "output_type": "stream",
     "name": "stdout",
     "text": [
      "dict_keys([1, 2, 3, 4])\n"
     ]
    },
    {
     "output_type": "execute_result",
     "data": {
      "text/plain": [
       "(array([], dtype=int64),)"
      ]
     },
     "metadata": {},
     "execution_count": 37
    }
   ],
   "source": [
    "from collections import Counter\n",
    "\n",
    "c = Counter([1, 1, 2, 3, 4])\n",
    "a = np.array([1, 2, 3, 3])\n",
    "print(c.keys())\n",
    "np.where(a == c.keys())"
   ]
  },
  {
   "cell_type": "code",
   "execution_count": 46,
   "metadata": {},
   "outputs": [
    {
     "output_type": "execute_result",
     "data": {
      "text/plain": [
       "A    1\n",
       "B    2\n",
       "C    3\n",
       "D    4\n",
       "E    5\n",
       "dtype: int64"
      ]
     },
     "metadata": {},
     "execution_count": 46
    }
   ],
   "source": [
    "ses = pd.Series([1, 2], index=['A', 'B'])\n",
    "poi = np.array([3, 4, 5])\n",
    "poi_ses = pd.Series(poi, index=['C', 'D', 'E'])\n",
    "ses.append(poi_ses)"
   ]
  }
 ]
}