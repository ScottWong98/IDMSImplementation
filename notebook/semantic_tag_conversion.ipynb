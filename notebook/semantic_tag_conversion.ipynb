{
 "metadata": {
  "language_info": {
   "codemirror_mode": {
    "name": "ipython",
    "version": 3
   },
   "file_extension": ".py",
   "mimetype": "text/x-python",
   "name": "python",
   "nbconvert_exporter": "python",
   "pygments_lexer": "ipython3",
   "version": "3.7.9-final"
  },
  "orig_nbformat": 2,
  "kernelspec": {
   "name": "python3",
   "display_name": "Python 3.7.9 64-bit ('idms': conda)",
   "metadata": {
    "interpreter": {
     "hash": "a8830a6b190e3a3c92b56a6e784dbbf42a0fce4581b5215dca1d6ad350969660"
    }
   }
  }
 },
 "nbformat": 4,
 "nbformat_minor": 2,
 "cells": [
  {
   "cell_type": "code",
   "execution_count": 1,
   "metadata": {},
   "outputs": [],
   "source": [
    "%load_ext autoreload\n",
    "%autoreload 1\n",
    "import sys\n",
    "sys.path.append(r'D:\\\\CodeRepository\\\\Python\\\\IDMSImplementation')\n",
    "%aimport idms_impl.trajectory_generator\n",
    "%aimport idms_impl.stop_area_mining\n",
    "%aimport idms_impl.semantic_tag_conversion"
   ]
  },
  {
   "cell_type": "code",
   "execution_count": 2,
   "metadata": {},
   "outputs": [
    {
     "output_type": "stream",
     "name": "stdout",
     "text": [
      "Finish it in 8.49606466293335s\n"
     ]
    }
   ],
   "source": [
    "orig_filename = r'C:\\Users\\Scott\\Documents\\ECNU\\data\\20201116\\9_user.csv'\n",
    "\n",
    "usecols = ['SUBSTR(MSISDN,1,7)', 'STAT_DATE', 'STIME', 'END_TIME', 'ZH_LABEL', 'LATITUDE', 'NUMBERITUDE', 'DURATION', 'DATA_TOTAL']\n",
    "name_mapper = {\n",
    "    \"SUBSTR(MSISDN,1,7)\": \"USER_ID\",\n",
    "    \"NUMBERITUDE\": \"LONGITUDE\",\n",
    "    \"DATA_TOTAL\": \"TOTAL_DATA\"\n",
    "}\n",
    "%run -m idms_impl.trajectory_generator\n",
    "\n",
    "import time\n",
    "\n",
    "start_time = time.time()\n",
    "\n",
    "tr_gen = TrajectoryGenerator()\n",
    "\n",
    "tr_gen.stop_area_mining(filename=orig_filename,\n",
    "                        usecols=usecols,\n",
    "                        name_mapper=name_mapper,\n",
    "                        nan_dur_theta=4 * 3600,\n",
    "                        dist_theta=5 / 111,\n",
    "                        point_dur_theta=20,\n",
    "                        eps=0.0036,\n",
    "                        min_dur=900)\n",
    "# tr_gen.sam.load_data(filename=orig_filename)\n",
    "\n",
    "# tr_gen.sam.format_raw_data(usecols=usecols, name_mapper={\n",
    "#     \"SUBSTR(MSISDN,1,7)\": \"USER_ID\",\n",
    "#     \"NUMBERITUDE\": \"LONGITUDE\",\n",
    "#     \"DATA_TOTAL\": \"TOTAL_DATA\"\n",
    "# })\n",
    "\n",
    "# tr_gen.sam.check_invalid_tr(nan_dur_theta=4 * 3600, dist_theta=5 / 111)\n",
    "\n",
    "# tr_gen.sam.gen_valid_area(point_dur_theta=20, eps=0.0036, min_dur=900)\n",
    "\n",
    "# tr_gen.sam.df.to_csv('../data/no_invalid_area.csv', encoding='gbk', index=False)\n",
    "# tr_gen.sam.merge_adjacent_points()\n",
    "\n",
    "# tr_gen.sam.df.to_csv('../data/sam.csv', encoding='gbk', index=False)\n",
    "\n",
    "end_time = time.time()\n",
    "print(f'Finish it in {end_time - start_time}s')"
   ]
  },
  {
   "cell_type": "code",
   "execution_count": null,
   "metadata": {},
   "outputs": [],
   "source": [
    "df = tr_gen.df.copy()"
   ]
  },
  {
   "cell_type": "code",
   "execution_count": 4,
   "metadata": {},
   "outputs": [],
   "source": [
    "tr_gen.semantic_tr_convertion()\n",
    "tr_gen.stc.main_area_mining(0.9)"
   ]
  },
  {
   "cell_type": "code",
   "execution_count": 5,
   "metadata": {},
   "outputs": [
    {
     "output_type": "execute_result",
     "data": {
      "text/plain": [
       "                      sn   dur_sum             d   type\n",
       "USER_ID CLUSTER_ID                                     \n",
       "1377032 0           21.0  858715.0  5.704966e+04   home\n",
       "        2           15.0  619153.0  2.381377e+05   work\n",
       "        22           3.0   96684.0  2.282841e+05  other\n",
       "        6            1.0   42723.0  4.337453e+05  other\n",
       "        10           1.0   34091.0  1.371225e+05  other\n",
       "        18           1.0   13850.0  7.231661e+04  other\n",
       "        1            1.0    9675.0  6.273438e+00  other\n",
       "        16           1.0    8490.0  8.855839e+03  other\n",
       "        14           1.0    8063.0  1.029362e+05  other\n",
       "        4            1.0    7159.0  5.760264e+02  other\n",
       "        3            1.0    3082.0  0.000000e+00  other\n",
       "        12           1.0    2043.0  5.350547e+02  other\n",
       "        23           1.0    2020.0  4.192142e+03  other\n",
       "        17           1.0    1953.0  1.995433e+05  other\n",
       "        20           1.0    1947.0  3.136719e+00  other\n",
       "        19           1.0    1854.0  1.251055e+02  other\n",
       "        15           1.0    1618.0  5.035967e+02  other\n",
       "        7            1.0    1557.0  0.000000e+00  other\n",
       "        21           1.0     941.0  4.130105e+03  other\n",
       "1381404 0           20.0  757234.0  4.015407e+04   home\n",
       "        9           14.0  591426.0  6.062908e+05  other\n",
       "        15           1.0   21851.0  7.684641e+04  other\n",
       "        10           2.0   13607.0  3.503865e+04  other\n",
       "        20           1.0   10555.0  5.609350e+03  other\n",
       "        18           1.0    7730.0  5.408926e+03  other\n",
       "        12           1.0    7695.0  4.831516e+03  other\n",
       "        16           1.0    5735.0  9.697400e+04  other\n",
       "        3            1.0    3361.0  1.781191e+02  other\n",
       "        19           1.0    3240.0  1.214035e+04  other\n",
       "        8            1.0    2324.0  1.747432e+03  other\n",
       "        1            1.0    2259.0  3.341584e+03  other\n",
       "        7            1.0    2254.0  1.070352e+02  other\n",
       "        17           1.0    1920.0  5.879643e+03  other\n",
       "        13           1.0    1131.0  2.663611e+04  other\n",
       "        11           1.0     935.0  1.129902e+04  other\n",
       "1385177 0           16.0  790589.0  1.176105e+05   home\n",
       "        10           9.0  256136.0  1.028829e+06   work\n",
       "        13           4.0   44321.0  1.514873e+04   work\n",
       "        12           2.0   43582.0  2.046330e+06  other\n",
       "        8            5.0   14642.0  4.301214e+04  other\n",
       "        22           1.0   14491.0  1.628245e+05  other\n",
       "        24           1.0   10022.0  6.060816e+03  other\n",
       "        9            2.0    7853.0  6.340904e+04  other\n",
       "        14           2.0    7089.0  6.285156e+00  other\n",
       "        16           1.0    6764.0  1.921491e+05  other\n",
       "        26           1.0    6516.0  9.480469e+00  other\n",
       "        6            2.0    6214.0  2.089173e+03  other\n",
       "        25           1.0    4225.0  1.828277e+04  other\n",
       "        19           1.0    2851.0  0.000000e+00  other\n",
       "        17           1.0    2384.0  0.000000e+00  other"
      ],
      "text/html": "<div>\n<style scoped>\n    .dataframe tbody tr th:only-of-type {\n        vertical-align: middle;\n    }\n\n    .dataframe tbody tr th {\n        vertical-align: top;\n    }\n\n    .dataframe thead th {\n        text-align: right;\n    }\n</style>\n<table border=\"1\" class=\"dataframe\">\n  <thead>\n    <tr style=\"text-align: right;\">\n      <th></th>\n      <th></th>\n      <th>sn</th>\n      <th>dur_sum</th>\n      <th>d</th>\n      <th>type</th>\n    </tr>\n    <tr>\n      <th>USER_ID</th>\n      <th>CLUSTER_ID</th>\n      <th></th>\n      <th></th>\n      <th></th>\n      <th></th>\n    </tr>\n  </thead>\n  <tbody>\n    <tr>\n      <th rowspan=\"19\" valign=\"top\">1377032</th>\n      <th>0</th>\n      <td>21.0</td>\n      <td>858715.0</td>\n      <td>5.704966e+04</td>\n      <td>home</td>\n    </tr>\n    <tr>\n      <th>2</th>\n      <td>15.0</td>\n      <td>619153.0</td>\n      <td>2.381377e+05</td>\n      <td>work</td>\n    </tr>\n    <tr>\n      <th>22</th>\n      <td>3.0</td>\n      <td>96684.0</td>\n      <td>2.282841e+05</td>\n      <td>other</td>\n    </tr>\n    <tr>\n      <th>6</th>\n      <td>1.0</td>\n      <td>42723.0</td>\n      <td>4.337453e+05</td>\n      <td>other</td>\n    </tr>\n    <tr>\n      <th>10</th>\n      <td>1.0</td>\n      <td>34091.0</td>\n      <td>1.371225e+05</td>\n      <td>other</td>\n    </tr>\n    <tr>\n      <th>18</th>\n      <td>1.0</td>\n      <td>13850.0</td>\n      <td>7.231661e+04</td>\n      <td>other</td>\n    </tr>\n    <tr>\n      <th>1</th>\n      <td>1.0</td>\n      <td>9675.0</td>\n      <td>6.273438e+00</td>\n      <td>other</td>\n    </tr>\n    <tr>\n      <th>16</th>\n      <td>1.0</td>\n      <td>8490.0</td>\n      <td>8.855839e+03</td>\n      <td>other</td>\n    </tr>\n    <tr>\n      <th>14</th>\n      <td>1.0</td>\n      <td>8063.0</td>\n      <td>1.029362e+05</td>\n      <td>other</td>\n    </tr>\n    <tr>\n      <th>4</th>\n      <td>1.0</td>\n      <td>7159.0</td>\n      <td>5.760264e+02</td>\n      <td>other</td>\n    </tr>\n    <tr>\n      <th>3</th>\n      <td>1.0</td>\n      <td>3082.0</td>\n      <td>0.000000e+00</td>\n      <td>other</td>\n    </tr>\n    <tr>\n      <th>12</th>\n      <td>1.0</td>\n      <td>2043.0</td>\n      <td>5.350547e+02</td>\n      <td>other</td>\n    </tr>\n    <tr>\n      <th>23</th>\n      <td>1.0</td>\n      <td>2020.0</td>\n      <td>4.192142e+03</td>\n      <td>other</td>\n    </tr>\n    <tr>\n      <th>17</th>\n      <td>1.0</td>\n      <td>1953.0</td>\n      <td>1.995433e+05</td>\n      <td>other</td>\n    </tr>\n    <tr>\n      <th>20</th>\n      <td>1.0</td>\n      <td>1947.0</td>\n      <td>3.136719e+00</td>\n      <td>other</td>\n    </tr>\n    <tr>\n      <th>19</th>\n      <td>1.0</td>\n      <td>1854.0</td>\n      <td>1.251055e+02</td>\n      <td>other</td>\n    </tr>\n    <tr>\n      <th>15</th>\n      <td>1.0</td>\n      <td>1618.0</td>\n      <td>5.035967e+02</td>\n      <td>other</td>\n    </tr>\n    <tr>\n      <th>7</th>\n      <td>1.0</td>\n      <td>1557.0</td>\n      <td>0.000000e+00</td>\n      <td>other</td>\n    </tr>\n    <tr>\n      <th>21</th>\n      <td>1.0</td>\n      <td>941.0</td>\n      <td>4.130105e+03</td>\n      <td>other</td>\n    </tr>\n    <tr>\n      <th rowspan=\"16\" valign=\"top\">1381404</th>\n      <th>0</th>\n      <td>20.0</td>\n      <td>757234.0</td>\n      <td>4.015407e+04</td>\n      <td>home</td>\n    </tr>\n    <tr>\n      <th>9</th>\n      <td>14.0</td>\n      <td>591426.0</td>\n      <td>6.062908e+05</td>\n      <td>other</td>\n    </tr>\n    <tr>\n      <th>15</th>\n      <td>1.0</td>\n      <td>21851.0</td>\n      <td>7.684641e+04</td>\n      <td>other</td>\n    </tr>\n    <tr>\n      <th>10</th>\n      <td>2.0</td>\n      <td>13607.0</td>\n      <td>3.503865e+04</td>\n      <td>other</td>\n    </tr>\n    <tr>\n      <th>20</th>\n      <td>1.0</td>\n      <td>10555.0</td>\n      <td>5.609350e+03</td>\n      <td>other</td>\n    </tr>\n    <tr>\n      <th>18</th>\n      <td>1.0</td>\n      <td>7730.0</td>\n      <td>5.408926e+03</td>\n      <td>other</td>\n    </tr>\n    <tr>\n      <th>12</th>\n      <td>1.0</td>\n      <td>7695.0</td>\n      <td>4.831516e+03</td>\n      <td>other</td>\n    </tr>\n    <tr>\n      <th>16</th>\n      <td>1.0</td>\n      <td>5735.0</td>\n      <td>9.697400e+04</td>\n      <td>other</td>\n    </tr>\n    <tr>\n      <th>3</th>\n      <td>1.0</td>\n      <td>3361.0</td>\n      <td>1.781191e+02</td>\n      <td>other</td>\n    </tr>\n    <tr>\n      <th>19</th>\n      <td>1.0</td>\n      <td>3240.0</td>\n      <td>1.214035e+04</td>\n      <td>other</td>\n    </tr>\n    <tr>\n      <th>8</th>\n      <td>1.0</td>\n      <td>2324.0</td>\n      <td>1.747432e+03</td>\n      <td>other</td>\n    </tr>\n    <tr>\n      <th>1</th>\n      <td>1.0</td>\n      <td>2259.0</td>\n      <td>3.341584e+03</td>\n      <td>other</td>\n    </tr>\n    <tr>\n      <th>7</th>\n      <td>1.0</td>\n      <td>2254.0</td>\n      <td>1.070352e+02</td>\n      <td>other</td>\n    </tr>\n    <tr>\n      <th>17</th>\n      <td>1.0</td>\n      <td>1920.0</td>\n      <td>5.879643e+03</td>\n      <td>other</td>\n    </tr>\n    <tr>\n      <th>13</th>\n      <td>1.0</td>\n      <td>1131.0</td>\n      <td>2.663611e+04</td>\n      <td>other</td>\n    </tr>\n    <tr>\n      <th>11</th>\n      <td>1.0</td>\n      <td>935.0</td>\n      <td>1.129902e+04</td>\n      <td>other</td>\n    </tr>\n    <tr>\n      <th rowspan=\"15\" valign=\"top\">1385177</th>\n      <th>0</th>\n      <td>16.0</td>\n      <td>790589.0</td>\n      <td>1.176105e+05</td>\n      <td>home</td>\n    </tr>\n    <tr>\n      <th>10</th>\n      <td>9.0</td>\n      <td>256136.0</td>\n      <td>1.028829e+06</td>\n      <td>work</td>\n    </tr>\n    <tr>\n      <th>13</th>\n      <td>4.0</td>\n      <td>44321.0</td>\n      <td>1.514873e+04</td>\n      <td>work</td>\n    </tr>\n    <tr>\n      <th>12</th>\n      <td>2.0</td>\n      <td>43582.0</td>\n      <td>2.046330e+06</td>\n      <td>other</td>\n    </tr>\n    <tr>\n      <th>8</th>\n      <td>5.0</td>\n      <td>14642.0</td>\n      <td>4.301214e+04</td>\n      <td>other</td>\n    </tr>\n    <tr>\n      <th>22</th>\n      <td>1.0</td>\n      <td>14491.0</td>\n      <td>1.628245e+05</td>\n      <td>other</td>\n    </tr>\n    <tr>\n      <th>24</th>\n      <td>1.0</td>\n      <td>10022.0</td>\n      <td>6.060816e+03</td>\n      <td>other</td>\n    </tr>\n    <tr>\n      <th>9</th>\n      <td>2.0</td>\n      <td>7853.0</td>\n      <td>6.340904e+04</td>\n      <td>other</td>\n    </tr>\n    <tr>\n      <th>14</th>\n      <td>2.0</td>\n      <td>7089.0</td>\n      <td>6.285156e+00</td>\n      <td>other</td>\n    </tr>\n    <tr>\n      <th>16</th>\n      <td>1.0</td>\n      <td>6764.0</td>\n      <td>1.921491e+05</td>\n      <td>other</td>\n    </tr>\n    <tr>\n      <th>26</th>\n      <td>1.0</td>\n      <td>6516.0</td>\n      <td>9.480469e+00</td>\n      <td>other</td>\n    </tr>\n    <tr>\n      <th>6</th>\n      <td>2.0</td>\n      <td>6214.0</td>\n      <td>2.089173e+03</td>\n      <td>other</td>\n    </tr>\n    <tr>\n      <th>25</th>\n      <td>1.0</td>\n      <td>4225.0</td>\n      <td>1.828277e+04</td>\n      <td>other</td>\n    </tr>\n    <tr>\n      <th>19</th>\n      <td>1.0</td>\n      <td>2851.0</td>\n      <td>0.000000e+00</td>\n      <td>other</td>\n    </tr>\n    <tr>\n      <th>17</th>\n      <td>1.0</td>\n      <td>2384.0</td>\n      <td>0.000000e+00</td>\n      <td>other</td>\n    </tr>\n  </tbody>\n</table>\n</div>"
     },
     "metadata": {},
     "execution_count": 5
    }
   ],
   "source": [
    "tr_gen.stc.cluster_attr.head(50)"
   ]
  },
  {
   "cell_type": "code",
   "execution_count": 201,
   "metadata": {},
   "outputs": [
    {
     "output_type": "stream",
     "name": "stdout",
     "text": [
      "other\n"
     ]
    },
    {
     "output_type": "execute_result",
     "data": {
      "text/plain": [
       "                      sn   dur_sum             d   type\n",
       "USER_ID CLUSTER_ID                                     \n",
       "1377032 0           21.0  858715.0  5.704966e+04   home\n",
       "        2           15.0  619153.0  2.381377e+05   work\n",
       "        22           3.0   96684.0  2.282841e+05  other\n",
       "        6            1.0   42723.0  4.337453e+05  other\n",
       "        10           1.0   34091.0  1.371225e+05  other\n",
       "        18           1.0   13850.0  7.231661e+04  other\n",
       "        1            1.0    9675.0  6.273438e+00  other\n",
       "        16           1.0    8490.0  8.855839e+03  other\n",
       "        14           1.0    8063.0  1.029362e+05  other\n",
       "        4            1.0    7159.0  5.760264e+02  other\n",
       "        3            1.0    3082.0  0.000000e+00  other\n",
       "        12           1.0    2043.0  5.350547e+02  other\n",
       "        23           1.0    2020.0  4.192142e+03  other\n",
       "        17           1.0    1953.0  1.995433e+05  other\n",
       "        20           1.0    1947.0  3.136719e+00  other\n",
       "        19           1.0    1854.0  1.251055e+02  other\n",
       "        15           1.0    1618.0  5.035967e+02  other\n",
       "        7            1.0    1557.0  0.000000e+00  other\n",
       "        21           1.0     941.0  4.130105e+03  other\n",
       "1381404 0           20.0  757234.0  4.015407e+04   home\n",
       "        9           14.0  591426.0  6.062908e+05  other\n",
       "        15           1.0   21851.0  7.684641e+04  other\n",
       "        10           2.0   13607.0  3.503865e+04  other\n",
       "        20           1.0   10555.0  5.609350e+03  other\n",
       "        18           1.0    7730.0  5.408926e+03  other\n",
       "        12           1.0    7695.0  4.831516e+03  other\n",
       "        16           1.0    5735.0  9.697400e+04  other\n",
       "        3            1.0    3361.0  1.781191e+02  other\n",
       "        19           1.0    3240.0  1.214035e+04  other\n",
       "        8            1.0    2324.0  1.747432e+03  other\n",
       "        1            1.0    2259.0  3.341584e+03  other\n",
       "        7            1.0    2254.0  1.070352e+02  other\n",
       "        17           1.0    1920.0  5.879643e+03  other\n",
       "        13           1.0    1131.0  2.663611e+04  other\n",
       "        11           1.0     935.0  1.129902e+04  other\n",
       "1385177 0           16.0  790589.0  1.176105e+05   home\n",
       "        10           9.0  256136.0  1.028829e+06   work\n",
       "        13           4.0   44321.0  1.514873e+04   work\n",
       "        12           2.0   43582.0  2.046330e+06  other\n",
       "        8            5.0   14642.0  4.301214e+04  other\n",
       "        22           1.0   14491.0  1.628245e+05  other\n",
       "        24           1.0   10022.0  6.060816e+03  other\n",
       "        9            2.0    7853.0  6.340904e+04  other\n",
       "        14           2.0    7089.0  6.285156e+00  other\n",
       "        16           1.0    6764.0  1.921491e+05  other\n",
       "        26           1.0    6516.0  9.480469e+00  other\n",
       "        6            2.0    6214.0  2.089173e+03  other\n",
       "        25           1.0    4225.0  1.828277e+04  other\n",
       "        19           1.0    2851.0  0.000000e+00  other\n",
       "        17           1.0    2384.0  0.000000e+00  other"
      ],
      "text/html": "<div>\n<style scoped>\n    .dataframe tbody tr th:only-of-type {\n        vertical-align: middle;\n    }\n\n    .dataframe tbody tr th {\n        vertical-align: top;\n    }\n\n    .dataframe thead th {\n        text-align: right;\n    }\n</style>\n<table border=\"1\" class=\"dataframe\">\n  <thead>\n    <tr style=\"text-align: right;\">\n      <th></th>\n      <th></th>\n      <th>sn</th>\n      <th>dur_sum</th>\n      <th>d</th>\n      <th>type</th>\n    </tr>\n    <tr>\n      <th>USER_ID</th>\n      <th>CLUSTER_ID</th>\n      <th></th>\n      <th></th>\n      <th></th>\n      <th></th>\n    </tr>\n  </thead>\n  <tbody>\n    <tr>\n      <th rowspan=\"19\" valign=\"top\">1377032</th>\n      <th>0</th>\n      <td>21.0</td>\n      <td>858715.0</td>\n      <td>5.704966e+04</td>\n      <td>home</td>\n    </tr>\n    <tr>\n      <th>2</th>\n      <td>15.0</td>\n      <td>619153.0</td>\n      <td>2.381377e+05</td>\n      <td>work</td>\n    </tr>\n    <tr>\n      <th>22</th>\n      <td>3.0</td>\n      <td>96684.0</td>\n      <td>2.282841e+05</td>\n      <td>other</td>\n    </tr>\n    <tr>\n      <th>6</th>\n      <td>1.0</td>\n      <td>42723.0</td>\n      <td>4.337453e+05</td>\n      <td>other</td>\n    </tr>\n    <tr>\n      <th>10</th>\n      <td>1.0</td>\n      <td>34091.0</td>\n      <td>1.371225e+05</td>\n      <td>other</td>\n    </tr>\n    <tr>\n      <th>18</th>\n      <td>1.0</td>\n      <td>13850.0</td>\n      <td>7.231661e+04</td>\n      <td>other</td>\n    </tr>\n    <tr>\n      <th>1</th>\n      <td>1.0</td>\n      <td>9675.0</td>\n      <td>6.273438e+00</td>\n      <td>other</td>\n    </tr>\n    <tr>\n      <th>16</th>\n      <td>1.0</td>\n      <td>8490.0</td>\n      <td>8.855839e+03</td>\n      <td>other</td>\n    </tr>\n    <tr>\n      <th>14</th>\n      <td>1.0</td>\n      <td>8063.0</td>\n      <td>1.029362e+05</td>\n      <td>other</td>\n    </tr>\n    <tr>\n      <th>4</th>\n      <td>1.0</td>\n      <td>7159.0</td>\n      <td>5.760264e+02</td>\n      <td>other</td>\n    </tr>\n    <tr>\n      <th>3</th>\n      <td>1.0</td>\n      <td>3082.0</td>\n      <td>0.000000e+00</td>\n      <td>other</td>\n    </tr>\n    <tr>\n      <th>12</th>\n      <td>1.0</td>\n      <td>2043.0</td>\n      <td>5.350547e+02</td>\n      <td>other</td>\n    </tr>\n    <tr>\n      <th>23</th>\n      <td>1.0</td>\n      <td>2020.0</td>\n      <td>4.192142e+03</td>\n      <td>other</td>\n    </tr>\n    <tr>\n      <th>17</th>\n      <td>1.0</td>\n      <td>1953.0</td>\n      <td>1.995433e+05</td>\n      <td>other</td>\n    </tr>\n    <tr>\n      <th>20</th>\n      <td>1.0</td>\n      <td>1947.0</td>\n      <td>3.136719e+00</td>\n      <td>other</td>\n    </tr>\n    <tr>\n      <th>19</th>\n      <td>1.0</td>\n      <td>1854.0</td>\n      <td>1.251055e+02</td>\n      <td>other</td>\n    </tr>\n    <tr>\n      <th>15</th>\n      <td>1.0</td>\n      <td>1618.0</td>\n      <td>5.035967e+02</td>\n      <td>other</td>\n    </tr>\n    <tr>\n      <th>7</th>\n      <td>1.0</td>\n      <td>1557.0</td>\n      <td>0.000000e+00</td>\n      <td>other</td>\n    </tr>\n    <tr>\n      <th>21</th>\n      <td>1.0</td>\n      <td>941.0</td>\n      <td>4.130105e+03</td>\n      <td>other</td>\n    </tr>\n    <tr>\n      <th rowspan=\"16\" valign=\"top\">1381404</th>\n      <th>0</th>\n      <td>20.0</td>\n      <td>757234.0</td>\n      <td>4.015407e+04</td>\n      <td>home</td>\n    </tr>\n    <tr>\n      <th>9</th>\n      <td>14.0</td>\n      <td>591426.0</td>\n      <td>6.062908e+05</td>\n      <td>other</td>\n    </tr>\n    <tr>\n      <th>15</th>\n      <td>1.0</td>\n      <td>21851.0</td>\n      <td>7.684641e+04</td>\n      <td>other</td>\n    </tr>\n    <tr>\n      <th>10</th>\n      <td>2.0</td>\n      <td>13607.0</td>\n      <td>3.503865e+04</td>\n      <td>other</td>\n    </tr>\n    <tr>\n      <th>20</th>\n      <td>1.0</td>\n      <td>10555.0</td>\n      <td>5.609350e+03</td>\n      <td>other</td>\n    </tr>\n    <tr>\n      <th>18</th>\n      <td>1.0</td>\n      <td>7730.0</td>\n      <td>5.408926e+03</td>\n      <td>other</td>\n    </tr>\n    <tr>\n      <th>12</th>\n      <td>1.0</td>\n      <td>7695.0</td>\n      <td>4.831516e+03</td>\n      <td>other</td>\n    </tr>\n    <tr>\n      <th>16</th>\n      <td>1.0</td>\n      <td>5735.0</td>\n      <td>9.697400e+04</td>\n      <td>other</td>\n    </tr>\n    <tr>\n      <th>3</th>\n      <td>1.0</td>\n      <td>3361.0</td>\n      <td>1.781191e+02</td>\n      <td>other</td>\n    </tr>\n    <tr>\n      <th>19</th>\n      <td>1.0</td>\n      <td>3240.0</td>\n      <td>1.214035e+04</td>\n      <td>other</td>\n    </tr>\n    <tr>\n      <th>8</th>\n      <td>1.0</td>\n      <td>2324.0</td>\n      <td>1.747432e+03</td>\n      <td>other</td>\n    </tr>\n    <tr>\n      <th>1</th>\n      <td>1.0</td>\n      <td>2259.0</td>\n      <td>3.341584e+03</td>\n      <td>other</td>\n    </tr>\n    <tr>\n      <th>7</th>\n      <td>1.0</td>\n      <td>2254.0</td>\n      <td>1.070352e+02</td>\n      <td>other</td>\n    </tr>\n    <tr>\n      <th>17</th>\n      <td>1.0</td>\n      <td>1920.0</td>\n      <td>5.879643e+03</td>\n      <td>other</td>\n    </tr>\n    <tr>\n      <th>13</th>\n      <td>1.0</td>\n      <td>1131.0</td>\n      <td>2.663611e+04</td>\n      <td>other</td>\n    </tr>\n    <tr>\n      <th>11</th>\n      <td>1.0</td>\n      <td>935.0</td>\n      <td>1.129902e+04</td>\n      <td>other</td>\n    </tr>\n    <tr>\n      <th rowspan=\"15\" valign=\"top\">1385177</th>\n      <th>0</th>\n      <td>16.0</td>\n      <td>790589.0</td>\n      <td>1.176105e+05</td>\n      <td>home</td>\n    </tr>\n    <tr>\n      <th>10</th>\n      <td>9.0</td>\n      <td>256136.0</td>\n      <td>1.028829e+06</td>\n      <td>work</td>\n    </tr>\n    <tr>\n      <th>13</th>\n      <td>4.0</td>\n      <td>44321.0</td>\n      <td>1.514873e+04</td>\n      <td>work</td>\n    </tr>\n    <tr>\n      <th>12</th>\n      <td>2.0</td>\n      <td>43582.0</td>\n      <td>2.046330e+06</td>\n      <td>other</td>\n    </tr>\n    <tr>\n      <th>8</th>\n      <td>5.0</td>\n      <td>14642.0</td>\n      <td>4.301214e+04</td>\n      <td>other</td>\n    </tr>\n    <tr>\n      <th>22</th>\n      <td>1.0</td>\n      <td>14491.0</td>\n      <td>1.628245e+05</td>\n      <td>other</td>\n    </tr>\n    <tr>\n      <th>24</th>\n      <td>1.0</td>\n      <td>10022.0</td>\n      <td>6.060816e+03</td>\n      <td>other</td>\n    </tr>\n    <tr>\n      <th>9</th>\n      <td>2.0</td>\n      <td>7853.0</td>\n      <td>6.340904e+04</td>\n      <td>other</td>\n    </tr>\n    <tr>\n      <th>14</th>\n      <td>2.0</td>\n      <td>7089.0</td>\n      <td>6.285156e+00</td>\n      <td>other</td>\n    </tr>\n    <tr>\n      <th>16</th>\n      <td>1.0</td>\n      <td>6764.0</td>\n      <td>1.921491e+05</td>\n      <td>other</td>\n    </tr>\n    <tr>\n      <th>26</th>\n      <td>1.0</td>\n      <td>6516.0</td>\n      <td>9.480469e+00</td>\n      <td>other</td>\n    </tr>\n    <tr>\n      <th>6</th>\n      <td>2.0</td>\n      <td>6214.0</td>\n      <td>2.089173e+03</td>\n      <td>other</td>\n    </tr>\n    <tr>\n      <th>25</th>\n      <td>1.0</td>\n      <td>4225.0</td>\n      <td>1.828277e+04</td>\n      <td>other</td>\n    </tr>\n    <tr>\n      <th>19</th>\n      <td>1.0</td>\n      <td>2851.0</td>\n      <td>0.000000e+00</td>\n      <td>other</td>\n    </tr>\n    <tr>\n      <th>17</th>\n      <td>1.0</td>\n      <td>2384.0</td>\n      <td>0.000000e+00</td>\n      <td>other</td>\n    </tr>\n  </tbody>\n</table>\n</div>"
     },
     "metadata": {},
     "execution_count": 201
    }
   ],
   "source": [
    "user_grp = df.groupby(['USER_ID'], sort=False)\n",
    "\n",
    "def gen_cluster_attr(user):\n",
    "    cluster_grp = user.groupby(['CLUSTER_ID'], sort=False)\n",
    "    attr = cluster_grp.apply(lambda x: pd.Series([x['STAT_DATE'].nunique(), x['DURATION'].sum(), x['TOTAL_DATA'].sum() / x['STAT_DATE'].nunique()], index=['sn', 'dur_sum', 'd']))\n",
    "    attr.sort_values('dur_sum', ascending=False, inplace=True)\n",
    "    return attr\n",
    "\n",
    "cluster_attr = user_grp.apply(gen_cluster_attr)\n",
    "cluster_attr['type'] = np.array(['other'] * cluster_attr.shape[0])\n",
    "\n",
    "def home_prob(cid, n):\n",
    "    sn = cluster_attr.loc[cid, 'sn']\n",
    "    sn_prob = sn / n \n",
    "    d = cluster_attr.loc[cid, 'd']\n",
    "    sum_d = cluster_attr.loc[cid[0], 'd'].sum()\n",
    "    d_prob = 0. if sum_d == 0. else d / sum_d\n",
    "    return sn_prob + (1 - d_prob)\n",
    "\n",
    "def gen_main_area(user):\n",
    "    \n",
    "    n = user['STAT_DATE'].nunique()\n",
    "    uid = user.iloc[0, 0]\n",
    "    dur_sum_in_user = cluster_attr.loc[uid, 'dur_sum'].sum()\n",
    "    \n",
    "    cur_cluster_attr = cluster_attr.loc[uid]\n",
    "\n",
    "    sr_list = []\n",
    "    tmp_dur_sum = 0\n",
    "    for cluster_id, row in cur_cluster_attr.T.iteritems():\n",
    "        tmp_dur_sum += row['dur_sum']\n",
    "        if tmp_dur_sum / dur_sum_in_user <= theta:\n",
    "            sr_list.append((uid, cluster_id))\n",
    "    n_sr = len(sr_list)\n",
    "    # print(sr_list)\n",
    "\n",
    "    if n_sr == 1:\n",
    "        cluster_attr.loc[sr_list[0], 'type'] = 'home'\n",
    "    elif n_sr == 2:\n",
    "        if home_prob(sr_list[0], n) > home_prob(sr_list[1], n):\n",
    "            cluster_attr.loc[sr_list[0], 'type'] = 'home'\n",
    "            cluster_attr.loc[sr_list[1], 'type'] = 'work'\n",
    "        else:\n",
    "            cluster_attr.loc[sr_list[0], 'type'] = 'work'\n",
    "            cluster_attr.loc[sr_list[1], 'type'] = 'home'\n",
    "    elif n_sr == 3:\n",
    "        d0 = cluster_attr.loc[sr_list[0], 'd']\n",
    "        d1 = cluster_attr.loc[sr_list[1], 'd']\n",
    "        d2 = cluster_attr.loc[sr_list[2], 'd']\n",
    "        if d0 > (d1 + d2) / 2:\n",
    "            cluster_attr.loc[sr_list[0], 'type'] = 'work'\n",
    "            cluster_attr.loc[sr_list[1], 'type'] = 'home'\n",
    "            cluster_attr.loc[sr_list[2], 'type'] = 'home'\n",
    "        else:\n",
    "            cluster_attr.loc[sr_list[0], 'type'] = 'home'\n",
    "            cluster_attr.loc[sr_list[1], 'type'] = 'work'\n",
    "            cluster_attr.loc[sr_list[2], 'type'] = 'work'\n",
    "        \n",
    "theta = 0.9\n",
    "\n",
    "# for uid, user in user_grp:\n",
    "#     gen_main_area(user)\n",
    "user_grp.apply(gen_main_area)\n"
   ]
  },
  {
   "cell_type": "code",
   "execution_count": 151,
   "metadata": {},
   "outputs": [
    {
     "output_type": "execute_result",
     "data": {
      "text/plain": [
       "                      sn   dur_sum              d\n",
       "USER_ID CLUSTER_ID                               \n",
       "1377032 0           21.0  858715.0   57049.663830\n",
       "        2           15.0  619153.0  238137.694661\n",
       "        22           3.0   96684.0  228284.142578\n",
       "        6            1.0   42723.0  433745.323242\n",
       "        10           1.0   34091.0  137122.463867\n",
       "        18           1.0   13850.0   72316.613281\n",
       "        1            1.0    9675.0       6.273438\n",
       "        16           1.0    8490.0    8855.838867\n",
       "        14           1.0    8063.0  102936.178711\n",
       "        4            1.0    7159.0     576.026367\n",
       "        3            1.0    3082.0       0.000000\n",
       "        12           1.0    2043.0     535.054688\n",
       "        23           1.0    2020.0    4192.141602\n",
       "        17           1.0    1953.0  199543.294922\n",
       "        20           1.0    1947.0       3.136719\n",
       "        19           1.0    1854.0     125.105469\n",
       "        15           1.0    1618.0     503.596680\n",
       "        7            1.0    1557.0       0.000000\n",
       "        21           1.0     941.0    4130.105469\n",
       "1381404 0           20.0  757234.0   40154.070947"
      ],
      "text/html": "<div>\n<style scoped>\n    .dataframe tbody tr th:only-of-type {\n        vertical-align: middle;\n    }\n\n    .dataframe tbody tr th {\n        vertical-align: top;\n    }\n\n    .dataframe thead th {\n        text-align: right;\n    }\n</style>\n<table border=\"1\" class=\"dataframe\">\n  <thead>\n    <tr style=\"text-align: right;\">\n      <th></th>\n      <th></th>\n      <th>sn</th>\n      <th>dur_sum</th>\n      <th>d</th>\n    </tr>\n    <tr>\n      <th>USER_ID</th>\n      <th>CLUSTER_ID</th>\n      <th></th>\n      <th></th>\n      <th></th>\n    </tr>\n  </thead>\n  <tbody>\n    <tr>\n      <th rowspan=\"19\" valign=\"top\">1377032</th>\n      <th>0</th>\n      <td>21.0</td>\n      <td>858715.0</td>\n      <td>57049.663830</td>\n    </tr>\n    <tr>\n      <th>2</th>\n      <td>15.0</td>\n      <td>619153.0</td>\n      <td>238137.694661</td>\n    </tr>\n    <tr>\n      <th>22</th>\n      <td>3.0</td>\n      <td>96684.0</td>\n      <td>228284.142578</td>\n    </tr>\n    <tr>\n      <th>6</th>\n      <td>1.0</td>\n      <td>42723.0</td>\n      <td>433745.323242</td>\n    </tr>\n    <tr>\n      <th>10</th>\n      <td>1.0</td>\n      <td>34091.0</td>\n      <td>137122.463867</td>\n    </tr>\n    <tr>\n      <th>18</th>\n      <td>1.0</td>\n      <td>13850.0</td>\n      <td>72316.613281</td>\n    </tr>\n    <tr>\n      <th>1</th>\n      <td>1.0</td>\n      <td>9675.0</td>\n      <td>6.273438</td>\n    </tr>\n    <tr>\n      <th>16</th>\n      <td>1.0</td>\n      <td>8490.0</td>\n      <td>8855.838867</td>\n    </tr>\n    <tr>\n      <th>14</th>\n      <td>1.0</td>\n      <td>8063.0</td>\n      <td>102936.178711</td>\n    </tr>\n    <tr>\n      <th>4</th>\n      <td>1.0</td>\n      <td>7159.0</td>\n      <td>576.026367</td>\n    </tr>\n    <tr>\n      <th>3</th>\n      <td>1.0</td>\n      <td>3082.0</td>\n      <td>0.000000</td>\n    </tr>\n    <tr>\n      <th>12</th>\n      <td>1.0</td>\n      <td>2043.0</td>\n      <td>535.054688</td>\n    </tr>\n    <tr>\n      <th>23</th>\n      <td>1.0</td>\n      <td>2020.0</td>\n      <td>4192.141602</td>\n    </tr>\n    <tr>\n      <th>17</th>\n      <td>1.0</td>\n      <td>1953.0</td>\n      <td>199543.294922</td>\n    </tr>\n    <tr>\n      <th>20</th>\n      <td>1.0</td>\n      <td>1947.0</td>\n      <td>3.136719</td>\n    </tr>\n    <tr>\n      <th>19</th>\n      <td>1.0</td>\n      <td>1854.0</td>\n      <td>125.105469</td>\n    </tr>\n    <tr>\n      <th>15</th>\n      <td>1.0</td>\n      <td>1618.0</td>\n      <td>503.596680</td>\n    </tr>\n    <tr>\n      <th>7</th>\n      <td>1.0</td>\n      <td>1557.0</td>\n      <td>0.000000</td>\n    </tr>\n    <tr>\n      <th>21</th>\n      <td>1.0</td>\n      <td>941.0</td>\n      <td>4130.105469</td>\n    </tr>\n    <tr>\n      <th>1381404</th>\n      <th>0</th>\n      <td>20.0</td>\n      <td>757234.0</td>\n      <td>40154.070947</td>\n    </tr>\n  </tbody>\n</table>\n</div>"
     },
     "metadata": {},
     "execution_count": 151
    }
   ],
   "source": [
    "cluster_attr.head(20)"
   ]
  },
  {
   "cell_type": "code",
   "execution_count": null,
   "metadata": {
    "tags": []
   },
   "outputs": [],
   "source": [
    "\n",
    "# cluster_grp = df.groupby(['USER_ID', 'CLUSTER_ID'], sort=False)\n",
    "# def func(cluster):\n",
    "#     series = pd.Series([cluster['STAT_DATE'].nunique(), cluster['DURATION'].sum(), cluster['TOTAL_DATA'].sum() / cluster['STAT_DATE'].nunique()], index=['sn', 'dur_sum', 'd'])\n",
    "#     return series\n",
    "# cluster_attr = cluster_grp.apply(func)\n",
    "\n",
    "\n",
    "user_grp = df.groupby(['USER_ID'], sort=False)\n",
    "\n",
    "def func(user):\n",
    "\n",
    "    c_grp = user.groupby(['CLUSTER_ID'], sort=False)\n",
    "    \n",
    "    attr = c_grp.apply(lambda x: pd.Series([x['STAT_DATE'].nunique(), x['DURATION'].sum(), x['TOTAL_DATA'].sum() / x['STAT_DATE'].nunique()], index=['sn', 'dur_sum', 'd']))\n",
    "\n",
    "    attr.sort_values('dur_sum', ascending=False, inplace=True)\n",
    "    return attr\n",
    "\n",
    "cluster_attr = user_grp.apply(func)\n",
    "cluster_attr.head(50)\n",
    "# cluster_attr.index\n",
    "\n",
    "# print(cluster_attr.index.names)\n",
    "# cluster_attr.loc['USER_ID']\n",
    "# cluster_attr[['sn', 'dur_sum']] = cluster_attr[['sn', 'dur_sum']].astype(int)\n",
    "\n",
    "# cluster_attr.sort_values('dur_sum', ascending=False, inplace=True)\n",
    "# cluster_attr.head(50)\n",
    "# cluster_attr.loc[(1377032, 0), 'sn']\n",
    "# for cid, cluster in cluster_grp:\n",
    "#     # print(cluster['STAT_DATE'])\n",
    "#     print(cluster['STAT_DATE'].nunique())\n",
    "#     # print(cluster['DURATION'])\n",
    "#     print(cluster['DURATION'].sum())\n",
    "#     print(cluster['TOTAL_DATA'].sum())\n",
    "#     print(cluster['TOTAL_DATA'].sum() / cluster['STAT_DATE'].nunique())\n",
    "#     break"
   ]
  },
  {
   "cell_type": "code",
   "execution_count": null,
   "metadata": {},
   "outputs": [],
   "source": [
    "from typing import Tuple\n",
    "def home_prob(cid, n):\n",
    "    sn = cluster_attr.loc[cid, 'sn']\n",
    "    sn_prob = sn / n \n",
    "    d = cluster_attr.loc[cid, 'd']\n",
    "    sum_d = cluster_attr.loc[cid[0], 'd'].sum()\n",
    "    d_prob = 0. if sum_d == 0. else d / sum_d\n",
    "    print(d_prob)\n",
    "    print(sn_prob)\n",
    "    return sn_prob + (1 - d_prob)\n",
    "    # sn_prob = cluster_attr.loc[cid, 'sn']\n",
    "home_prob((1377032, 0), 21)\n",
    "# print(cluster_attr.loc[1377032, 'd'].sum())\n"
   ]
  },
  {
   "cell_type": "code",
   "execution_count": null,
   "metadata": {},
   "outputs": [],
   "source": [
    "user_grp = df.groupby(['USER_ID'], sort=False)\n",
    "\n",
    "for uid, user in user_grp:\n",
    "    # c_grp = user.groupby(['CLUSTER_ID'], sort=False)\n",
    "    cluster = cluster_attr.loc[uid]\n",
    "    sss = cluster['dur_sum'].sum()\n",
    "    print(sss)\n",
    "    dur_sums = cluster['dur_sum'].values\n",
    "    # print(dur_sums)\n",
    "    # print(cluster.iloc[[0,1, 2]].index)\n",
    "    dd = 0\n",
    "    for i, dur_sum in enumerate( dur_sums):\n",
    "        print(i, dur_sum)\n",
    "    break"
   ]
  },
  {
   "cell_type": "code",
   "execution_count": null,
   "metadata": {},
   "outputs": [],
   "source": []
  }
 ]
}