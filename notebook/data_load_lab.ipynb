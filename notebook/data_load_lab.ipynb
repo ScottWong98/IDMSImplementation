{
 "metadata": {
  "language_info": {
   "codemirror_mode": {
    "name": "ipython",
    "version": 3
   },
   "file_extension": ".py",
   "mimetype": "text/x-python",
   "name": "python",
   "nbconvert_exporter": "python",
   "pygments_lexer": "ipython3",
   "version": "3.7.9-final"
  },
  "orig_nbformat": 2,
  "kernelspec": {
   "name": "python3",
   "display_name": "Python 3.7.9 64-bit ('idms': conda)",
   "metadata": {
    "interpreter": {
     "hash": "a8830a6b190e3a3c92b56a6e784dbbf42a0fce4581b5215dca1d6ad350969660"
    }
   }
  }
 },
 "nbformat": 4,
 "nbformat_minor": 2,
 "cells": [
  {
   "cell_type": "code",
   "execution_count": 1,
   "metadata": {},
   "outputs": [],
   "source": [
    "import pandas as pd \n",
    "import numpy as np\n",
    "from matplotlib import pyplot as plt \n",
    "import math"
   ]
  },
  {
   "source": [
    "## Format Raw Data\n",
    "\n",
    "- Extract useful columns\n",
    "- Change some columns' name and order\n",
    "- Sort data in `user id` and `stat_date`\n",
    "- Set `nan` to `0` in `TOTAL_DATA`"
   ],
   "cell_type": "markdown",
   "metadata": {}
  },
  {
   "cell_type": "code",
   "execution_count": 113,
   "metadata": {},
   "outputs": [
    {
     "output_type": "stream",
     "name": "stdout",
     "text": [
      "Int64Index([325, 365, 452], dtype='int64')\n",
      "Int64Index([626, 642], dtype='int64')\n",
      "Int64Index([959], dtype='int64')\n",
      "Int64Index([1289], dtype='int64')\n",
      "Int64Index([1504, 1878, 1916, 2102, 2104, 2150, 2151, 2152], dtype='int64')\n",
      "Int64Index([2179], dtype='int64')\n",
      "Int64Index([3349], dtype='int64')\n",
      "Int64Index([3419], dtype='int64')\n",
      "Int64Index([4218, 4262, 4273], dtype='int64')\n",
      "Int64Index([4494], dtype='int64')\n",
      "Int64Index([5581, 5583, 5586, 5600, 5662, 5667, 5668, 5716], dtype='int64')\n",
      "Int64Index([5936, 5939, 5940, 5953, 5959, 6009, 6010], dtype='int64')\n",
      "Int64Index([6144, 6165, 6169, 6197, 6215, 6231, 6256], dtype='int64')\n",
      "Int64Index([6406, 6409, 6410, 6448, 6451, 6461], dtype='int64')\n",
      "Int64Index([6614], dtype='int64')\n",
      "Int64Index([6812], dtype='int64')\n",
      "Int64Index([7042], dtype='int64')\n",
      "Int64Index([7163, 7225, 7228], dtype='int64')\n",
      "Int64Index([7314, 7328], dtype='int64')\n",
      "Int64Index([7709, 7757, 7802], dtype='int64')\n",
      "Int64Index([7941], dtype='int64')\n",
      "Int64Index([8154, 8413, 8415], dtype='int64')\n",
      "Int64Index([9167], dtype='int64')\n",
      "Int64Index([9400], dtype='int64')\n",
      "Int64Index([9533, 9616], dtype='int64')\n",
      "Int64Index([11744, 11845, 11849], dtype='int64')\n",
      "Int64Index([12396], dtype='int64')\n",
      "Int64Index([12560, 12611, 12613, 12616, 12618, 12649], dtype='int64')\n",
      "Int64Index([13194, 13295, 13297], dtype='int64')\n",
      "Int64Index([14311], dtype='int64')\n",
      "Int64Index([14673, 14709], dtype='int64')\n",
      "Int64Index([15105], dtype='int64')\n",
      "Int64Index([15954], dtype='int64')\n",
      "Int64Index([16161, 16163], dtype='int64')\n",
      "Int64Index([16366, 16446, 16593, 16600], dtype='int64')\n",
      "Int64Index([16918, 16939, 17015], dtype='int64')\n",
      "Int64Index([17509, 17570], dtype='int64')\n",
      "Int64Index([18407], dtype='int64')\n",
      "Int64Index([18700], dtype='int64')\n",
      "Int64Index([18988, 19045, 19069], dtype='int64')\n",
      "Int64Index([19289, 19291, 19293], dtype='int64')\n",
      "Int64Index([19512, 19538, 19555, 19559], dtype='int64')\n",
      "Int64Index([19586, 19590], dtype='int64')\n",
      "Int64Index([19767, 19770, 19872], dtype='int64')\n",
      "Int64Index([19898, 19942, 19945], dtype='int64')\n",
      "Int64Index([20309], dtype='int64')\n",
      "Int64Index([20460, 20461, 20471], dtype='int64')\n",
      "Int64Index([20563, 20570, 20577, 20579, 20649], dtype='int64')\n",
      "Int64Index([20781, 20782, 20783, 20784, 20785, 20790], dtype='int64')\n",
      "Int64Index([20900, 20921, 20925, 20974, 21228], dtype='int64')\n",
      "Int64Index([21579, 21581], dtype='int64')\n",
      "Int64Index([21683], dtype='int64')\n",
      "Int64Index([22474, 22476, 22558], dtype='int64')\n",
      "Int64Index([22747, 22782, 22788, 22798, 22801, 22804, 22807, 22810, 22814,\n",
      "            22818, 22822, 22826, 22833, 22836, 22902, 22920, 22925, 22950,\n",
      "            22958, 22959, 22961, 22998, 23057, 23545, 23596, 23629, 23634,\n",
      "            23636, 23637, 23641, 23713, 23714, 23768, 23771, 23791],\n",
      "           dtype='int64')\n",
      "Int64Index([25571, 26143], dtype='int64')\n",
      "Int64Index([26478, 26639, 26669, 26767, 26813, 26886, 27051], dtype='int64')\n",
      "Int64Index([27307, 27443, 27449, 27486, 27523, 27525], dtype='int64')\n",
      "Int64Index([29652, 29668, 29670, 29706], dtype='int64')\n",
      "Int64Index([32363, 32417, 32465, 32498, 32550], dtype='int64')\n",
      "Int64Index([34038, 34079, 34084, 34493, 34498, 34525, 34526, 34530, 34531,\n",
      "            34532, 34533, 34534, 34535, 34536, 34537, 34538, 34539, 34540,\n",
      "            34541, 34542, 34543, 34544, 34545, 34546, 34547, 34548, 34549],\n",
      "           dtype='int64')\n",
      "Int64Index([38323, 38593, 38643], dtype='int64')\n",
      "Int64Index([41063, 41166, 41168, 41213, 41302], dtype='int64')\n",
      "Int64Index([41376, 41493, 41557, 41587, 41619, 41671, 41714], dtype='int64')\n",
      "Int64Index([42626, 42642, 42779, 42780, 42793, 42801, 42903, 42992], dtype='int64')\n",
      "Int64Index([46782, 46938, 46970], dtype='int64')\n",
      "Int64Index([47323], dtype='int64')\n",
      "Int64Index([47771, 48088], dtype='int64')\n",
      "Int64Index([49907, 49908], dtype='int64')\n",
      "Int64Index([51298, 51535], dtype='int64')\n",
      "Int64Index([52040], dtype='int64')\n",
      "Int64Index([52315, 52421, 52433, 52535, 52550, 52564, 52684, 52807], dtype='int64')\n",
      "Int64Index([54358, 54706], dtype='int64')\n",
      "Int64Index([54965, 55117, 55121], dtype='int64')\n",
      "Int64Index([55261, 55264, 55298, 55302, 55305, 55399], dtype='int64')\n",
      "Int64Index([55785], dtype='int64')\n",
      "Int64Index([55854, 56185], dtype='int64')\n",
      "Int64Index([56374], dtype='int64')\n",
      "Int64Index([56545, 56581, 56596], dtype='int64')\n",
      "Int64Index([57044, 57050, 57077], dtype='int64')\n",
      "Int64Index([57361], dtype='int64')\n",
      "Int64Index([57648, 57667], dtype='int64')\n",
      "Int64Index([57781, 57906], dtype='int64')\n",
      "Int64Index([58126, 58129, 58130, 58388], dtype='int64')\n",
      "Int64Index([58538, 58693, 58698, 58700, 58717, 58768, 58793, 58800, 58815,\n",
      "            58818, 58883, 59005, 59007, 59010, 59012],\n",
      "           dtype='int64')\n",
      "Int64Index([59240], dtype='int64')\n",
      "Int64Index([59364, 59604, 59629], dtype='int64')\n",
      "Int64Index([59774, 60115, 60150, 60153, 60157, 60160], dtype='int64')\n",
      "Int64Index([60287], dtype='int64')\n",
      "Int64Index([61311], dtype='int64')\n",
      "Int64Index([61595], dtype='int64')\n",
      "Int64Index([61682], dtype='int64')\n",
      "Int64Index([61842, 61850, 61914, 61919, 61932], dtype='int64')\n",
      "Int64Index([62275], dtype='int64')\n",
      "Int64Index([62392], dtype='int64')\n",
      "Int64Index([62699, 62812], dtype='int64')\n",
      "Int64Index([62903, 62920, 62925], dtype='int64')\n",
      "Int64Index([63042], dtype='int64')\n",
      "Int64Index([64485], dtype='int64')\n",
      "Int64Index([65001, 65069, 65072, 65075, 65080, 65095, 65254, 65326, 65339,\n",
      "            65362],\n",
      "           dtype='int64')\n",
      "Int64Index([65678, 65781], dtype='int64')\n",
      "Int64Index([65848], dtype='int64')\n",
      "Int64Index([66110], dtype='int64')\n",
      "Int64Index([66436, 66482, 66494, 66578], dtype='int64')\n",
      "Int64Index([66873, 67023, 67026, 67192], dtype='int64')\n",
      "Int64Index([67618], dtype='int64')\n",
      "Int64Index([67873, 67877], dtype='int64')\n",
      "Int64Index([67962], dtype='int64')\n",
      "Int64Index([68472], dtype='int64')\n",
      "Int64Index([68667, 68671], dtype='int64')\n",
      "Int64Index([68843], dtype='int64')\n",
      "Int64Index([69333, 69382], dtype='int64')\n",
      "Int64Index([69577], dtype='int64')\n",
      "Int64Index([70131, 70235, 70292, 70332], dtype='int64')\n",
      "Int64Index([70560, 70570, 70687], dtype='int64')\n",
      "Int64Index([71087, 71088, 71089, 71156], dtype='int64')\n",
      "Int64Index([71222, 71489, 71490, 71493], dtype='int64')\n",
      "Int64Index([71693, 71701, 71809], dtype='int64')\n",
      "Int64Index([73532, 73554], dtype='int64')\n",
      "Int64Index([73764, 73858, 73976, 73977, 73979, 73984], dtype='int64')\n",
      "Int64Index([74735, 74738, 74741], dtype='int64')\n",
      "Int64Index([75100, 75101, 75142], dtype='int64')\n",
      "Int64Index([75241, 75278, 75292, 75385, 75446, 75450, 75452, 75453, 75454,\n",
      "            75543, 75550],\n",
      "           dtype='int64')\n",
      "Int64Index([75956], dtype='int64')\n",
      "Int64Index([76157, 76271, 76274, 76287, 76289, 76349], dtype='int64')\n",
      "Int64Index([76472, 76788, 76818], dtype='int64')\n",
      "Int64Index([76955], dtype='int64')\n",
      "Int64Index([77372, 77630], dtype='int64')\n",
      "Int64Index([77826], dtype='int64')\n",
      "Int64Index([78410], dtype='int64')\n",
      "Int64Index([78466, 78821], dtype='int64')\n"
     ]
    }
   ],
   "source": [
    "orig_filename = r'C:\\Users\\Scott\\Documents\\ECNU\\data\\20201116\\9_user.csv'\n",
    "\n",
    "usecols = ['SUBSTR(MSISDN,1,7)', 'STAT_DATE', 'STIME', 'END_TIME', 'ZH_LABEL', 'LATITUDE', 'NUMBERITUDE', 'DURATION', 'DATA_TOTAL']\n",
    "\n",
    "\n",
    "%run ../idms_impl/data_load.py\n",
    "\n",
    "data_load = DataLoad()\n",
    "\n",
    "data_load.load_data(filename=orig_filename)\n",
    "data_load.format_raw_data(usecols=usecols, name_mapper={\n",
    "    \"SUBSTR(MSISDN,1,7)\": \"USER_ID\",\n",
    "    \"NUMBERITUDE\": \"LONGITUDE\",\n",
    "    \"DATA_TOTAL\": \"TOTAL_DATA\"\n",
    "})\n",
    "data_load.check_invalid_tr(dur_threshold=4 * 3600, dist_threshold=5 / 111)\n",
    "res = data_load.df\n",
    "res.to_csv('../data/no_invalid_tr.csv', encoding='gbk')"
   ]
  },
  {
   "cell_type": "code",
   "execution_count": 86,
   "metadata": {},
   "outputs": [
    {
     "output_type": "execute_result",
     "data": {
      "text/plain": [
       "       USER_ID  STAT_DATE           STIME        END_TIME  \\\n",
       "0      1377032   20201010  20201010010256  20201010075958   \n",
       "1      1377032   20201010  20201010075958  20201010080033   \n",
       "2      1377032   20201010  20201010080033  20201010080034   \n",
       "3      1377032   20201010  20201010080034  20201010080259   \n",
       "4      1377032   20201010  20201010080259  20201010080306   \n",
       "...        ...        ...             ...             ...   \n",
       "80084  1870519   20201031  20201031212028  20201031212129   \n",
       "80085  1870519   20201031  20201031212129  20201031223925   \n",
       "80086  1870519   20201031  20201031223925  20201031223933   \n",
       "80087  1870519   20201031  20201031223933  20201031235832   \n",
       "80088  1870519   20201031  20201031235832  20201031235959   \n",
       "\n",
       "                    ZH_LABEL   LATITUDE   LONGITUDE  DURATION   TOTAL_DATA  \n",
       "0            莲花新城南苑六期FD(W)-1  31.968177  118.711710     25022    19.808594  \n",
       "1          七彩新城南3DMIMO一期LD-2  31.967207  118.707899        35  2513.746094  \n",
       "2          西善桥搬迁3DMIMO一期LD-3  31.960392  118.710289         1     0.000000  \n",
       "3          莲花新城南苑低层外打FD(W)-2  31.963055  118.709444       145     0.000000  \n",
       "4        高层对打金穗花园6栋六期LE(W)-D  31.969509  118.707047         7     0.000000  \n",
       "...                      ...        ...         ...       ...          ...  \n",
       "80084     东渡国际青年城3#六期FD(W)-2  31.921427  118.895402        61     0.000000  \n",
       "80085  东渡国际青年城9#10#六期FD(W)-6  31.921427  118.895402      4676     3.136719  \n",
       "80086    龙湖春江郦城C区高层六期FD(W)-2  31.975336  118.837054         8     0.000000  \n",
       "80087     东渡国际青年城3#六期FD(W)-2  31.921427  118.895402      4739     0.000000  \n",
       "80088  东渡国际青年城9#10#六期FD(W)-6  31.921427  118.895402        87     0.000000  \n",
       "\n",
       "[80089 rows x 9 columns]"
      ],
      "text/html": "<div>\n<style scoped>\n    .dataframe tbody tr th:only-of-type {\n        vertical-align: middle;\n    }\n\n    .dataframe tbody tr th {\n        vertical-align: top;\n    }\n\n    .dataframe thead th {\n        text-align: right;\n    }\n</style>\n<table border=\"1\" class=\"dataframe\">\n  <thead>\n    <tr style=\"text-align: right;\">\n      <th></th>\n      <th>USER_ID</th>\n      <th>STAT_DATE</th>\n      <th>STIME</th>\n      <th>END_TIME</th>\n      <th>ZH_LABEL</th>\n      <th>LATITUDE</th>\n      <th>LONGITUDE</th>\n      <th>DURATION</th>\n      <th>TOTAL_DATA</th>\n    </tr>\n  </thead>\n  <tbody>\n    <tr>\n      <th>0</th>\n      <td>1377032</td>\n      <td>20201010</td>\n      <td>20201010010256</td>\n      <td>20201010075958</td>\n      <td>莲花新城南苑六期FD(W)-1</td>\n      <td>31.968177</td>\n      <td>118.711710</td>\n      <td>25022</td>\n      <td>19.808594</td>\n    </tr>\n    <tr>\n      <th>1</th>\n      <td>1377032</td>\n      <td>20201010</td>\n      <td>20201010075958</td>\n      <td>20201010080033</td>\n      <td>七彩新城南3DMIMO一期LD-2</td>\n      <td>31.967207</td>\n      <td>118.707899</td>\n      <td>35</td>\n      <td>2513.746094</td>\n    </tr>\n    <tr>\n      <th>2</th>\n      <td>1377032</td>\n      <td>20201010</td>\n      <td>20201010080033</td>\n      <td>20201010080034</td>\n      <td>西善桥搬迁3DMIMO一期LD-3</td>\n      <td>31.960392</td>\n      <td>118.710289</td>\n      <td>1</td>\n      <td>0.000000</td>\n    </tr>\n    <tr>\n      <th>3</th>\n      <td>1377032</td>\n      <td>20201010</td>\n      <td>20201010080034</td>\n      <td>20201010080259</td>\n      <td>莲花新城南苑低层外打FD(W)-2</td>\n      <td>31.963055</td>\n      <td>118.709444</td>\n      <td>145</td>\n      <td>0.000000</td>\n    </tr>\n    <tr>\n      <th>4</th>\n      <td>1377032</td>\n      <td>20201010</td>\n      <td>20201010080259</td>\n      <td>20201010080306</td>\n      <td>高层对打金穗花园6栋六期LE(W)-D</td>\n      <td>31.969509</td>\n      <td>118.707047</td>\n      <td>7</td>\n      <td>0.000000</td>\n    </tr>\n    <tr>\n      <th>...</th>\n      <td>...</td>\n      <td>...</td>\n      <td>...</td>\n      <td>...</td>\n      <td>...</td>\n      <td>...</td>\n      <td>...</td>\n      <td>...</td>\n      <td>...</td>\n    </tr>\n    <tr>\n      <th>80084</th>\n      <td>1870519</td>\n      <td>20201031</td>\n      <td>20201031212028</td>\n      <td>20201031212129</td>\n      <td>东渡国际青年城3#六期FD(W)-2</td>\n      <td>31.921427</td>\n      <td>118.895402</td>\n      <td>61</td>\n      <td>0.000000</td>\n    </tr>\n    <tr>\n      <th>80085</th>\n      <td>1870519</td>\n      <td>20201031</td>\n      <td>20201031212129</td>\n      <td>20201031223925</td>\n      <td>东渡国际青年城9#10#六期FD(W)-6</td>\n      <td>31.921427</td>\n      <td>118.895402</td>\n      <td>4676</td>\n      <td>3.136719</td>\n    </tr>\n    <tr>\n      <th>80086</th>\n      <td>1870519</td>\n      <td>20201031</td>\n      <td>20201031223925</td>\n      <td>20201031223933</td>\n      <td>龙湖春江郦城C区高层六期FD(W)-2</td>\n      <td>31.975336</td>\n      <td>118.837054</td>\n      <td>8</td>\n      <td>0.000000</td>\n    </tr>\n    <tr>\n      <th>80087</th>\n      <td>1870519</td>\n      <td>20201031</td>\n      <td>20201031223933</td>\n      <td>20201031235832</td>\n      <td>东渡国际青年城3#六期FD(W)-2</td>\n      <td>31.921427</td>\n      <td>118.895402</td>\n      <td>4739</td>\n      <td>0.000000</td>\n    </tr>\n    <tr>\n      <th>80088</th>\n      <td>1870519</td>\n      <td>20201031</td>\n      <td>20201031235832</td>\n      <td>20201031235959</td>\n      <td>东渡国际青年城9#10#六期FD(W)-6</td>\n      <td>31.921427</td>\n      <td>118.895402</td>\n      <td>87</td>\n      <td>0.000000</td>\n    </tr>\n  </tbody>\n</table>\n<p>80089 rows × 9 columns</p>\n</div>"
     },
     "metadata": {},
     "execution_count": 86
    }
   ],
   "source": [
    "\n",
    "    "
   ]
  },
  {
   "source": [
    "## Invalid Latitude and Longitude Process\n",
    "\n",
    "- "
   ],
   "cell_type": "markdown",
   "metadata": {}
  },
  {
   "cell_type": "code",
   "execution_count": 110,
   "metadata": {},
   "outputs": [
    {
     "output_type": "display_data",
     "data": {
      "text/plain": "     A      B         C         D\n0  foo    one -0.575247  1.346061\n1  bar    one  0.254161  1.511763\n2  foo    two -1.143704  1.627081\n3  bar  three  0.215897 -0.990582\n4  foo    two  1.193555 -0.441652\n5  bar    two -0.077118  1.211526\n6  foo    one -0.408530  0.268520\n7  foo  three -0.862495  0.024580",
      "text/html": "<div>\n<style scoped>\n    .dataframe tbody tr th:only-of-type {\n        vertical-align: middle;\n    }\n\n    .dataframe tbody tr th {\n        vertical-align: top;\n    }\n\n    .dataframe thead th {\n        text-align: right;\n    }\n</style>\n<table border=\"1\" class=\"dataframe\">\n  <thead>\n    <tr style=\"text-align: right;\">\n      <th></th>\n      <th>A</th>\n      <th>B</th>\n      <th>C</th>\n      <th>D</th>\n    </tr>\n  </thead>\n  <tbody>\n    <tr>\n      <th>0</th>\n      <td>foo</td>\n      <td>one</td>\n      <td>-0.575247</td>\n      <td>1.346061</td>\n    </tr>\n    <tr>\n      <th>1</th>\n      <td>bar</td>\n      <td>one</td>\n      <td>0.254161</td>\n      <td>1.511763</td>\n    </tr>\n    <tr>\n      <th>2</th>\n      <td>foo</td>\n      <td>two</td>\n      <td>-1.143704</td>\n      <td>1.627081</td>\n    </tr>\n    <tr>\n      <th>3</th>\n      <td>bar</td>\n      <td>three</td>\n      <td>0.215897</td>\n      <td>-0.990582</td>\n    </tr>\n    <tr>\n      <th>4</th>\n      <td>foo</td>\n      <td>two</td>\n      <td>1.193555</td>\n      <td>-0.441652</td>\n    </tr>\n    <tr>\n      <th>5</th>\n      <td>bar</td>\n      <td>two</td>\n      <td>-0.077118</td>\n      <td>1.211526</td>\n    </tr>\n    <tr>\n      <th>6</th>\n      <td>foo</td>\n      <td>one</td>\n      <td>-0.408530</td>\n      <td>0.268520</td>\n    </tr>\n    <tr>\n      <th>7</th>\n      <td>foo</td>\n      <td>three</td>\n      <td>-0.862495</td>\n      <td>0.024580</td>\n    </tr>\n  </tbody>\n</table>\n</div>"
     },
     "metadata": {}
    },
    {
     "output_type": "display_data",
     "data": {
      "text/plain": "     A      B         C         D\n1  bar    one  0.254161  1.511763\n3  bar  three  0.215897 -0.990582\n5  bar    two -0.077118  1.211526",
      "text/html": "<div>\n<style scoped>\n    .dataframe tbody tr th:only-of-type {\n        vertical-align: middle;\n    }\n\n    .dataframe tbody tr th {\n        vertical-align: top;\n    }\n\n    .dataframe thead th {\n        text-align: right;\n    }\n</style>\n<table border=\"1\" class=\"dataframe\">\n  <thead>\n    <tr style=\"text-align: right;\">\n      <th></th>\n      <th>A</th>\n      <th>B</th>\n      <th>C</th>\n      <th>D</th>\n    </tr>\n  </thead>\n  <tbody>\n    <tr>\n      <th>1</th>\n      <td>bar</td>\n      <td>one</td>\n      <td>0.254161</td>\n      <td>1.511763</td>\n    </tr>\n    <tr>\n      <th>3</th>\n      <td>bar</td>\n      <td>three</td>\n      <td>0.215897</td>\n      <td>-0.990582</td>\n    </tr>\n    <tr>\n      <th>5</th>\n      <td>bar</td>\n      <td>two</td>\n      <td>-0.077118</td>\n      <td>1.211526</td>\n    </tr>\n  </tbody>\n</table>\n</div>"
     },
     "metadata": {}
    },
    {
     "output_type": "display_data",
     "data": {
      "text/plain": "     A      B         C         D\n0  foo    one -0.575247  1.346061\n2  foo    two -1.143704  1.627081\n4  foo    two  1.193555 -0.441652\n6  foo    one -0.408530  0.268520\n7  foo  three -0.862495  0.024580",
      "text/html": "<div>\n<style scoped>\n    .dataframe tbody tr th:only-of-type {\n        vertical-align: middle;\n    }\n\n    .dataframe tbody tr th {\n        vertical-align: top;\n    }\n\n    .dataframe thead th {\n        text-align: right;\n    }\n</style>\n<table border=\"1\" class=\"dataframe\">\n  <thead>\n    <tr style=\"text-align: right;\">\n      <th></th>\n      <th>A</th>\n      <th>B</th>\n      <th>C</th>\n      <th>D</th>\n    </tr>\n  </thead>\n  <tbody>\n    <tr>\n      <th>0</th>\n      <td>foo</td>\n      <td>one</td>\n      <td>-0.575247</td>\n      <td>1.346061</td>\n    </tr>\n    <tr>\n      <th>2</th>\n      <td>foo</td>\n      <td>two</td>\n      <td>-1.143704</td>\n      <td>1.627081</td>\n    </tr>\n    <tr>\n      <th>4</th>\n      <td>foo</td>\n      <td>two</td>\n      <td>1.193555</td>\n      <td>-0.441652</td>\n    </tr>\n    <tr>\n      <th>6</th>\n      <td>foo</td>\n      <td>one</td>\n      <td>-0.408530</td>\n      <td>0.268520</td>\n    </tr>\n    <tr>\n      <th>7</th>\n      <td>foo</td>\n      <td>three</td>\n      <td>-0.862495</td>\n      <td>0.024580</td>\n    </tr>\n  </tbody>\n</table>\n</div>"
     },
     "metadata": {}
    },
    {
     "output_type": "stream",
     "name": "stdout",
     "text": [
      "old df is\n"
     ]
    },
    {
     "output_type": "display_data",
     "data": {
      "text/plain": "     A      B         C         D\n0  foo    one -0.575247  1.346061\n1  bar    one  0.254161  1.511763\n2  foo    two -1.143704  1.627081\n3  bar  three  0.215897 -0.990582\n4  foo    two  1.193555 -0.441652\n5  bar    two -0.077118  1.211526\n6  foo    one -0.408530  0.268520\n7  foo  three -0.862495  0.024580",
      "text/html": "<div>\n<style scoped>\n    .dataframe tbody tr th:only-of-type {\n        vertical-align: middle;\n    }\n\n    .dataframe tbody tr th {\n        vertical-align: top;\n    }\n\n    .dataframe thead th {\n        text-align: right;\n    }\n</style>\n<table border=\"1\" class=\"dataframe\">\n  <thead>\n    <tr style=\"text-align: right;\">\n      <th></th>\n      <th>A</th>\n      <th>B</th>\n      <th>C</th>\n      <th>D</th>\n    </tr>\n  </thead>\n  <tbody>\n    <tr>\n      <th>0</th>\n      <td>foo</td>\n      <td>one</td>\n      <td>-0.575247</td>\n      <td>1.346061</td>\n    </tr>\n    <tr>\n      <th>1</th>\n      <td>bar</td>\n      <td>one</td>\n      <td>0.254161</td>\n      <td>1.511763</td>\n    </tr>\n    <tr>\n      <th>2</th>\n      <td>foo</td>\n      <td>two</td>\n      <td>-1.143704</td>\n      <td>1.627081</td>\n    </tr>\n    <tr>\n      <th>3</th>\n      <td>bar</td>\n      <td>three</td>\n      <td>0.215897</td>\n      <td>-0.990582</td>\n    </tr>\n    <tr>\n      <th>4</th>\n      <td>foo</td>\n      <td>two</td>\n      <td>1.193555</td>\n      <td>-0.441652</td>\n    </tr>\n    <tr>\n      <th>5</th>\n      <td>bar</td>\n      <td>two</td>\n      <td>-0.077118</td>\n      <td>1.211526</td>\n    </tr>\n    <tr>\n      <th>6</th>\n      <td>foo</td>\n      <td>one</td>\n      <td>-0.408530</td>\n      <td>0.268520</td>\n    </tr>\n    <tr>\n      <th>7</th>\n      <td>foo</td>\n      <td>three</td>\n      <td>-0.862495</td>\n      <td>0.024580</td>\n    </tr>\n  </tbody>\n</table>\n</div>"
     },
     "metadata": {}
    },
    {
     "output_type": "execute_result",
     "data": {
      "text/plain": [
       "         A      B         C         D\n",
       "A                                    \n",
       "foo 0  foo    one -0.575247  1.346061\n",
       "    2  foo    two -1.143704  1.627081\n",
       "    4  foo    two  1.193555 -0.441652\n",
       "    6  foo    one -0.408530  0.268520\n",
       "    7  foo  three -0.862495  0.024580"
      ],
      "text/html": "<div>\n<style scoped>\n    .dataframe tbody tr th:only-of-type {\n        vertical-align: middle;\n    }\n\n    .dataframe tbody tr th {\n        vertical-align: top;\n    }\n\n    .dataframe thead th {\n        text-align: right;\n    }\n</style>\n<table border=\"1\" class=\"dataframe\">\n  <thead>\n    <tr style=\"text-align: right;\">\n      <th></th>\n      <th></th>\n      <th>A</th>\n      <th>B</th>\n      <th>C</th>\n      <th>D</th>\n    </tr>\n    <tr>\n      <th>A</th>\n      <th></th>\n      <th></th>\n      <th></th>\n      <th></th>\n      <th></th>\n    </tr>\n  </thead>\n  <tbody>\n    <tr>\n      <th rowspan=\"5\" valign=\"top\">foo</th>\n      <th>0</th>\n      <td>foo</td>\n      <td>one</td>\n      <td>-0.575247</td>\n      <td>1.346061</td>\n    </tr>\n    <tr>\n      <th>2</th>\n      <td>foo</td>\n      <td>two</td>\n      <td>-1.143704</td>\n      <td>1.627081</td>\n    </tr>\n    <tr>\n      <th>4</th>\n      <td>foo</td>\n      <td>two</td>\n      <td>1.193555</td>\n      <td>-0.441652</td>\n    </tr>\n    <tr>\n      <th>6</th>\n      <td>foo</td>\n      <td>one</td>\n      <td>-0.408530</td>\n      <td>0.268520</td>\n    </tr>\n    <tr>\n      <th>7</th>\n      <td>foo</td>\n      <td>three</td>\n      <td>-0.862495</td>\n      <td>0.024580</td>\n    </tr>\n  </tbody>\n</table>\n</div>"
     },
     "metadata": {},
     "execution_count": 110
    }
   ],
   "source": [
    "%run ../demo/algorithm.py\n",
    "grp = df.groupby('A')\n",
    "display(df)\n",
    "def func(x):\n",
    "    # print(x.index)\n",
    "    # return x\n",
    "    display(x)\n",
    "    # print(x.iloc[0, 0])\n",
    "    # print(x[x['C'] > 100])\n",
    "    if x.iloc[0, 0] == 'bar':\n",
    "        return x.drop(x.index)\n",
    "    else:\n",
    "        return x\n",
    "new_grp = grp.apply(func)\n",
    "type(new_grp)\n",
    "print(\"old df is\")\n",
    "display(df)\n",
    "new_grp\n"
   ]
  },
  {
   "cell_type": "code",
   "execution_count": 97,
   "metadata": {},
   "outputs": [
    {
     "output_type": "stream",
     "name": "stdout",
     "text": [
      "<class 'numpy.float64'>\n[ 31.968177 118.71171 ] [ 31.967207 118.707899]\n"
     ]
    }
   ],
   "source": [
    "%run ../idms_impl/data_load.py\n",
    "a = np.array([31.968177, 118.711710])\n",
    "b = np.array([31.967207, 118.707899])\n",
    "d = get_dist(a, b)\n",
    "print(type(d))\n",
    "print(a, b)"
   ]
  }
 ]
}