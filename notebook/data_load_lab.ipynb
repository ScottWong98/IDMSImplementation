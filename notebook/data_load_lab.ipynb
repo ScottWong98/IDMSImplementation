{
 "metadata": {
  "language_info": {
   "codemirror_mode": {
    "name": "ipython",
    "version": 3
   },
   "file_extension": ".py",
   "mimetype": "text/x-python",
   "name": "python",
   "nbconvert_exporter": "python",
   "pygments_lexer": "ipython3",
   "version": "3.7.9-final"
  },
  "orig_nbformat": 2,
  "kernelspec": {
   "name": "python3",
   "display_name": "Python 3.7.9 64-bit ('idms': conda)",
   "metadata": {
    "interpreter": {
     "hash": "a8830a6b190e3a3c92b56a6e784dbbf42a0fce4581b5215dca1d6ad350969660"
    }
   }
  }
 },
 "nbformat": 4,
 "nbformat_minor": 2,
 "cells": [
  {
   "cell_type": "code",
   "execution_count": null,
   "metadata": {},
   "outputs": [],
   "source": [
    "import pandas as pd \n",
    "import numpy as np\n",
    "from matplotlib import pyplot as plt \n",
    "import math"
   ]
  },
  {
   "source": [
    "## Run data_load.py"
   ],
   "cell_type": "markdown",
   "metadata": {}
  },
  {
   "source": [
    "### demo1"
   ],
   "cell_type": "markdown",
   "metadata": {}
  },
  {
   "cell_type": "code",
   "execution_count": 169,
   "metadata": {},
   "outputs": [
    {
     "output_type": "execute_result",
     "data": {
      "text/plain": [
       "(66132, 9)"
      ]
     },
     "metadata": {},
     "execution_count": 169
    }
   ],
   "source": [
    "orig_filename = r'C:\\Users\\Scott\\Documents\\ECNU\\data\\20201116\\9_user.csv'\n",
    "\n",
    "usecols = ['SUBSTR(MSISDN,1,7)', 'STAT_DATE', 'STIME', 'END_TIME', 'ZH_LABEL', 'LATITUDE', 'NUMBERITUDE', 'DURATION', 'DATA_TOTAL']\n",
    "\n",
    "\n",
    "%run ../idms_impl/data_load.py\n",
    "\n",
    "data_load = DataLoad()\n",
    "\n",
    "data_load.load_data(filename=orig_filename)\n",
    "data_load.format_raw_data(usecols=usecols, name_mapper={\n",
    "    \"SUBSTR(MSISDN,1,7)\": \"USER_ID\",\n",
    "    \"NUMBERITUDE\": \"LONGITUDE\",\n",
    "    \"DATA_TOTAL\": \"TOTAL_DATA\"\n",
    "})\n",
    "data_load.check_invalid_tr(dur_threshold=4 * 3600, dist_threshold=5 / 111)\n",
    "# data_load.stop_area_mining(dur_threshold=20, eps=0.0036, min_dur=900)\n",
    "res = data_load.df\n",
    "res.shape"
   ]
  },
  {
   "cell_type": "code",
   "execution_count": null,
   "metadata": {},
   "outputs": [],
   "source": [
    "res['CLUSTER_ID'].values"
   ]
  },
  {
   "source": [
    "### demo2"
   ],
   "cell_type": "markdown",
   "metadata": {}
  },
  {
   "cell_type": "code",
   "execution_count": null,
   "metadata": {},
   "outputs": [],
   "source": [
    "%run ../idms_impl/data_load.py\n",
    "a = np.array([31.968177, 118.711710])\n",
    "b = np.array([31.967207, 118.707899])\n",
    "d = get_dist(a, b)\n",
    "print(type(d))\n",
    "print(a, b)"
   ]
  },
  {
   "source": [
    "## Run algorithm.py"
   ],
   "cell_type": "markdown",
   "metadata": {}
  },
  {
   "source": [
    "### demo1\n",
    "\n",
    "test groupby"
   ],
   "cell_type": "markdown",
   "metadata": {}
  },
  {
   "cell_type": "code",
   "execution_count": 171,
   "metadata": {},
   "outputs": [
    {
     "output_type": "display_data",
     "data": {
      "text/plain": "     A      B         C         D\n0  foo    one -0.575247  1.346061\n1  bar    one  0.254161  1.511763\n2  foo    two -1.143704  1.627081\n3  bar  three  0.215897 -0.990582\n4  foo    two  1.193555 -0.441652\n5  bar    two -0.077118  1.211526\n6  foo    one -0.408530  0.268520\n7  foo  three -0.862495  0.024580",
      "text/html": "<div>\n<style scoped>\n    .dataframe tbody tr th:only-of-type {\n        vertical-align: middle;\n    }\n\n    .dataframe tbody tr th {\n        vertical-align: top;\n    }\n\n    .dataframe thead th {\n        text-align: right;\n    }\n</style>\n<table border=\"1\" class=\"dataframe\">\n  <thead>\n    <tr style=\"text-align: right;\">\n      <th></th>\n      <th>A</th>\n      <th>B</th>\n      <th>C</th>\n      <th>D</th>\n    </tr>\n  </thead>\n  <tbody>\n    <tr>\n      <th>0</th>\n      <td>foo</td>\n      <td>one</td>\n      <td>-0.575247</td>\n      <td>1.346061</td>\n    </tr>\n    <tr>\n      <th>1</th>\n      <td>bar</td>\n      <td>one</td>\n      <td>0.254161</td>\n      <td>1.511763</td>\n    </tr>\n    <tr>\n      <th>2</th>\n      <td>foo</td>\n      <td>two</td>\n      <td>-1.143704</td>\n      <td>1.627081</td>\n    </tr>\n    <tr>\n      <th>3</th>\n      <td>bar</td>\n      <td>three</td>\n      <td>0.215897</td>\n      <td>-0.990582</td>\n    </tr>\n    <tr>\n      <th>4</th>\n      <td>foo</td>\n      <td>two</td>\n      <td>1.193555</td>\n      <td>-0.441652</td>\n    </tr>\n    <tr>\n      <th>5</th>\n      <td>bar</td>\n      <td>two</td>\n      <td>-0.077118</td>\n      <td>1.211526</td>\n    </tr>\n    <tr>\n      <th>6</th>\n      <td>foo</td>\n      <td>one</td>\n      <td>-0.408530</td>\n      <td>0.268520</td>\n    </tr>\n    <tr>\n      <th>7</th>\n      <td>foo</td>\n      <td>three</td>\n      <td>-0.862495</td>\n      <td>0.024580</td>\n    </tr>\n  </tbody>\n</table>\n</div>"
     },
     "metadata": {}
    },
    {
     "output_type": "display_data",
     "data": {
      "text/plain": "     A      B         C         D\n1  bar    one  0.254161  1.511763\n3  bar  three  0.215897 -0.990582\n5  bar    two -0.077118  1.211526",
      "text/html": "<div>\n<style scoped>\n    .dataframe tbody tr th:only-of-type {\n        vertical-align: middle;\n    }\n\n    .dataframe tbody tr th {\n        vertical-align: top;\n    }\n\n    .dataframe thead th {\n        text-align: right;\n    }\n</style>\n<table border=\"1\" class=\"dataframe\">\n  <thead>\n    <tr style=\"text-align: right;\">\n      <th></th>\n      <th>A</th>\n      <th>B</th>\n      <th>C</th>\n      <th>D</th>\n    </tr>\n  </thead>\n  <tbody>\n    <tr>\n      <th>1</th>\n      <td>bar</td>\n      <td>one</td>\n      <td>0.254161</td>\n      <td>1.511763</td>\n    </tr>\n    <tr>\n      <th>3</th>\n      <td>bar</td>\n      <td>three</td>\n      <td>0.215897</td>\n      <td>-0.990582</td>\n    </tr>\n    <tr>\n      <th>5</th>\n      <td>bar</td>\n      <td>two</td>\n      <td>-0.077118</td>\n      <td>1.211526</td>\n    </tr>\n  </tbody>\n</table>\n</div>"
     },
     "metadata": {}
    },
    {
     "output_type": "display_data",
     "data": {
      "text/plain": "     A      B         C         D\n0  foo    one -0.575247  1.346061\n2  foo    two -1.143704  1.627081\n4  foo    two  1.193555 -0.441652\n6  foo    one -0.408530  0.268520\n7  foo  three -0.862495  0.024580",
      "text/html": "<div>\n<style scoped>\n    .dataframe tbody tr th:only-of-type {\n        vertical-align: middle;\n    }\n\n    .dataframe tbody tr th {\n        vertical-align: top;\n    }\n\n    .dataframe thead th {\n        text-align: right;\n    }\n</style>\n<table border=\"1\" class=\"dataframe\">\n  <thead>\n    <tr style=\"text-align: right;\">\n      <th></th>\n      <th>A</th>\n      <th>B</th>\n      <th>C</th>\n      <th>D</th>\n    </tr>\n  </thead>\n  <tbody>\n    <tr>\n      <th>0</th>\n      <td>foo</td>\n      <td>one</td>\n      <td>-0.575247</td>\n      <td>1.346061</td>\n    </tr>\n    <tr>\n      <th>2</th>\n      <td>foo</td>\n      <td>two</td>\n      <td>-1.143704</td>\n      <td>1.627081</td>\n    </tr>\n    <tr>\n      <th>4</th>\n      <td>foo</td>\n      <td>two</td>\n      <td>1.193555</td>\n      <td>-0.441652</td>\n    </tr>\n    <tr>\n      <th>6</th>\n      <td>foo</td>\n      <td>one</td>\n      <td>-0.408530</td>\n      <td>0.268520</td>\n    </tr>\n    <tr>\n      <th>7</th>\n      <td>foo</td>\n      <td>three</td>\n      <td>-0.862495</td>\n      <td>0.024580</td>\n    </tr>\n  </tbody>\n</table>\n</div>"
     },
     "metadata": {}
    },
    {
     "output_type": "execute_result",
     "data": {
      "text/plain": [
       "         A      B         C         D\n",
       "A                                    \n",
       "foo 0  foo    one -0.575247  1.346061\n",
       "    2  foo    two -1.143704  1.627081\n",
       "    4  foo    two  1.193555 -0.441652\n",
       "    6  foo    one -0.408530  0.268520\n",
       "    7  foo  three -0.862495  0.024580"
      ],
      "text/html": "<div>\n<style scoped>\n    .dataframe tbody tr th:only-of-type {\n        vertical-align: middle;\n    }\n\n    .dataframe tbody tr th {\n        vertical-align: top;\n    }\n\n    .dataframe thead th {\n        text-align: right;\n    }\n</style>\n<table border=\"1\" class=\"dataframe\">\n  <thead>\n    <tr style=\"text-align: right;\">\n      <th></th>\n      <th></th>\n      <th>A</th>\n      <th>B</th>\n      <th>C</th>\n      <th>D</th>\n    </tr>\n    <tr>\n      <th>A</th>\n      <th></th>\n      <th></th>\n      <th></th>\n      <th></th>\n      <th></th>\n    </tr>\n  </thead>\n  <tbody>\n    <tr>\n      <th rowspan=\"5\" valign=\"top\">foo</th>\n      <th>0</th>\n      <td>foo</td>\n      <td>one</td>\n      <td>-0.575247</td>\n      <td>1.346061</td>\n    </tr>\n    <tr>\n      <th>2</th>\n      <td>foo</td>\n      <td>two</td>\n      <td>-1.143704</td>\n      <td>1.627081</td>\n    </tr>\n    <tr>\n      <th>4</th>\n      <td>foo</td>\n      <td>two</td>\n      <td>1.193555</td>\n      <td>-0.441652</td>\n    </tr>\n    <tr>\n      <th>6</th>\n      <td>foo</td>\n      <td>one</td>\n      <td>-0.408530</td>\n      <td>0.268520</td>\n    </tr>\n    <tr>\n      <th>7</th>\n      <td>foo</td>\n      <td>three</td>\n      <td>-0.862495</td>\n      <td>0.024580</td>\n    </tr>\n  </tbody>\n</table>\n</div>"
     },
     "metadata": {},
     "execution_count": 171
    }
   ],
   "source": [
    "%run ../demo/algorithm.py\n",
    "\n",
    "grp = df.groupby('A')\n",
    "display(df)\n",
    "def func(x):\n",
    "    display(x)\n",
    "    if x.iloc[0, 0] == 'bar':\n",
    "        return x.drop(x.index)\n",
    "    else:\n",
    "        return x\n",
    "grp.apply(func)\n",
    "\n"
   ]
  },
  {
   "source": [
    "### demo2\n",
    "\n",
    "test pands copy"
   ],
   "cell_type": "markdown",
   "metadata": {}
  },
  {
   "cell_type": "code",
   "execution_count": 161,
   "metadata": {},
   "outputs": [
    {
     "output_type": "stream",
     "name": "stdout",
     "text": [
      "<class 'pandas.core.frame.DataFrame'>\nRangeIndex: 8 entries, 0 to 7\nData columns (total 4 columns):\n #   Column  Non-Null Count  Dtype  \n---  ------  --------------  -----  \n 0   A       8 non-null      object \n 1   B       8 non-null      object \n 2   C       8 non-null      float64\n 3   D       8 non-null      float64\ndtypes: float64(2), object(2)\nmemory usage: 384.0+ bytes\n"
     ]
    }
   ],
   "source": [
    "%run ../demo/algorithm.py\n",
    "new_df = df\n",
    "new_df is df\n",
    "new_df.info()"
   ]
  },
  {
   "source": [
    "### demo3\n",
    "\n",
    "test subclass "
   ],
   "cell_type": "markdown",
   "metadata": {}
  },
  {
   "cell_type": "code",
   "execution_count": 163,
   "metadata": {},
   "outputs": [
    {
     "output_type": "execute_result",
     "data": {
      "text/plain": [
       "<__main__.B at 0x2dd56d06f88>"
      ]
     },
     "metadata": {},
     "execution_count": 163
    }
   ],
   "source": [
    "%run ../demo/algorithm.py\n",
    "\n",
    "b = B('A', 12)\n"
   ]
  },
  {
   "source": [
    "## Scratch"
   ],
   "cell_type": "markdown",
   "metadata": {}
  },
  {
   "source": [
    "### demo1\n",
    "\n",
    "test NamedTuple"
   ],
   "cell_type": "markdown",
   "metadata": {}
  },
  {
   "cell_type": "code",
   "execution_count": null,
   "metadata": {},
   "outputs": [],
   "source": [
    "from typing import NamedTuple, List\n",
    "SA = NamedTuple('SA', [('left', int), ('right', int), ('dur_sum', int), ('cid', int)])\n",
    "sa1 = SA(1, 2, 3, 4)\n",
    "sa2 = SA(3, 4, 5, 6)\n",
    "sas: List[SA] = []\n",
    "sas.append(sa1)\n",
    "sas"
   ]
  },
  {
   "source": [
    "### demo2\n",
    "\n",
    "test adjacent element in numpy"
   ],
   "cell_type": "markdown",
   "metadata": {}
  },
  {
   "cell_type": "code",
   "execution_count": null,
   "metadata": {},
   "outputs": [],
   "source": [
    "a = np.array([0, 0, 0,  1, 3, 2, 2, 3, 3, 3])\n",
    "# diff = np.diff(a).astype(np.bool)\n",
    "# a[np.insert(np.diff(a).astype(np.bool), 0, True)]\n",
    "a[:5].sum()\n",
    "b = 1\n"
   ]
  }
 ]
}