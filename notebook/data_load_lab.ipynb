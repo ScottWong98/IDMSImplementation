{
 "metadata": {
  "language_info": {
   "codemirror_mode": {
    "name": "ipython",
    "version": 3
   },
   "file_extension": ".py",
   "mimetype": "text/x-python",
   "name": "python",
   "nbconvert_exporter": "python",
   "pygments_lexer": "ipython3",
   "version": "3.7.9-final"
  },
  "orig_nbformat": 2,
  "kernelspec": {
   "name": "python3",
   "display_name": "Python 3.7.9 64-bit ('idms': conda)",
   "metadata": {
    "interpreter": {
     "hash": "a8830a6b190e3a3c92b56a6e784dbbf42a0fce4581b5215dca1d6ad350969660"
    }
   }
  }
 },
 "nbformat": 4,
 "nbformat_minor": 2,
 "cells": [
  {
   "cell_type": "code",
   "execution_count": null,
   "metadata": {},
   "outputs": [],
   "source": [
    "import pandas as pd \n",
    "import numpy as np\n",
    "from matplotlib import pyplot as plt \n",
    "import math"
   ]
  },
  {
   "source": [
    "## Run trajectory_generator.py"
   ],
   "cell_type": "markdown",
   "metadata": {}
  },
  {
   "source": [
    "### demo1"
   ],
   "cell_type": "markdown",
   "metadata": {}
  },
  {
   "source": [
    "Autoload modules"
   ],
   "cell_type": "markdown",
   "metadata": {}
  },
  {
   "cell_type": "code",
   "execution_count": 1,
   "metadata": {},
   "outputs": [],
   "source": [
    "%load_ext autoreload\n",
    "%autoreload 1\n",
    "import sys\n",
    "sys.path.append(r'D:\\\\CodeRepository\\\\Python\\\\IDMSImplementation')\n",
    "%aimport idms_impl.trajectory_generator\n",
    "%aimport idms_impl.stop_area_mining"
   ]
  },
  {
   "source": [
    "Test Stop Area Mining"
   ],
   "cell_type": "markdown",
   "metadata": {}
  },
  {
   "cell_type": "code",
   "execution_count": 79,
   "metadata": {
    "tags": []
   },
   "outputs": [
    {
     "output_type": "stream",
     "name": "stdout",
     "text": [
      "Finish it in 8.049431800842285s\n"
     ]
    }
   ],
   "source": [
    "orig_filename = r'C:\\Users\\Scott\\Documents\\ECNU\\data\\20201116\\9_user.csv'\n",
    "\n",
    "usecols = ['SUBSTR(MSISDN,1,7)', 'STAT_DATE', 'STIME', 'END_TIME', 'ZH_LABEL', 'LATITUDE', 'NUMBERITUDE', 'DURATION', 'DATA_TOTAL']\n",
    "name_mapper = {\n",
    "    \"SUBSTR(MSISDN,1,7)\": \"USER_ID\",\n",
    "    \"NUMBERITUDE\": \"LONGITUDE\",\n",
    "    \"DATA_TOTAL\": \"TOTAL_DATA\"\n",
    "}\n",
    "%run -m idms_impl.trajectory_generator\n",
    "\n",
    "import time\n",
    "\n",
    "start_time = time.time()\n",
    "\n",
    "tr_gen = TrajectoryGenerator()\n",
    "\n",
    "tr_gen.stop_area_mining(filename=orig_filename,\n",
    "                        usecols=usecols,\n",
    "                        name_mapper=name_mapper,\n",
    "                        nan_dur_theta=4 * 3600,\n",
    "                        dist_theta=5 / 111,\n",
    "                        point_dur_theta=20,\n",
    "                        eps=0.0036,\n",
    "                        min_dur=900)\n",
    "# tr_gen.sam.load_data(filename=orig_filename)\n",
    "\n",
    "# tr_gen.sam.format_raw_data(usecols=usecols, name_mapper={\n",
    "#     \"SUBSTR(MSISDN,1,7)\": \"USER_ID\",\n",
    "#     \"NUMBERITUDE\": \"LONGITUDE\",\n",
    "#     \"DATA_TOTAL\": \"TOTAL_DATA\"\n",
    "# })\n",
    "\n",
    "# tr_gen.sam.check_invalid_tr(nan_dur_theta=4 * 3600, dist_theta=5 / 111)\n",
    "\n",
    "# tr_gen.sam.gen_valid_area(point_dur_theta=20, eps=0.0036, min_dur=900)\n",
    "\n",
    "# tr_gen.sam.df.to_csv('../data/no_invalid_area.csv', encoding='gbk', index=False)\n",
    "# tr_gen.sam.merge_adjacent_points()\n",
    "\n",
    "# tr_gen.sam.df.to_csv('../data/sam.csv', encoding='gbk', index=False)\n",
    "\n",
    "end_time = time.time()\n",
    "print(f'Finish it in {end_time - start_time}s')"
   ]
  },
  {
   "cell_type": "code",
   "execution_count": 80,
   "metadata": {},
   "outputs": [
    {
     "output_type": "execute_result",
     "data": {
      "text/plain": [
       "     USER_ID  STAT_DATE           STIME        END_TIME  \\\n",
       "0    1377032   20201010  20201010010256  20201010075958   \n",
       "1    1377032   20201010  20201010081943  20201010082011   \n",
       "2    1377032   20201010  20201010204937  20201010205111   \n",
       "3    1377032   20201011  20201011002044  20201011002919   \n",
       "4    1377032   20201011  20201011145242  20201011145426   \n",
       "..       ...        ...             ...             ...   \n",
       "770  1870519   20201031  20201031005638  20201031005809   \n",
       "771  1870519   20201031  20201031075833  20201031075913   \n",
       "772  1870519   20201031  20201031180811  20201031184443   \n",
       "773  1870519   20201031  20201031193626  20201031201730   \n",
       "774  1870519   20201031  20201031211049  20201031211148   \n",
       "\n",
       "                      ZH_LABEL   LATITUDE   LONGITUDE  DURATION  \\\n",
       "0              莲花新城南苑六期FD(W)-1  31.967434  118.711093     25806   \n",
       "1                 企业加速器南四期LF-3  31.983472  118.728787     43345   \n",
       "2            江山大街东3DMIMO一期LD-3  31.967434  118.711093     11313   \n",
       "3              莲花新城南苑六期FD(W)-1  31.967434  118.711093     50614   \n",
       "4    华新城商业中心二期1F和2F北侧六期LE(W)-5  32.017927  118.721801      7159   \n",
       "..                         ...        ...         ...       ...   \n",
       "770         东渡国际青年城3#六期FD(W)-2  31.921618  118.895487     22954   \n",
       "771                碧云山庄二六期FD-1  32.071657  118.613613     34340   \n",
       "772                浦口纬三路二期LF-3  32.095958  118.689354      2192   \n",
       "773                 诚信大道四期LD-3  31.903750  118.779801      2464   \n",
       "774         东渡国际青年城3#六期FD(W)-2  31.921618  118.895487     10137   \n",
       "\n",
       "        TOTAL_DATA  CLUSTER_ID  \n",
       "0      2533.554688           0  \n",
       "1    194624.958984           2  \n",
       "2     34651.035156           0  \n",
       "3     12646.069336           0  \n",
       "4       576.026367           4  \n",
       "..             ...         ...  \n",
       "770   15704.668945           0  \n",
       "771   75173.943359          24  \n",
       "772  205260.387695          33  \n",
       "773   52149.913086          34  \n",
       "774   71259.740234           0  \n",
       "\n",
       "[775 rows x 10 columns]"
      ],
      "text/html": "<div>\n<style scoped>\n    .dataframe tbody tr th:only-of-type {\n        vertical-align: middle;\n    }\n\n    .dataframe tbody tr th {\n        vertical-align: top;\n    }\n\n    .dataframe thead th {\n        text-align: right;\n    }\n</style>\n<table border=\"1\" class=\"dataframe\">\n  <thead>\n    <tr style=\"text-align: right;\">\n      <th></th>\n      <th>USER_ID</th>\n      <th>STAT_DATE</th>\n      <th>STIME</th>\n      <th>END_TIME</th>\n      <th>ZH_LABEL</th>\n      <th>LATITUDE</th>\n      <th>LONGITUDE</th>\n      <th>DURATION</th>\n      <th>TOTAL_DATA</th>\n      <th>CLUSTER_ID</th>\n    </tr>\n  </thead>\n  <tbody>\n    <tr>\n      <th>0</th>\n      <td>1377032</td>\n      <td>20201010</td>\n      <td>20201010010256</td>\n      <td>20201010075958</td>\n      <td>莲花新城南苑六期FD(W)-1</td>\n      <td>31.967434</td>\n      <td>118.711093</td>\n      <td>25806</td>\n      <td>2533.554688</td>\n      <td>0</td>\n    </tr>\n    <tr>\n      <th>1</th>\n      <td>1377032</td>\n      <td>20201010</td>\n      <td>20201010081943</td>\n      <td>20201010082011</td>\n      <td>企业加速器南四期LF-3</td>\n      <td>31.983472</td>\n      <td>118.728787</td>\n      <td>43345</td>\n      <td>194624.958984</td>\n      <td>2</td>\n    </tr>\n    <tr>\n      <th>2</th>\n      <td>1377032</td>\n      <td>20201010</td>\n      <td>20201010204937</td>\n      <td>20201010205111</td>\n      <td>江山大街东3DMIMO一期LD-3</td>\n      <td>31.967434</td>\n      <td>118.711093</td>\n      <td>11313</td>\n      <td>34651.035156</td>\n      <td>0</td>\n    </tr>\n    <tr>\n      <th>3</th>\n      <td>1377032</td>\n      <td>20201011</td>\n      <td>20201011002044</td>\n      <td>20201011002919</td>\n      <td>莲花新城南苑六期FD(W)-1</td>\n      <td>31.967434</td>\n      <td>118.711093</td>\n      <td>50614</td>\n      <td>12646.069336</td>\n      <td>0</td>\n    </tr>\n    <tr>\n      <th>4</th>\n      <td>1377032</td>\n      <td>20201011</td>\n      <td>20201011145242</td>\n      <td>20201011145426</td>\n      <td>华新城商业中心二期1F和2F北侧六期LE(W)-5</td>\n      <td>32.017927</td>\n      <td>118.721801</td>\n      <td>7159</td>\n      <td>576.026367</td>\n      <td>4</td>\n    </tr>\n    <tr>\n      <th>...</th>\n      <td>...</td>\n      <td>...</td>\n      <td>...</td>\n      <td>...</td>\n      <td>...</td>\n      <td>...</td>\n      <td>...</td>\n      <td>...</td>\n      <td>...</td>\n      <td>...</td>\n    </tr>\n    <tr>\n      <th>770</th>\n      <td>1870519</td>\n      <td>20201031</td>\n      <td>20201031005638</td>\n      <td>20201031005809</td>\n      <td>东渡国际青年城3#六期FD(W)-2</td>\n      <td>31.921618</td>\n      <td>118.895487</td>\n      <td>22954</td>\n      <td>15704.668945</td>\n      <td>0</td>\n    </tr>\n    <tr>\n      <th>771</th>\n      <td>1870519</td>\n      <td>20201031</td>\n      <td>20201031075833</td>\n      <td>20201031075913</td>\n      <td>碧云山庄二六期FD-1</td>\n      <td>32.071657</td>\n      <td>118.613613</td>\n      <td>34340</td>\n      <td>75173.943359</td>\n      <td>24</td>\n    </tr>\n    <tr>\n      <th>772</th>\n      <td>1870519</td>\n      <td>20201031</td>\n      <td>20201031180811</td>\n      <td>20201031184443</td>\n      <td>浦口纬三路二期LF-3</td>\n      <td>32.095958</td>\n      <td>118.689354</td>\n      <td>2192</td>\n      <td>205260.387695</td>\n      <td>33</td>\n    </tr>\n    <tr>\n      <th>773</th>\n      <td>1870519</td>\n      <td>20201031</td>\n      <td>20201031193626</td>\n      <td>20201031201730</td>\n      <td>诚信大道四期LD-3</td>\n      <td>31.903750</td>\n      <td>118.779801</td>\n      <td>2464</td>\n      <td>52149.913086</td>\n      <td>34</td>\n    </tr>\n    <tr>\n      <th>774</th>\n      <td>1870519</td>\n      <td>20201031</td>\n      <td>20201031211049</td>\n      <td>20201031211148</td>\n      <td>东渡国际青年城3#六期FD(W)-2</td>\n      <td>31.921618</td>\n      <td>118.895487</td>\n      <td>10137</td>\n      <td>71259.740234</td>\n      <td>0</td>\n    </tr>\n  </tbody>\n</table>\n<p>775 rows × 10 columns</p>\n</div>"
     },
     "metadata": {},
     "execution_count": 80
    }
   ],
   "source": [
    "tr_gen.df"
   ]
  },
  {
   "cell_type": "code",
   "execution_count": 76,
   "metadata": {},
   "outputs": [
    {
     "output_type": "stream",
     "name": "stdout",
     "text": [
      "0 31.967451852449706 118.71106705349112\n2 31.983464975218656 118.72878457871718\n4 32.017926666666675 118.72180095238095\n3 31.988228000000003 118.700947\n7 31.936890000000002 118.40028000000001\n10 32.142602727272724 118.71773363636363\n12 32.039263 118.753679\n14 32.079789115384614 118.77775365384613\n6 31.96595 118.70386\n16 31.946715624999996 118.68897945833332\n15 31.953953555555554 118.70498922222224\n17 31.961759999999998 118.72711000000001\n18 32.02398974227273 118.78648444772729\n19 32.0143009 118.78173924999999\n20 32.01560301000001 118.78963001000002\n21 31.971302 118.79347600000001\n22 32.05931583695652 118.73762566304349\n23 32.07416 118.90133\n1 31.98355593333333 118.71956333333334\n"
     ]
    }
   ],
   "source": [
    "user_grp = res.groupby(['USER_ID'], sort=False)\n",
    "for uid, user in user_grp:\n",
    "    \n",
    "    c_grp = user.groupby(['CLUSTER_ID'], sort=False)\n",
    "    for cid, cluster in c_grp:\n",
    "        print(cid, cluster.LATITUDE.mean(), cluster.LONGITUDE.mean())\n",
    "    break"
   ]
  },
  {
   "source": [
    "### demo2"
   ],
   "cell_type": "markdown",
   "metadata": {}
  },
  {
   "cell_type": "code",
   "execution_count": null,
   "metadata": {},
   "outputs": [],
   "source": [
    "%run ../idms_impl/data_load.py\n",
    "a = np.array([31.968177, 118.711710])\n",
    "b = np.array([31.967207, 118.707899])\n",
    "d = get_dist(a, b)\n",
    "print(type(d))\n",
    "print(a, b)"
   ]
  },
  {
   "source": [
    "## Run algorithm.py"
   ],
   "cell_type": "markdown",
   "metadata": {}
  },
  {
   "source": [
    "### demo1\n",
    "\n",
    "test groupby"
   ],
   "cell_type": "markdown",
   "metadata": {}
  },
  {
   "cell_type": "code",
   "execution_count": null,
   "metadata": {},
   "outputs": [],
   "source": [
    "%run ../demo/algorithm.py\n",
    "\n",
    "grp = df.groupby('A')\n",
    "display(df)\n",
    "def func(x):\n",
    "    display(x)\n",
    "    if x.iloc[0, 0] == 'bar':\n",
    "        return x.drop(x.index)\n",
    "    else:\n",
    "        return x\n",
    "grp.apply(func)\n",
    "\n"
   ]
  },
  {
   "source": [
    "### demo2\n",
    "\n",
    "test pands copy"
   ],
   "cell_type": "markdown",
   "metadata": {}
  },
  {
   "cell_type": "code",
   "execution_count": null,
   "metadata": {},
   "outputs": [],
   "source": [
    "%run ../demo/algorithm.py\n",
    "new_df = df\n",
    "new_df is df\n",
    "new_df.info()"
   ]
  },
  {
   "source": [
    "### demo3\n",
    "\n",
    "test subclass "
   ],
   "cell_type": "markdown",
   "metadata": {}
  },
  {
   "cell_type": "code",
   "execution_count": null,
   "metadata": {},
   "outputs": [],
   "source": [
    "%run ../demo/algorithm.py\n",
    "\n",
    "b = B('A', 12)\n"
   ]
  },
  {
   "cell_type": "code",
   "execution_count": null,
   "metadata": {},
   "outputs": [],
   "source": [
    "%cd D:\\\\CodeRepository\\\\Python\\\\IDMSImplementation\n",
    "%run demo/algorithm.py\n",
    "\n",
    "c = C()\n",
    "c.age = 1"
   ]
  },
  {
   "source": [
    "## Scratch"
   ],
   "cell_type": "markdown",
   "metadata": {}
  },
  {
   "source": [
    "### demo1\n",
    "\n",
    "test NamedTuple"
   ],
   "cell_type": "markdown",
   "metadata": {}
  },
  {
   "cell_type": "code",
   "execution_count": null,
   "metadata": {},
   "outputs": [],
   "source": [
    "from typing import NamedTuple, List\n",
    "SA = NamedTuple('SA', [('left', int), ('right', int), ('dur_sum', int), ('cid', int)])\n",
    "sa1 = SA(1, 2, 3, 4)\n",
    "sa2 = SA(3, 4, 5, 6)\n",
    "sas: List[SA] = []\n",
    "sas.append(sa1)\n",
    "sas"
   ]
  },
  {
   "source": [
    "### demo2\n",
    "\n",
    "test adjacent element in numpy"
   ],
   "cell_type": "markdown",
   "metadata": {}
  },
  {
   "cell_type": "code",
   "execution_count": null,
   "metadata": {},
   "outputs": [],
   "source": [
    "a = np.array([0, 0, 0,  1, 3, 2, 2, 3, 3, 3])\n",
    "# diff = np.diff(a).astype(np.bool)\n",
    "# a[np.insert(np.diff(a).astype(np.bool), 0, True)]\n",
    "a[:5].sum()\n",
    "b = 1\n"
   ]
  },
  {
   "source": [
    "### demo3\n",
    "\n",
    "test typing"
   ],
   "cell_type": "markdown",
   "metadata": {}
  },
  {
   "cell_type": "code",
   "execution_count": null,
   "metadata": {},
   "outputs": [],
   "source": [
    "from typing import Dict\n",
    "D = Dict[str, str]\n",
    "def func(x: D):\n",
    "    print(x)\n",
    "\n",
    "a = {\n",
    "    'A': 'c'\n",
    "}\n",
    "func(a)"
   ]
  },
  {
   "cell_type": "code",
   "execution_count": null,
   "metadata": {},
   "outputs": [],
   "source": [
    "a = pd.Series(np.arange(10))\n",
    "a[0] = np.nan\n",
    "a.fillna(value=1., inplace=True)\n",
    "a"
   ]
  },
  {
   "cell_type": "code",
   "execution_count": null,
   "metadata": {},
   "outputs": [],
   "source": [
    "a = pd.Series(np.arange(10))\n",
    "a = a.astype(bool)\n",
    "print(a)\n",
    "b = a[a].index\n",
    "b.values"
   ]
  },
  {
   "cell_type": "code",
   "execution_count": null,
   "metadata": {},
   "outputs": [],
   "source": [
    "a = np.arange(10)\n",
    "a[[1, 2, 3]]\n",
    "\n",
    "np.sum([[2, 1], [3, 5]], where=[False, True], axis=1)"
   ]
  }
 ]
}