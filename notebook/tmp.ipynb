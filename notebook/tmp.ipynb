{
 "metadata": {
  "language_info": {
   "codemirror_mode": {
    "name": "ipython",
    "version": 3
   },
   "file_extension": ".py",
   "mimetype": "text/x-python",
   "name": "python",
   "nbconvert_exporter": "python",
   "pygments_lexer": "ipython3",
   "version": "3.7.9-final"
  },
  "orig_nbformat": 2,
  "kernelspec": {
   "name": "python3",
   "display_name": "Python 3.7.9 64-bit ('idms': conda)",
   "metadata": {
    "interpreter": {
     "hash": "a8830a6b190e3a3c92b56a6e784dbbf42a0fce4581b5215dca1d6ad350969660"
    }
   }
  }
 },
 "nbformat": 4,
 "nbformat_minor": 2,
 "cells": [
  {
   "cell_type": "code",
   "execution_count": 1,
   "metadata": {},
   "outputs": [],
   "source": [
    "%load_ext autoreload\n",
    "%autoreload 1\n",
    "import sys\n",
    "sys.path.append(r'D:\\\\CodeRepository\\\\Python\\\\IDMSImplementation')\n",
    "%aimport idms_impl.trajectory_generator\n",
    "%aimport idms_impl.stop_area_mining\n",
    "%aimport idms_impl.semantic_tag_conversion"
   ]
  },
  {
   "cell_type": "code",
   "execution_count": 2,
   "metadata": {},
   "outputs": [],
   "source": [
    "%run ../idms_impl/poi.py\n",
    "poi_gen = POIGenerator()\n",
    "poi_gen.load_poi(filename=r'C:\\\\Users\\\\Scott\\\\Documents\\\\ECNU\\\\data\\\\poi\\\\nj_poi.csv')\n",
    "poi_gen.train_data(k=4)"
   ]
  },
  {
   "cell_type": "code",
   "execution_count": 64,
   "metadata": {},
   "outputs": [
    {
     "output_type": "stream",
     "name": "stdout",
     "text": [
      "Finish it in 8.15152645111084s\n"
     ]
    }
   ],
   "source": [
    "orig_filename = r'C:\\Users\\Scott\\Documents\\ECNU\\data\\20201116\\9_user.csv'\n",
    "\n",
    "usecols = ['SUBSTR(MSISDN,1,7)', 'STAT_DATE', 'STIME', 'END_TIME', 'ZH_LABEL', 'LATITUDE', 'NUMBERITUDE', 'DURATION', 'DATA_TOTAL']\n",
    "name_mapper = {\n",
    "    \"SUBSTR(MSISDN,1,7)\": \"USER_ID\",\n",
    "    \"NUMBERITUDE\": \"LONGITUDE\",\n",
    "    \"DATA_TOTAL\": \"TOTAL_DATA\"\n",
    "}\n",
    "%run -m idms_impl.trajectory_generator\n",
    "\n",
    "import time\n",
    "\n",
    "start_time = time.time()\n",
    "\n",
    "tr_gen = TrajectoryGenerator()\n",
    "\n",
    "tr_gen.stop_area_mining(filename=orig_filename,\n",
    "                        usecols=usecols,\n",
    "                        name_mapper=name_mapper,\n",
    "                        nan_dur_theta=4 * 3600,\n",
    "                        dist_theta=5 / 111,\n",
    "                        point_dur_theta=20,\n",
    "                        eps=0.0036,\n",
    "                        min_dur=900)\n",
    "end_time = time.time()\n",
    "print(f'Finish it in {end_time - start_time}s')"
   ]
  },
  {
   "cell_type": "code",
   "execution_count": 65,
   "metadata": {},
   "outputs": [],
   "source": [
    "tr_gen.semantic_tag_conversion(theta=0.9, poi_gen=poi_gen)"
   ]
  },
  {
   "cell_type": "code",
   "execution_count": 66,
   "metadata": {},
   "outputs": [
    {
     "output_type": "execute_result",
     "data": {
      "text/plain": [
       "     USER_ID  CLUSTER_ID  STAT_DATE           STIME        END_TIME  \\\n",
       "0    1377032           0   20201010  20201010010256  20201010075958   \n",
       "1    1377032           2   20201010  20201010081943  20201010082011   \n",
       "2    1377032           0   20201010  20201010204937  20201010205111   \n",
       "3    1377032           0   20201011  20201011002044  20201011002919   \n",
       "4    1377032           4   20201011  20201011145242  20201011145426   \n",
       "..       ...         ...        ...             ...             ...   \n",
       "770  1870519           0   20201031  20201031005638  20201031005809   \n",
       "771  1870519          24   20201031  20201031075833  20201031075913   \n",
       "772  1870519          33   20201031  20201031180811  20201031184443   \n",
       "773  1870519          34   20201031  20201031193626  20201031201730   \n",
       "774  1870519           0   20201031  20201031211049  20201031211148   \n",
       "\n",
       "      LATITUDE   LONGITUDE  DURATION     TOTAL_DATA   type big_ctg medium_ctg  \\\n",
       "0    31.967434  118.711093     25806    2533.554688   home    商务住宅        住宅区   \n",
       "1    31.983472  118.728787     43345  194624.958984   work    公司企业         公司   \n",
       "2    31.967434  118.711093     11313   34651.035156   home    商务住宅        住宅区   \n",
       "3    31.967434  118.711093     50614   12646.069336   home    商务住宅        住宅区   \n",
       "4    32.017927  118.721801      7159     576.026367  other  体育休闲服务       娱乐场所   \n",
       "..         ...         ...       ...            ...    ...     ...        ...   \n",
       "770  31.921618  118.895487     22954   15704.668945   home    生活服务      美容美发店   \n",
       "771  32.071657  118.613613     34340   75173.943359   work    公司企业         公司   \n",
       "772  32.095958  118.689354      2192  205260.387695  other    公司企业         公司   \n",
       "773  31.903750  118.779801      2464   52149.913086  other    公司企业         公司   \n",
       "774  31.921618  118.895487     10137   71259.740234   home    生活服务      美容美发店   \n",
       "\n",
       "    small_ctg               name province city region  \n",
       "0        住宅小区             莲花新城嘉园      江苏省  南京市    建邺区  \n",
       "1          公司       南京试错教育科技有限公司      江苏省  南京市    建邺区  \n",
       "2        住宅小区             莲花新城嘉园      江苏省  南京市    建邺区  \n",
       "3        住宅小区             莲花新城嘉园      江苏省  南京市    建邺区  \n",
       "4         棋牌室               宾馆棋牌      江苏省  南京市    建邺区  \n",
       "..        ...                ...      ...  ...    ...  \n",
       "770     美容美发店            幻伊人美容美体      江苏省  南京市    江宁区  \n",
       "771        公司  南京远能电力工程有限公司浦口分公司      江苏省  南京市    浦口区  \n",
       "772        公司      江北扬子江隧道救援服务中心      江苏省  南京市    浦口区  \n",
       "773        公司       南京善围建筑科技有限公司      江苏省  南京市    江宁区  \n",
       "774     美容美发店            幻伊人美容美体      江苏省  南京市    江宁区  \n",
       "\n",
       "[775 rows x 17 columns]"
      ],
      "text/html": "<div>\n<style scoped>\n    .dataframe tbody tr th:only-of-type {\n        vertical-align: middle;\n    }\n\n    .dataframe tbody tr th {\n        vertical-align: top;\n    }\n\n    .dataframe thead th {\n        text-align: right;\n    }\n</style>\n<table border=\"1\" class=\"dataframe\">\n  <thead>\n    <tr style=\"text-align: right;\">\n      <th></th>\n      <th>USER_ID</th>\n      <th>CLUSTER_ID</th>\n      <th>STAT_DATE</th>\n      <th>STIME</th>\n      <th>END_TIME</th>\n      <th>LATITUDE</th>\n      <th>LONGITUDE</th>\n      <th>DURATION</th>\n      <th>TOTAL_DATA</th>\n      <th>type</th>\n      <th>big_ctg</th>\n      <th>medium_ctg</th>\n      <th>small_ctg</th>\n      <th>name</th>\n      <th>province</th>\n      <th>city</th>\n      <th>region</th>\n    </tr>\n  </thead>\n  <tbody>\n    <tr>\n      <th>0</th>\n      <td>1377032</td>\n      <td>0</td>\n      <td>20201010</td>\n      <td>20201010010256</td>\n      <td>20201010075958</td>\n      <td>31.967434</td>\n      <td>118.711093</td>\n      <td>25806</td>\n      <td>2533.554688</td>\n      <td>home</td>\n      <td>商务住宅</td>\n      <td>住宅区</td>\n      <td>住宅小区</td>\n      <td>莲花新城嘉园</td>\n      <td>江苏省</td>\n      <td>南京市</td>\n      <td>建邺区</td>\n    </tr>\n    <tr>\n      <th>1</th>\n      <td>1377032</td>\n      <td>2</td>\n      <td>20201010</td>\n      <td>20201010081943</td>\n      <td>20201010082011</td>\n      <td>31.983472</td>\n      <td>118.728787</td>\n      <td>43345</td>\n      <td>194624.958984</td>\n      <td>work</td>\n      <td>公司企业</td>\n      <td>公司</td>\n      <td>公司</td>\n      <td>南京试错教育科技有限公司</td>\n      <td>江苏省</td>\n      <td>南京市</td>\n      <td>建邺区</td>\n    </tr>\n    <tr>\n      <th>2</th>\n      <td>1377032</td>\n      <td>0</td>\n      <td>20201010</td>\n      <td>20201010204937</td>\n      <td>20201010205111</td>\n      <td>31.967434</td>\n      <td>118.711093</td>\n      <td>11313</td>\n      <td>34651.035156</td>\n      <td>home</td>\n      <td>商务住宅</td>\n      <td>住宅区</td>\n      <td>住宅小区</td>\n      <td>莲花新城嘉园</td>\n      <td>江苏省</td>\n      <td>南京市</td>\n      <td>建邺区</td>\n    </tr>\n    <tr>\n      <th>3</th>\n      <td>1377032</td>\n      <td>0</td>\n      <td>20201011</td>\n      <td>20201011002044</td>\n      <td>20201011002919</td>\n      <td>31.967434</td>\n      <td>118.711093</td>\n      <td>50614</td>\n      <td>12646.069336</td>\n      <td>home</td>\n      <td>商务住宅</td>\n      <td>住宅区</td>\n      <td>住宅小区</td>\n      <td>莲花新城嘉园</td>\n      <td>江苏省</td>\n      <td>南京市</td>\n      <td>建邺区</td>\n    </tr>\n    <tr>\n      <th>4</th>\n      <td>1377032</td>\n      <td>4</td>\n      <td>20201011</td>\n      <td>20201011145242</td>\n      <td>20201011145426</td>\n      <td>32.017927</td>\n      <td>118.721801</td>\n      <td>7159</td>\n      <td>576.026367</td>\n      <td>other</td>\n      <td>体育休闲服务</td>\n      <td>娱乐场所</td>\n      <td>棋牌室</td>\n      <td>宾馆棋牌</td>\n      <td>江苏省</td>\n      <td>南京市</td>\n      <td>建邺区</td>\n    </tr>\n    <tr>\n      <th>...</th>\n      <td>...</td>\n      <td>...</td>\n      <td>...</td>\n      <td>...</td>\n      <td>...</td>\n      <td>...</td>\n      <td>...</td>\n      <td>...</td>\n      <td>...</td>\n      <td>...</td>\n      <td>...</td>\n      <td>...</td>\n      <td>...</td>\n      <td>...</td>\n      <td>...</td>\n      <td>...</td>\n      <td>...</td>\n    </tr>\n    <tr>\n      <th>770</th>\n      <td>1870519</td>\n      <td>0</td>\n      <td>20201031</td>\n      <td>20201031005638</td>\n      <td>20201031005809</td>\n      <td>31.921618</td>\n      <td>118.895487</td>\n      <td>22954</td>\n      <td>15704.668945</td>\n      <td>home</td>\n      <td>生活服务</td>\n      <td>美容美发店</td>\n      <td>美容美发店</td>\n      <td>幻伊人美容美体</td>\n      <td>江苏省</td>\n      <td>南京市</td>\n      <td>江宁区</td>\n    </tr>\n    <tr>\n      <th>771</th>\n      <td>1870519</td>\n      <td>24</td>\n      <td>20201031</td>\n      <td>20201031075833</td>\n      <td>20201031075913</td>\n      <td>32.071657</td>\n      <td>118.613613</td>\n      <td>34340</td>\n      <td>75173.943359</td>\n      <td>work</td>\n      <td>公司企业</td>\n      <td>公司</td>\n      <td>公司</td>\n      <td>南京远能电力工程有限公司浦口分公司</td>\n      <td>江苏省</td>\n      <td>南京市</td>\n      <td>浦口区</td>\n    </tr>\n    <tr>\n      <th>772</th>\n      <td>1870519</td>\n      <td>33</td>\n      <td>20201031</td>\n      <td>20201031180811</td>\n      <td>20201031184443</td>\n      <td>32.095958</td>\n      <td>118.689354</td>\n      <td>2192</td>\n      <td>205260.387695</td>\n      <td>other</td>\n      <td>公司企业</td>\n      <td>公司</td>\n      <td>公司</td>\n      <td>江北扬子江隧道救援服务中心</td>\n      <td>江苏省</td>\n      <td>南京市</td>\n      <td>浦口区</td>\n    </tr>\n    <tr>\n      <th>773</th>\n      <td>1870519</td>\n      <td>34</td>\n      <td>20201031</td>\n      <td>20201031193626</td>\n      <td>20201031201730</td>\n      <td>31.903750</td>\n      <td>118.779801</td>\n      <td>2464</td>\n      <td>52149.913086</td>\n      <td>other</td>\n      <td>公司企业</td>\n      <td>公司</td>\n      <td>公司</td>\n      <td>南京善围建筑科技有限公司</td>\n      <td>江苏省</td>\n      <td>南京市</td>\n      <td>江宁区</td>\n    </tr>\n    <tr>\n      <th>774</th>\n      <td>1870519</td>\n      <td>0</td>\n      <td>20201031</td>\n      <td>20201031211049</td>\n      <td>20201031211148</td>\n      <td>31.921618</td>\n      <td>118.895487</td>\n      <td>10137</td>\n      <td>71259.740234</td>\n      <td>home</td>\n      <td>生活服务</td>\n      <td>美容美发店</td>\n      <td>美容美发店</td>\n      <td>幻伊人美容美体</td>\n      <td>江苏省</td>\n      <td>南京市</td>\n      <td>江宁区</td>\n    </tr>\n  </tbody>\n</table>\n<p>775 rows × 17 columns</p>\n</div>"
     },
     "metadata": {},
     "execution_count": 66
    }
   ],
   "source": [
    "tr_gen.df"
   ]
  },
  {
   "cell_type": "code",
   "execution_count": 59,
   "metadata": {},
   "outputs": [],
   "source": [
    "tr_gen.stc.main_area_mining(theta=0.9)"
   ]
  },
  {
   "cell_type": "code",
   "execution_count": 60,
   "metadata": {},
   "outputs": [
    {
     "output_type": "execute_result",
     "data": {
      "text/plain": [
       "                      sn   dur_sum              d   type\n",
       "USER_ID CLUSTER_ID                                      \n",
       "1377032 0           21.0  858715.0   57049.663830   home\n",
       "        2           15.0  619153.0  238137.694661   work\n",
       "        22           3.0   96684.0  228284.142578  other\n",
       "        6            1.0   42723.0  433745.323242  other\n",
       "        10           1.0   34091.0  137122.463867  other\n",
       "...                  ...       ...            ...    ...\n",
       "1870519 5            1.0    2076.0    1552.216797  other\n",
       "        22           1.0    2042.0  250869.634766  other\n",
       "        17           1.0    1639.0       0.000000  other\n",
       "        16           1.0    1359.0       0.000000  other\n",
       "        28           1.0     958.0     872.636719  other\n",
       "\n",
       "[160 rows x 4 columns]"
      ],
      "text/html": "<div>\n<style scoped>\n    .dataframe tbody tr th:only-of-type {\n        vertical-align: middle;\n    }\n\n    .dataframe tbody tr th {\n        vertical-align: top;\n    }\n\n    .dataframe thead th {\n        text-align: right;\n    }\n</style>\n<table border=\"1\" class=\"dataframe\">\n  <thead>\n    <tr style=\"text-align: right;\">\n      <th></th>\n      <th></th>\n      <th>sn</th>\n      <th>dur_sum</th>\n      <th>d</th>\n      <th>type</th>\n    </tr>\n    <tr>\n      <th>USER_ID</th>\n      <th>CLUSTER_ID</th>\n      <th></th>\n      <th></th>\n      <th></th>\n      <th></th>\n    </tr>\n  </thead>\n  <tbody>\n    <tr>\n      <th rowspan=\"5\" valign=\"top\">1377032</th>\n      <th>0</th>\n      <td>21.0</td>\n      <td>858715.0</td>\n      <td>57049.663830</td>\n      <td>home</td>\n    </tr>\n    <tr>\n      <th>2</th>\n      <td>15.0</td>\n      <td>619153.0</td>\n      <td>238137.694661</td>\n      <td>work</td>\n    </tr>\n    <tr>\n      <th>22</th>\n      <td>3.0</td>\n      <td>96684.0</td>\n      <td>228284.142578</td>\n      <td>other</td>\n    </tr>\n    <tr>\n      <th>6</th>\n      <td>1.0</td>\n      <td>42723.0</td>\n      <td>433745.323242</td>\n      <td>other</td>\n    </tr>\n    <tr>\n      <th>10</th>\n      <td>1.0</td>\n      <td>34091.0</td>\n      <td>137122.463867</td>\n      <td>other</td>\n    </tr>\n    <tr>\n      <th>...</th>\n      <th>...</th>\n      <td>...</td>\n      <td>...</td>\n      <td>...</td>\n      <td>...</td>\n    </tr>\n    <tr>\n      <th rowspan=\"5\" valign=\"top\">1870519</th>\n      <th>5</th>\n      <td>1.0</td>\n      <td>2076.0</td>\n      <td>1552.216797</td>\n      <td>other</td>\n    </tr>\n    <tr>\n      <th>22</th>\n      <td>1.0</td>\n      <td>2042.0</td>\n      <td>250869.634766</td>\n      <td>other</td>\n    </tr>\n    <tr>\n      <th>17</th>\n      <td>1.0</td>\n      <td>1639.0</td>\n      <td>0.000000</td>\n      <td>other</td>\n    </tr>\n    <tr>\n      <th>16</th>\n      <td>1.0</td>\n      <td>1359.0</td>\n      <td>0.000000</td>\n      <td>other</td>\n    </tr>\n    <tr>\n      <th>28</th>\n      <td>1.0</td>\n      <td>958.0</td>\n      <td>872.636719</td>\n      <td>other</td>\n    </tr>\n  </tbody>\n</table>\n<p>160 rows × 4 columns</p>\n</div>"
     },
     "metadata": {},
     "execution_count": 60
    }
   ],
   "source": [
    "tr_gen.stc.cluster_attr"
   ]
  },
  {
   "cell_type": "code",
   "execution_count": 61,
   "metadata": {
    "tags": []
   },
   "outputs": [],
   "source": [
    "tr_gen.stc.semantic_tag_conversion(poi_gen=poi_gen)"
   ]
  },
  {
   "cell_type": "code",
   "execution_count": 62,
   "metadata": {},
   "outputs": [
    {
     "output_type": "execute_result",
     "data": {
      "text/plain": [
       "     USER_ID  CLUSTER_ID  STAT_DATE           STIME        END_TIME  \\\n",
       "0    1377032           0   20201010  20201010010256  20201010075958   \n",
       "1    1377032           2   20201010  20201010081943  20201010082011   \n",
       "2    1377032           0   20201010  20201010204937  20201010205111   \n",
       "3    1377032           0   20201011  20201011002044  20201011002919   \n",
       "4    1377032           4   20201011  20201011145242  20201011145426   \n",
       "..       ...         ...        ...             ...             ...   \n",
       "770  1870519           0   20201031  20201031005638  20201031005809   \n",
       "771  1870519          24   20201031  20201031075833  20201031075913   \n",
       "772  1870519          33   20201031  20201031180811  20201031184443   \n",
       "773  1870519          34   20201031  20201031193626  20201031201730   \n",
       "774  1870519           0   20201031  20201031211049  20201031211148   \n",
       "\n",
       "      LATITUDE   LONGITUDE  DURATION     TOTAL_DATA   type big_ctg medium_ctg  \\\n",
       "0    31.967434  118.711093     25806    2533.554688   home    商务住宅        住宅区   \n",
       "1    31.983472  118.728787     43345  194624.958984   work    公司企业         公司   \n",
       "2    31.967434  118.711093     11313   34651.035156   home    商务住宅        住宅区   \n",
       "3    31.967434  118.711093     50614   12646.069336   home    商务住宅        住宅区   \n",
       "4    32.017927  118.721801      7159     576.026367  other  体育休闲服务       娱乐场所   \n",
       "..         ...         ...       ...            ...    ...     ...        ...   \n",
       "770  31.921618  118.895487     22954   15704.668945   home    生活服务      美容美发店   \n",
       "771  32.071657  118.613613     34340   75173.943359   work    公司企业         公司   \n",
       "772  32.095958  118.689354      2192  205260.387695  other    公司企业         公司   \n",
       "773  31.903750  118.779801      2464   52149.913086  other    公司企业         公司   \n",
       "774  31.921618  118.895487     10137   71259.740234   home    生活服务      美容美发店   \n",
       "\n",
       "    small_ctg               name province city region  \n",
       "0        住宅小区             莲花新城嘉园      江苏省  南京市    建邺区  \n",
       "1          公司       南京试错教育科技有限公司      江苏省  南京市    建邺区  \n",
       "2        住宅小区             莲花新城嘉园      江苏省  南京市    建邺区  \n",
       "3        住宅小区             莲花新城嘉园      江苏省  南京市    建邺区  \n",
       "4         棋牌室               宾馆棋牌      江苏省  南京市    建邺区  \n",
       "..        ...                ...      ...  ...    ...  \n",
       "770     美容美发店            幻伊人美容美体      江苏省  南京市    江宁区  \n",
       "771        公司  南京远能电力工程有限公司浦口分公司      江苏省  南京市    浦口区  \n",
       "772        公司      江北扬子江隧道救援服务中心      江苏省  南京市    浦口区  \n",
       "773        公司       南京善围建筑科技有限公司      江苏省  南京市    江宁区  \n",
       "774     美容美发店            幻伊人美容美体      江苏省  南京市    江宁区  \n",
       "\n",
       "[775 rows x 17 columns]"
      ],
      "text/html": "<div>\n<style scoped>\n    .dataframe tbody tr th:only-of-type {\n        vertical-align: middle;\n    }\n\n    .dataframe tbody tr th {\n        vertical-align: top;\n    }\n\n    .dataframe thead th {\n        text-align: right;\n    }\n</style>\n<table border=\"1\" class=\"dataframe\">\n  <thead>\n    <tr style=\"text-align: right;\">\n      <th></th>\n      <th>USER_ID</th>\n      <th>CLUSTER_ID</th>\n      <th>STAT_DATE</th>\n      <th>STIME</th>\n      <th>END_TIME</th>\n      <th>LATITUDE</th>\n      <th>LONGITUDE</th>\n      <th>DURATION</th>\n      <th>TOTAL_DATA</th>\n      <th>type</th>\n      <th>big_ctg</th>\n      <th>medium_ctg</th>\n      <th>small_ctg</th>\n      <th>name</th>\n      <th>province</th>\n      <th>city</th>\n      <th>region</th>\n    </tr>\n  </thead>\n  <tbody>\n    <tr>\n      <th>0</th>\n      <td>1377032</td>\n      <td>0</td>\n      <td>20201010</td>\n      <td>20201010010256</td>\n      <td>20201010075958</td>\n      <td>31.967434</td>\n      <td>118.711093</td>\n      <td>25806</td>\n      <td>2533.554688</td>\n      <td>home</td>\n      <td>商务住宅</td>\n      <td>住宅区</td>\n      <td>住宅小区</td>\n      <td>莲花新城嘉园</td>\n      <td>江苏省</td>\n      <td>南京市</td>\n      <td>建邺区</td>\n    </tr>\n    <tr>\n      <th>1</th>\n      <td>1377032</td>\n      <td>2</td>\n      <td>20201010</td>\n      <td>20201010081943</td>\n      <td>20201010082011</td>\n      <td>31.983472</td>\n      <td>118.728787</td>\n      <td>43345</td>\n      <td>194624.958984</td>\n      <td>work</td>\n      <td>公司企业</td>\n      <td>公司</td>\n      <td>公司</td>\n      <td>南京试错教育科技有限公司</td>\n      <td>江苏省</td>\n      <td>南京市</td>\n      <td>建邺区</td>\n    </tr>\n    <tr>\n      <th>2</th>\n      <td>1377032</td>\n      <td>0</td>\n      <td>20201010</td>\n      <td>20201010204937</td>\n      <td>20201010205111</td>\n      <td>31.967434</td>\n      <td>118.711093</td>\n      <td>11313</td>\n      <td>34651.035156</td>\n      <td>home</td>\n      <td>商务住宅</td>\n      <td>住宅区</td>\n      <td>住宅小区</td>\n      <td>莲花新城嘉园</td>\n      <td>江苏省</td>\n      <td>南京市</td>\n      <td>建邺区</td>\n    </tr>\n    <tr>\n      <th>3</th>\n      <td>1377032</td>\n      <td>0</td>\n      <td>20201011</td>\n      <td>20201011002044</td>\n      <td>20201011002919</td>\n      <td>31.967434</td>\n      <td>118.711093</td>\n      <td>50614</td>\n      <td>12646.069336</td>\n      <td>home</td>\n      <td>商务住宅</td>\n      <td>住宅区</td>\n      <td>住宅小区</td>\n      <td>莲花新城嘉园</td>\n      <td>江苏省</td>\n      <td>南京市</td>\n      <td>建邺区</td>\n    </tr>\n    <tr>\n      <th>4</th>\n      <td>1377032</td>\n      <td>4</td>\n      <td>20201011</td>\n      <td>20201011145242</td>\n      <td>20201011145426</td>\n      <td>32.017927</td>\n      <td>118.721801</td>\n      <td>7159</td>\n      <td>576.026367</td>\n      <td>other</td>\n      <td>体育休闲服务</td>\n      <td>娱乐场所</td>\n      <td>棋牌室</td>\n      <td>宾馆棋牌</td>\n      <td>江苏省</td>\n      <td>南京市</td>\n      <td>建邺区</td>\n    </tr>\n    <tr>\n      <th>...</th>\n      <td>...</td>\n      <td>...</td>\n      <td>...</td>\n      <td>...</td>\n      <td>...</td>\n      <td>...</td>\n      <td>...</td>\n      <td>...</td>\n      <td>...</td>\n      <td>...</td>\n      <td>...</td>\n      <td>...</td>\n      <td>...</td>\n      <td>...</td>\n      <td>...</td>\n      <td>...</td>\n      <td>...</td>\n    </tr>\n    <tr>\n      <th>770</th>\n      <td>1870519</td>\n      <td>0</td>\n      <td>20201031</td>\n      <td>20201031005638</td>\n      <td>20201031005809</td>\n      <td>31.921618</td>\n      <td>118.895487</td>\n      <td>22954</td>\n      <td>15704.668945</td>\n      <td>home</td>\n      <td>生活服务</td>\n      <td>美容美发店</td>\n      <td>美容美发店</td>\n      <td>幻伊人美容美体</td>\n      <td>江苏省</td>\n      <td>南京市</td>\n      <td>江宁区</td>\n    </tr>\n    <tr>\n      <th>771</th>\n      <td>1870519</td>\n      <td>24</td>\n      <td>20201031</td>\n      <td>20201031075833</td>\n      <td>20201031075913</td>\n      <td>32.071657</td>\n      <td>118.613613</td>\n      <td>34340</td>\n      <td>75173.943359</td>\n      <td>work</td>\n      <td>公司企业</td>\n      <td>公司</td>\n      <td>公司</td>\n      <td>南京远能电力工程有限公司浦口分公司</td>\n      <td>江苏省</td>\n      <td>南京市</td>\n      <td>浦口区</td>\n    </tr>\n    <tr>\n      <th>772</th>\n      <td>1870519</td>\n      <td>33</td>\n      <td>20201031</td>\n      <td>20201031180811</td>\n      <td>20201031184443</td>\n      <td>32.095958</td>\n      <td>118.689354</td>\n      <td>2192</td>\n      <td>205260.387695</td>\n      <td>other</td>\n      <td>公司企业</td>\n      <td>公司</td>\n      <td>公司</td>\n      <td>江北扬子江隧道救援服务中心</td>\n      <td>江苏省</td>\n      <td>南京市</td>\n      <td>浦口区</td>\n    </tr>\n    <tr>\n      <th>773</th>\n      <td>1870519</td>\n      <td>34</td>\n      <td>20201031</td>\n      <td>20201031193626</td>\n      <td>20201031201730</td>\n      <td>31.903750</td>\n      <td>118.779801</td>\n      <td>2464</td>\n      <td>52149.913086</td>\n      <td>other</td>\n      <td>公司企业</td>\n      <td>公司</td>\n      <td>公司</td>\n      <td>南京善围建筑科技有限公司</td>\n      <td>江苏省</td>\n      <td>南京市</td>\n      <td>江宁区</td>\n    </tr>\n    <tr>\n      <th>774</th>\n      <td>1870519</td>\n      <td>0</td>\n      <td>20201031</td>\n      <td>20201031211049</td>\n      <td>20201031211148</td>\n      <td>31.921618</td>\n      <td>118.895487</td>\n      <td>10137</td>\n      <td>71259.740234</td>\n      <td>home</td>\n      <td>生活服务</td>\n      <td>美容美发店</td>\n      <td>美容美发店</td>\n      <td>幻伊人美容美体</td>\n      <td>江苏省</td>\n      <td>南京市</td>\n      <td>江宁区</td>\n    </tr>\n  </tbody>\n</table>\n<p>775 rows × 17 columns</p>\n</div>"
     },
     "metadata": {},
     "execution_count": 62
    }
   ],
   "source": [
    "tr_gen.stc.df"
   ]
  },
  {
   "cell_type": "code",
   "execution_count": 63,
   "metadata": {},
   "outputs": [],
   "source": [
    "tr_gen.stc.df.to_csv('../data/9_user_with_flag_new.csv', encoding='gbk',index=False)"
   ]
  }
 ]
}