{
 "metadata": {
  "language_info": {
   "codemirror_mode": {
    "name": "ipython",
    "version": 3
   },
   "file_extension": ".py",
   "mimetype": "text/x-python",
   "name": "python",
   "nbconvert_exporter": "python",
   "pygments_lexer": "ipython3",
   "version": "3.7.9-final"
  },
  "orig_nbformat": 2,
  "kernelspec": {
   "name": "python3",
   "display_name": "Python 3.7.9 64-bit ('idms': conda)",
   "metadata": {
    "interpreter": {
     "hash": "a8830a6b190e3a3c92b56a6e784dbbf42a0fce4581b5215dca1d6ad350969660"
    }
   }
  }
 },
 "nbformat": 4,
 "nbformat_minor": 2,
 "cells": [
  {
   "cell_type": "code",
   "execution_count": 1,
   "metadata": {},
   "outputs": [],
   "source": [
    "%load_ext autoreload\n",
    "%autoreload 1\n",
    "import sys\n",
    "sys.path.append(r'D:\\\\CodeRepository\\\\Python\\\\IDMSImplementation')\n",
    "%aimport idms_impl.trajectory_generator\n",
    "%aimport idms_impl.stop_area_mining\n",
    "%aimport idms_impl.semantic_tag_conversion"
   ]
  },
  {
   "cell_type": "code",
   "execution_count": 176,
   "metadata": {},
   "outputs": [],
   "source": [
    "%run ../idms_impl/poi.py\n",
    "poi_gen = POIGenerator()\n",
    "poi_gen.load_poi(filename=r'C:\\\\Users\\\\Scott\\\\Documents\\\\ECNU\\\\data\\\\poi\\\\nj_poi.csv')\n",
    "poi_gen.train_data(k=5)"
   ]
  },
  {
   "cell_type": "code",
   "execution_count": 175,
   "metadata": {},
   "outputs": [
    {
     "output_type": "execute_result",
     "data": {
      "text/plain": [
       "          大类   中类           小类         名称    省    市    区         lon  \\\n",
       "100887  商务住宅  住宅区         住宅小区      瀛洲湾花园  江苏省  南京市  江宁区  118.826574   \n",
       "100884  商务住宅  住宅区         住宅小区       天地新城  江苏省  南京市  江宁区  118.822224   \n",
       "100888  商务住宅  住宅区          住宅区   明月港湾-星河湾  江苏省  南京市  江宁区  118.827656   \n",
       "100699  商务住宅  住宅区         住宅小区       明月港湾  江苏省  南京市  江宁区  118.828015   \n",
       "100885  商务住宅  住宅区         住宅小区        碧水湾  江苏省  南京市  江宁区  118.825658   \n",
       "100882  商务住宅  住宅区         住宅小区    天地新城天心座  江苏省  南京市  江宁区  118.818825   \n",
       "100701  商务住宅  住宅区         住宅小区       金竹花园  江苏省  南京市  江宁区  118.825029   \n",
       "100705  商务住宅  住宅区         住宅小区      邵圣安置房  江苏省  南京市  江宁区  118.822194   \n",
       "100702  商务住宅  住宅区         住宅小区  盛秦花园(建设中)  江苏省  南京市  江宁区  118.821292   \n",
       "100880  商务住宅  住宅区  住宅小区|地名地址信息       邵圣社区  江苏省  南京市  江宁区  118.819529   \n",
       "\n",
       "              lat  \n",
       "100887  31.973991  \n",
       "100884  31.973464  \n",
       "100888  31.977876  \n",
       "100699  31.978865  \n",
       "100885  31.971076  \n",
       "100882  31.977176  \n",
       "100701  31.981298  \n",
       "100705  31.980930  \n",
       "100702  31.981048  \n",
       "100880  31.971669  "
      ],
      "text/html": "<div>\n<style scoped>\n    .dataframe tbody tr th:only-of-type {\n        vertical-align: middle;\n    }\n\n    .dataframe tbody tr th {\n        vertical-align: top;\n    }\n\n    .dataframe thead th {\n        text-align: right;\n    }\n</style>\n<table border=\"1\" class=\"dataframe\">\n  <thead>\n    <tr style=\"text-align: right;\">\n      <th></th>\n      <th>大类</th>\n      <th>中类</th>\n      <th>小类</th>\n      <th>名称</th>\n      <th>省</th>\n      <th>市</th>\n      <th>区</th>\n      <th>lon</th>\n      <th>lat</th>\n    </tr>\n  </thead>\n  <tbody>\n    <tr>\n      <th>100887</th>\n      <td>商务住宅</td>\n      <td>住宅区</td>\n      <td>住宅小区</td>\n      <td>瀛洲湾花园</td>\n      <td>江苏省</td>\n      <td>南京市</td>\n      <td>江宁区</td>\n      <td>118.826574</td>\n      <td>31.973991</td>\n    </tr>\n    <tr>\n      <th>100884</th>\n      <td>商务住宅</td>\n      <td>住宅区</td>\n      <td>住宅小区</td>\n      <td>天地新城</td>\n      <td>江苏省</td>\n      <td>南京市</td>\n      <td>江宁区</td>\n      <td>118.822224</td>\n      <td>31.973464</td>\n    </tr>\n    <tr>\n      <th>100888</th>\n      <td>商务住宅</td>\n      <td>住宅区</td>\n      <td>住宅区</td>\n      <td>明月港湾-星河湾</td>\n      <td>江苏省</td>\n      <td>南京市</td>\n      <td>江宁区</td>\n      <td>118.827656</td>\n      <td>31.977876</td>\n    </tr>\n    <tr>\n      <th>100699</th>\n      <td>商务住宅</td>\n      <td>住宅区</td>\n      <td>住宅小区</td>\n      <td>明月港湾</td>\n      <td>江苏省</td>\n      <td>南京市</td>\n      <td>江宁区</td>\n      <td>118.828015</td>\n      <td>31.978865</td>\n    </tr>\n    <tr>\n      <th>100885</th>\n      <td>商务住宅</td>\n      <td>住宅区</td>\n      <td>住宅小区</td>\n      <td>碧水湾</td>\n      <td>江苏省</td>\n      <td>南京市</td>\n      <td>江宁区</td>\n      <td>118.825658</td>\n      <td>31.971076</td>\n    </tr>\n    <tr>\n      <th>100882</th>\n      <td>商务住宅</td>\n      <td>住宅区</td>\n      <td>住宅小区</td>\n      <td>天地新城天心座</td>\n      <td>江苏省</td>\n      <td>南京市</td>\n      <td>江宁区</td>\n      <td>118.818825</td>\n      <td>31.977176</td>\n    </tr>\n    <tr>\n      <th>100701</th>\n      <td>商务住宅</td>\n      <td>住宅区</td>\n      <td>住宅小区</td>\n      <td>金竹花园</td>\n      <td>江苏省</td>\n      <td>南京市</td>\n      <td>江宁区</td>\n      <td>118.825029</td>\n      <td>31.981298</td>\n    </tr>\n    <tr>\n      <th>100705</th>\n      <td>商务住宅</td>\n      <td>住宅区</td>\n      <td>住宅小区</td>\n      <td>邵圣安置房</td>\n      <td>江苏省</td>\n      <td>南京市</td>\n      <td>江宁区</td>\n      <td>118.822194</td>\n      <td>31.980930</td>\n    </tr>\n    <tr>\n      <th>100702</th>\n      <td>商务住宅</td>\n      <td>住宅区</td>\n      <td>住宅小区</td>\n      <td>盛秦花园(建设中)</td>\n      <td>江苏省</td>\n      <td>南京市</td>\n      <td>江宁区</td>\n      <td>118.821292</td>\n      <td>31.981048</td>\n    </tr>\n    <tr>\n      <th>100880</th>\n      <td>商务住宅</td>\n      <td>住宅区</td>\n      <td>住宅小区|地名地址信息</td>\n      <td>邵圣社区</td>\n      <td>江苏省</td>\n      <td>南京市</td>\n      <td>江宁区</td>\n      <td>118.819529</td>\n      <td>31.971669</td>\n    </tr>\n  </tbody>\n</table>\n</div>"
     },
     "metadata": {},
     "execution_count": 175
    }
   ],
   "source": [
    "index = poi_gen.main_model.kneighbors([[31.975832, 118.824613]], return_distance=False).flatten()\n",
    "poi_res = poi_gen.poi_df.loc[index]\n",
    "poi_res[poi_res['大类'] == '商务住宅']"
   ]
  },
  {
   "cell_type": "code",
   "execution_count": 177,
   "metadata": {},
   "outputs": [
    {
     "output_type": "stream",
     "name": "stdout",
     "text": [
      "[(1377032, 0), (1377032, 2)]\n",
      "[(1381404, 0), (1381404, 9)]\n",
      "[(1385177, 0), (1385177, 10)]\n",
      "[(1390515, 4), (1390515, 0), (1390515, 5)]\n",
      "[(1391598, 0), (1391598, 14)]\n",
      "[(1505184, 0), (1505184, 4)]\n",
      "[(1510515, 0), (1510515, 6)]\n",
      "[(1789501, 0), (1789501, 11)]\n",
      "[(1870519, 0), (1870519, 11)]\n",
      "Finish it in 11.17905306816101s\n"
     ]
    }
   ],
   "source": [
    "orig_filename = r'C:\\Users\\Scott\\Documents\\ECNU\\data\\20201116\\9_user.csv'\n",
    "\n",
    "usecols = ['SUBSTR(MSISDN,1,7)', 'STAT_DATE', 'STIME', 'END_TIME', 'ZH_LABEL', 'LATITUDE', 'NUMBERITUDE', 'DURATION', 'DATA_TOTAL']\n",
    "name_mapper = {\n",
    "    \"SUBSTR(MSISDN,1,7)\": \"USER_ID\",\n",
    "    \"NUMBERITUDE\": \"LONGITUDE\",\n",
    "    \"DATA_TOTAL\": \"TOTAL_DATA\"\n",
    "}\n",
    "%run -m idms_impl.trajectory_generator\n",
    "\n",
    "import time\n",
    "\n",
    "start_time = time.time()\n",
    "\n",
    "tr_gen = TrajectoryGenerator()\n",
    "\n",
    "tr_gen.stop_area_mining(filename=orig_filename,\n",
    "                        usecols=usecols,\n",
    "                        name_mapper=name_mapper,\n",
    "                        nan_dur_theta=4 * 3600,\n",
    "                        dist_theta=5 / 111,\n",
    "                        point_dur_theta=20,\n",
    "                        eps=0.0036,\n",
    "                        min_dur=900)\n",
    "tr_gen.semantic_tag_conversion(theta=0.8, poi_gen=poi_gen)\n",
    "# tr_gen.sam.load_data(orig_filename)\n",
    "# tr_gen.sam.format_raw_data(usecols=usecols, name_mapper=name_mapper)\n",
    "# tr_gen.sam.check_invalid_tr(nan_dur_theta=4 * 3600,\n",
    "#                             dist_theta=5 / 111)\n",
    "# tr_gen.sam.gen_valid_area(point_dur_theta=20,\n",
    "#                         eps=0.0036, min_dur=900)\n",
    "end_time = time.time()\n",
    "print(f'Finish it in {end_time - start_time}s')"
   ]
  },
  {
   "cell_type": "code",
   "execution_count": 184,
   "metadata": {},
   "outputs": [
    {
     "output_type": "execute_result",
     "data": {
      "text/plain": [
       "                     LATITUDE   LONGITUDE  type big_ctg medium_ctg small_ctg  \\\n",
       "USER_ID CLUSTER_ID                                                             \n",
       "1377032 0           31.967346  118.709895  home    商务住宅        住宅区      住宅小区   \n",
       "        2           31.983311  118.728667  work    公司企业         公司        公司   \n",
       "1381404 0           32.036952  118.784759  home    商务住宅         楼宇     商务写字楼   \n",
       "        9           31.983311  118.728667  work    公司企业         公司        公司   \n",
       "1385177 0           32.144130  118.721730  home    商务住宅     商务住宅相关    商务住宅相关   \n",
       "        10          32.049845  118.753804  work    公司企业         公司        公司   \n",
       "1390515 0           31.955772  118.725038  home    商务住宅     商务住宅相关    商务住宅相关   \n",
       "        4           31.983311  118.728667  work    公司企业         公司        公司   \n",
       "        5           31.929797  118.731260  home    商务住宅        住宅区      社区中心   \n",
       "1391598 0           32.133540  118.713160  home    商务住宅        住宅区      住宅小区   \n",
       "        14          31.983311  118.728666  work    公司企业         公司        公司   \n",
       "1505184 0           32.014859  118.722143  home    商务住宅         楼宇     商务写字楼   \n",
       "        4           31.983311  118.728667  work    公司企业         公司        公司   \n",
       "1510515 0           31.948699  118.748207  home    商务住宅        住宅区      住宅小区   \n",
       "        6           31.983311  118.728667  work    公司企业         公司        公司   \n",
       "1789501 0           31.976040  118.824350  home    商务住宅        住宅区      住宅小区   \n",
       "        11          31.983311  118.728667  work    公司企业         公司        公司   \n",
       "1870519 0           31.921427  118.895402  home    商务住宅        住宅区        宿舍   \n",
       "        11          31.983311  118.728667  work    公司企业         公司        公司   \n",
       "\n",
       "                                  name province city region    poi_lat  \\\n",
       "USER_ID CLUSTER_ID                                                       \n",
       "1377032 0                       莲花新城嘉园      江苏省  南京市    建邺区  31.967163   \n",
       "        2                 南京万川药事服务有限公司      江苏省  南京市    建邺区  31.983325   \n",
       "1381404 0                      力联大厦-东楼      江苏省  南京市    秦淮区  32.037085   \n",
       "        9                 南京万川药事服务有限公司      江苏省  南京市    建邺区  31.983325   \n",
       "1385177 0            南京江北连锁公寓天润城十四街区北区      江苏省  南京市    浦口区  32.144874   \n",
       "        10                    方源种业有限公司      江苏省  南京市    鼓楼区  32.049887   \n",
       "1390515 0                       善水湾好街坊      江苏省  南京市   雨花台区  31.955762   \n",
       "        4                 南京万川药事服务有限公司      江苏省  南京市    建邺区  31.983325   \n",
       "        5                        马家店社区      江苏省  南京市   雨花台区  31.934803   \n",
       "1391598 0                  弘阳·旭日爱上城第6区      江苏省  南京市    浦口区  32.133409   \n",
       "        14                南京万川药事服务有限公司      江苏省  南京市    建邺区  31.983325   \n",
       "1505184 0                        建造师公社      江苏省  南京市    建邺区  32.014883   \n",
       "        4                 南京万川药事服务有限公司      江苏省  南京市    建邺区  31.983325   \n",
       "1510515 0                      莱蒙·水榭阳光      江苏省  南京市   雨花台区  31.949146   \n",
       "        6                 南京万川药事服务有限公司      江苏省  南京市    建邺区  31.983325   \n",
       "1789501 0                        瀛洲湾花园      江苏省  南京市    江宁区  31.973991   \n",
       "        11                南京万川药事服务有限公司      江苏省  南京市    建邺区  31.983325   \n",
       "1870519 0           江苏海事职业技术学院澄园2号楼-北楼      江苏省  南京市    江宁区  31.920564   \n",
       "        11                南京万川药事服务有限公司      江苏省  南京市    建邺区  31.983325   \n",
       "\n",
       "                       poi_lon  \n",
       "USER_ID CLUSTER_ID              \n",
       "1377032 0           118.711243  \n",
       "        2           118.728584  \n",
       "1381404 0           118.784550  \n",
       "        9           118.728584  \n",
       "1385177 0           118.721839  \n",
       "        10          118.753464  \n",
       "1390515 0           118.725284  \n",
       "        4           118.728584  \n",
       "        5           118.734897  \n",
       "1391598 0           118.714519  \n",
       "        14          118.728584  \n",
       "1505184 0           118.722002  \n",
       "        4           118.728584  \n",
       "1510515 0           118.747718  \n",
       "        6           118.728584  \n",
       "1789501 0           118.826574  \n",
       "        11          118.728584  \n",
       "1870519 0           118.897357  \n",
       "        11          118.728584  "
      ],
      "text/html": "<div>\n<style scoped>\n    .dataframe tbody tr th:only-of-type {\n        vertical-align: middle;\n    }\n\n    .dataframe tbody tr th {\n        vertical-align: top;\n    }\n\n    .dataframe thead th {\n        text-align: right;\n    }\n</style>\n<table border=\"1\" class=\"dataframe\">\n  <thead>\n    <tr style=\"text-align: right;\">\n      <th></th>\n      <th></th>\n      <th>LATITUDE</th>\n      <th>LONGITUDE</th>\n      <th>type</th>\n      <th>big_ctg</th>\n      <th>medium_ctg</th>\n      <th>small_ctg</th>\n      <th>name</th>\n      <th>province</th>\n      <th>city</th>\n      <th>region</th>\n      <th>poi_lat</th>\n      <th>poi_lon</th>\n    </tr>\n    <tr>\n      <th>USER_ID</th>\n      <th>CLUSTER_ID</th>\n      <th></th>\n      <th></th>\n      <th></th>\n      <th></th>\n      <th></th>\n      <th></th>\n      <th></th>\n      <th></th>\n      <th></th>\n      <th></th>\n      <th></th>\n      <th></th>\n    </tr>\n  </thead>\n  <tbody>\n    <tr>\n      <th rowspan=\"2\" valign=\"top\">1377032</th>\n      <th>0</th>\n      <td>31.967346</td>\n      <td>118.709895</td>\n      <td>home</td>\n      <td>商务住宅</td>\n      <td>住宅区</td>\n      <td>住宅小区</td>\n      <td>莲花新城嘉园</td>\n      <td>江苏省</td>\n      <td>南京市</td>\n      <td>建邺区</td>\n      <td>31.967163</td>\n      <td>118.711243</td>\n    </tr>\n    <tr>\n      <th>2</th>\n      <td>31.983311</td>\n      <td>118.728667</td>\n      <td>work</td>\n      <td>公司企业</td>\n      <td>公司</td>\n      <td>公司</td>\n      <td>南京万川药事服务有限公司</td>\n      <td>江苏省</td>\n      <td>南京市</td>\n      <td>建邺区</td>\n      <td>31.983325</td>\n      <td>118.728584</td>\n    </tr>\n    <tr>\n      <th rowspan=\"2\" valign=\"top\">1381404</th>\n      <th>0</th>\n      <td>32.036952</td>\n      <td>118.784759</td>\n      <td>home</td>\n      <td>商务住宅</td>\n      <td>楼宇</td>\n      <td>商务写字楼</td>\n      <td>力联大厦-东楼</td>\n      <td>江苏省</td>\n      <td>南京市</td>\n      <td>秦淮区</td>\n      <td>32.037085</td>\n      <td>118.784550</td>\n    </tr>\n    <tr>\n      <th>9</th>\n      <td>31.983311</td>\n      <td>118.728667</td>\n      <td>work</td>\n      <td>公司企业</td>\n      <td>公司</td>\n      <td>公司</td>\n      <td>南京万川药事服务有限公司</td>\n      <td>江苏省</td>\n      <td>南京市</td>\n      <td>建邺区</td>\n      <td>31.983325</td>\n      <td>118.728584</td>\n    </tr>\n    <tr>\n      <th rowspan=\"2\" valign=\"top\">1385177</th>\n      <th>0</th>\n      <td>32.144130</td>\n      <td>118.721730</td>\n      <td>home</td>\n      <td>商务住宅</td>\n      <td>商务住宅相关</td>\n      <td>商务住宅相关</td>\n      <td>南京江北连锁公寓天润城十四街区北区</td>\n      <td>江苏省</td>\n      <td>南京市</td>\n      <td>浦口区</td>\n      <td>32.144874</td>\n      <td>118.721839</td>\n    </tr>\n    <tr>\n      <th>10</th>\n      <td>32.049845</td>\n      <td>118.753804</td>\n      <td>work</td>\n      <td>公司企业</td>\n      <td>公司</td>\n      <td>公司</td>\n      <td>方源种业有限公司</td>\n      <td>江苏省</td>\n      <td>南京市</td>\n      <td>鼓楼区</td>\n      <td>32.049887</td>\n      <td>118.753464</td>\n    </tr>\n    <tr>\n      <th rowspan=\"3\" valign=\"top\">1390515</th>\n      <th>0</th>\n      <td>31.955772</td>\n      <td>118.725038</td>\n      <td>home</td>\n      <td>商务住宅</td>\n      <td>商务住宅相关</td>\n      <td>商务住宅相关</td>\n      <td>善水湾好街坊</td>\n      <td>江苏省</td>\n      <td>南京市</td>\n      <td>雨花台区</td>\n      <td>31.955762</td>\n      <td>118.725284</td>\n    </tr>\n    <tr>\n      <th>4</th>\n      <td>31.983311</td>\n      <td>118.728667</td>\n      <td>work</td>\n      <td>公司企业</td>\n      <td>公司</td>\n      <td>公司</td>\n      <td>南京万川药事服务有限公司</td>\n      <td>江苏省</td>\n      <td>南京市</td>\n      <td>建邺区</td>\n      <td>31.983325</td>\n      <td>118.728584</td>\n    </tr>\n    <tr>\n      <th>5</th>\n      <td>31.929797</td>\n      <td>118.731260</td>\n      <td>home</td>\n      <td>商务住宅</td>\n      <td>住宅区</td>\n      <td>社区中心</td>\n      <td>马家店社区</td>\n      <td>江苏省</td>\n      <td>南京市</td>\n      <td>雨花台区</td>\n      <td>31.934803</td>\n      <td>118.734897</td>\n    </tr>\n    <tr>\n      <th rowspan=\"2\" valign=\"top\">1391598</th>\n      <th>0</th>\n      <td>32.133540</td>\n      <td>118.713160</td>\n      <td>home</td>\n      <td>商务住宅</td>\n      <td>住宅区</td>\n      <td>住宅小区</td>\n      <td>弘阳·旭日爱上城第6区</td>\n      <td>江苏省</td>\n      <td>南京市</td>\n      <td>浦口区</td>\n      <td>32.133409</td>\n      <td>118.714519</td>\n    </tr>\n    <tr>\n      <th>14</th>\n      <td>31.983311</td>\n      <td>118.728666</td>\n      <td>work</td>\n      <td>公司企业</td>\n      <td>公司</td>\n      <td>公司</td>\n      <td>南京万川药事服务有限公司</td>\n      <td>江苏省</td>\n      <td>南京市</td>\n      <td>建邺区</td>\n      <td>31.983325</td>\n      <td>118.728584</td>\n    </tr>\n    <tr>\n      <th rowspan=\"2\" valign=\"top\">1505184</th>\n      <th>0</th>\n      <td>32.014859</td>\n      <td>118.722143</td>\n      <td>home</td>\n      <td>商务住宅</td>\n      <td>楼宇</td>\n      <td>商务写字楼</td>\n      <td>建造师公社</td>\n      <td>江苏省</td>\n      <td>南京市</td>\n      <td>建邺区</td>\n      <td>32.014883</td>\n      <td>118.722002</td>\n    </tr>\n    <tr>\n      <th>4</th>\n      <td>31.983311</td>\n      <td>118.728667</td>\n      <td>work</td>\n      <td>公司企业</td>\n      <td>公司</td>\n      <td>公司</td>\n      <td>南京万川药事服务有限公司</td>\n      <td>江苏省</td>\n      <td>南京市</td>\n      <td>建邺区</td>\n      <td>31.983325</td>\n      <td>118.728584</td>\n    </tr>\n    <tr>\n      <th rowspan=\"2\" valign=\"top\">1510515</th>\n      <th>0</th>\n      <td>31.948699</td>\n      <td>118.748207</td>\n      <td>home</td>\n      <td>商务住宅</td>\n      <td>住宅区</td>\n      <td>住宅小区</td>\n      <td>莱蒙·水榭阳光</td>\n      <td>江苏省</td>\n      <td>南京市</td>\n      <td>雨花台区</td>\n      <td>31.949146</td>\n      <td>118.747718</td>\n    </tr>\n    <tr>\n      <th>6</th>\n      <td>31.983311</td>\n      <td>118.728667</td>\n      <td>work</td>\n      <td>公司企业</td>\n      <td>公司</td>\n      <td>公司</td>\n      <td>南京万川药事服务有限公司</td>\n      <td>江苏省</td>\n      <td>南京市</td>\n      <td>建邺区</td>\n      <td>31.983325</td>\n      <td>118.728584</td>\n    </tr>\n    <tr>\n      <th rowspan=\"2\" valign=\"top\">1789501</th>\n      <th>0</th>\n      <td>31.976040</td>\n      <td>118.824350</td>\n      <td>home</td>\n      <td>商务住宅</td>\n      <td>住宅区</td>\n      <td>住宅小区</td>\n      <td>瀛洲湾花园</td>\n      <td>江苏省</td>\n      <td>南京市</td>\n      <td>江宁区</td>\n      <td>31.973991</td>\n      <td>118.826574</td>\n    </tr>\n    <tr>\n      <th>11</th>\n      <td>31.983311</td>\n      <td>118.728667</td>\n      <td>work</td>\n      <td>公司企业</td>\n      <td>公司</td>\n      <td>公司</td>\n      <td>南京万川药事服务有限公司</td>\n      <td>江苏省</td>\n      <td>南京市</td>\n      <td>建邺区</td>\n      <td>31.983325</td>\n      <td>118.728584</td>\n    </tr>\n    <tr>\n      <th rowspan=\"2\" valign=\"top\">1870519</th>\n      <th>0</th>\n      <td>31.921427</td>\n      <td>118.895402</td>\n      <td>home</td>\n      <td>商务住宅</td>\n      <td>住宅区</td>\n      <td>宿舍</td>\n      <td>江苏海事职业技术学院澄园2号楼-北楼</td>\n      <td>江苏省</td>\n      <td>南京市</td>\n      <td>江宁区</td>\n      <td>31.920564</td>\n      <td>118.897357</td>\n    </tr>\n    <tr>\n      <th>11</th>\n      <td>31.983311</td>\n      <td>118.728667</td>\n      <td>work</td>\n      <td>公司企业</td>\n      <td>公司</td>\n      <td>公司</td>\n      <td>南京万川药事服务有限公司</td>\n      <td>江苏省</td>\n      <td>南京市</td>\n      <td>建邺区</td>\n      <td>31.983325</td>\n      <td>118.728584</td>\n    </tr>\n  </tbody>\n</table>\n</div>"
     },
     "metadata": {},
     "execution_count": 184
    }
   ],
   "source": [
    "tr_gen.stc.cluster_poi[(tr_gen.stc.cluster_poi['type']=='home') | (tr_gen.stc.cluster_poi['type']== 'work')]"
   ]
  },
  {
   "cell_type": "code",
   "execution_count": 179,
   "metadata": {},
   "outputs": [],
   "source": [
    "# tr_gen.df\n",
    "tr_gen.df.to_csv(\"../data/9_user_with_flag.csv\", encoding='gbk', index=False)\n",
    "# tr_gen.stc.gen_cluster_poi_json(\"../data/cluster_poi/\")"
   ]
  },
  {
   "cell_type": "code",
   "execution_count": 121,
   "metadata": {},
   "outputs": [
    {
     "output_type": "execute_result",
     "data": {
      "text/plain": [
       "      USER_ID  STAT_DATE           STIME        END_TIME  \\\n",
       "4969  1390515   20201010  20201010201237  20201010235833   \n",
       "4988  1390515   20201011  20201011121817  20201011150326   \n",
       "4990  1390515   20201011  20201011161936  20201011232315   \n",
       "5114  1390515   20201014  20201014213838  20201014222943   \n",
       "5199  1390515   20201016  20201016195326  20201016195726   \n",
       "5200  1390515   20201016  20201016195726  20201016201246   \n",
       "5201  1390515   20201016  20201016201246  20201016222304   \n",
       "5204  1390515   20201016  20201016224958  20201016231859   \n",
       "5285  1390515   20201017  20201017161012  20201017165724   \n",
       "5286  1390515   20201017  20201017170557  20201017224612   \n",
       "5304  1390515   20201018  20201018140013  20201018172307   \n",
       "5305  1390515   20201018  20201018172337  20201018173723   \n",
       "5484  1390515   20201021  20201021210856  20201021232851   \n",
       "5522  1390515   20201022  20201022221511  20201022231333   \n",
       "5831  1390515   20201028  20201028211104  20201028221919   \n",
       "5833  1390515   20201028  20201028223842  20201028232843   \n",
       "5834  1390515   20201028  20201028232843  20201028235959   \n",
       "6009  1390515   20201031  20201031112136  20201031163231   \n",
       "6064  1390515   20201031  20201031221815  20201031232951   \n",
       "\n",
       "                   ZH_LABEL   LATITUDE  LONGITUDE  DURATION     TOTAL_DATA  \\\n",
       "4969  南京-京沪高铁-孙家湾2Z-LTE-D81  31.929797  118.73126     13556      12.144531   \n",
       "4988  南京-京沪高铁-孙家湾2Z-LTE-D81  31.929797  118.73126      9909      21.367188   \n",
       "4990  南京-京沪高铁-孙家湾2Z-LTE-D81  31.929797  118.73126     25419      31.937500   \n",
       "5114  南京-京沪高铁-孙家湾2Z-LTE-D81  31.929797  118.73126      3065       3.097656   \n",
       "5199  南京-京沪高铁-孙家湾2Z-LTE-D81  31.929797  118.73126       240       0.000000   \n",
       "5200  南京-京沪高铁-孙家湾2Z-LTE-D71  31.929797  118.73126       920       9.210938   \n",
       "5201  南京-京沪高铁-孙家湾2Z-LTE-D81  31.929797  118.73126      7818       3.121094   \n",
       "5204  南京-京沪高铁-孙家湾2Z-LTE-D81  31.929797  118.73126      1741       6.046875   \n",
       "5285  南京-京沪高铁-孙家湾2Z-LTE-D81  31.929797  118.73126      2832       0.000000   \n",
       "5286  南京-京沪高铁-孙家湾2Z-LTE-D81  31.929797  118.73126     20415  554964.928711   \n",
       "5304  南京-京沪高铁-孙家湾2Z-LTE-D81  31.929797  118.73126     12174       8.742188   \n",
       "5305  南京-京沪高铁-孙家湾2Z-LTE-D81  31.929797  118.73126       826       0.000000   \n",
       "5484  南京-京沪高铁-孙家湾2Z-LTE-D81  31.929797  118.73126      8395      16.796875   \n",
       "5522  南京-京沪高铁-孙家湾2Z-LTE-D81  31.929797  118.73126      3502       9.187500   \n",
       "5831  南京-京沪高铁-孙家湾2Z-LTE-D81  31.929797  118.73126      4095      14.098633   \n",
       "5833  南京-京沪高铁-孙家湾2Z-LTE-D81  31.929797  118.73126      3001       7.496094   \n",
       "5834  南京-京沪高铁-孙家湾2Z-LTE-D81  31.929797  118.73126      1876       0.000000   \n",
       "6009  南京-京沪高铁-孙家湾2Z-LTE-D81  31.929797  118.73126     18655   44156.715820   \n",
       "6064  南京-京沪高铁-孙家湾2Z-LTE-D81  31.929797  118.73126      4296   11590.368164   \n",
       "\n",
       "      CLUSTER_ID  \n",
       "4969           5  \n",
       "4988           5  \n",
       "4990           5  \n",
       "5114           5  \n",
       "5199           5  \n",
       "5200           5  \n",
       "5201           5  \n",
       "5204           5  \n",
       "5285           5  \n",
       "5286           5  \n",
       "5304           5  \n",
       "5305           5  \n",
       "5484           5  \n",
       "5522           5  \n",
       "5831           5  \n",
       "5833           5  \n",
       "5834           5  \n",
       "6009           5  \n",
       "6064           5  "
      ],
      "text/html": "<div>\n<style scoped>\n    .dataframe tbody tr th:only-of-type {\n        vertical-align: middle;\n    }\n\n    .dataframe tbody tr th {\n        vertical-align: top;\n    }\n\n    .dataframe thead th {\n        text-align: right;\n    }\n</style>\n<table border=\"1\" class=\"dataframe\">\n  <thead>\n    <tr style=\"text-align: right;\">\n      <th></th>\n      <th>USER_ID</th>\n      <th>STAT_DATE</th>\n      <th>STIME</th>\n      <th>END_TIME</th>\n      <th>ZH_LABEL</th>\n      <th>LATITUDE</th>\n      <th>LONGITUDE</th>\n      <th>DURATION</th>\n      <th>TOTAL_DATA</th>\n      <th>CLUSTER_ID</th>\n    </tr>\n  </thead>\n  <tbody>\n    <tr>\n      <th>4969</th>\n      <td>1390515</td>\n      <td>20201010</td>\n      <td>20201010201237</td>\n      <td>20201010235833</td>\n      <td>南京-京沪高铁-孙家湾2Z-LTE-D81</td>\n      <td>31.929797</td>\n      <td>118.73126</td>\n      <td>13556</td>\n      <td>12.144531</td>\n      <td>5</td>\n    </tr>\n    <tr>\n      <th>4988</th>\n      <td>1390515</td>\n      <td>20201011</td>\n      <td>20201011121817</td>\n      <td>20201011150326</td>\n      <td>南京-京沪高铁-孙家湾2Z-LTE-D81</td>\n      <td>31.929797</td>\n      <td>118.73126</td>\n      <td>9909</td>\n      <td>21.367188</td>\n      <td>5</td>\n    </tr>\n    <tr>\n      <th>4990</th>\n      <td>1390515</td>\n      <td>20201011</td>\n      <td>20201011161936</td>\n      <td>20201011232315</td>\n      <td>南京-京沪高铁-孙家湾2Z-LTE-D81</td>\n      <td>31.929797</td>\n      <td>118.73126</td>\n      <td>25419</td>\n      <td>31.937500</td>\n      <td>5</td>\n    </tr>\n    <tr>\n      <th>5114</th>\n      <td>1390515</td>\n      <td>20201014</td>\n      <td>20201014213838</td>\n      <td>20201014222943</td>\n      <td>南京-京沪高铁-孙家湾2Z-LTE-D81</td>\n      <td>31.929797</td>\n      <td>118.73126</td>\n      <td>3065</td>\n      <td>3.097656</td>\n      <td>5</td>\n    </tr>\n    <tr>\n      <th>5199</th>\n      <td>1390515</td>\n      <td>20201016</td>\n      <td>20201016195326</td>\n      <td>20201016195726</td>\n      <td>南京-京沪高铁-孙家湾2Z-LTE-D81</td>\n      <td>31.929797</td>\n      <td>118.73126</td>\n      <td>240</td>\n      <td>0.000000</td>\n      <td>5</td>\n    </tr>\n    <tr>\n      <th>5200</th>\n      <td>1390515</td>\n      <td>20201016</td>\n      <td>20201016195726</td>\n      <td>20201016201246</td>\n      <td>南京-京沪高铁-孙家湾2Z-LTE-D71</td>\n      <td>31.929797</td>\n      <td>118.73126</td>\n      <td>920</td>\n      <td>9.210938</td>\n      <td>5</td>\n    </tr>\n    <tr>\n      <th>5201</th>\n      <td>1390515</td>\n      <td>20201016</td>\n      <td>20201016201246</td>\n      <td>20201016222304</td>\n      <td>南京-京沪高铁-孙家湾2Z-LTE-D81</td>\n      <td>31.929797</td>\n      <td>118.73126</td>\n      <td>7818</td>\n      <td>3.121094</td>\n      <td>5</td>\n    </tr>\n    <tr>\n      <th>5204</th>\n      <td>1390515</td>\n      <td>20201016</td>\n      <td>20201016224958</td>\n      <td>20201016231859</td>\n      <td>南京-京沪高铁-孙家湾2Z-LTE-D81</td>\n      <td>31.929797</td>\n      <td>118.73126</td>\n      <td>1741</td>\n      <td>6.046875</td>\n      <td>5</td>\n    </tr>\n    <tr>\n      <th>5285</th>\n      <td>1390515</td>\n      <td>20201017</td>\n      <td>20201017161012</td>\n      <td>20201017165724</td>\n      <td>南京-京沪高铁-孙家湾2Z-LTE-D81</td>\n      <td>31.929797</td>\n      <td>118.73126</td>\n      <td>2832</td>\n      <td>0.000000</td>\n      <td>5</td>\n    </tr>\n    <tr>\n      <th>5286</th>\n      <td>1390515</td>\n      <td>20201017</td>\n      <td>20201017170557</td>\n      <td>20201017224612</td>\n      <td>南京-京沪高铁-孙家湾2Z-LTE-D81</td>\n      <td>31.929797</td>\n      <td>118.73126</td>\n      <td>20415</td>\n      <td>554964.928711</td>\n      <td>5</td>\n    </tr>\n    <tr>\n      <th>5304</th>\n      <td>1390515</td>\n      <td>20201018</td>\n      <td>20201018140013</td>\n      <td>20201018172307</td>\n      <td>南京-京沪高铁-孙家湾2Z-LTE-D81</td>\n      <td>31.929797</td>\n      <td>118.73126</td>\n      <td>12174</td>\n      <td>8.742188</td>\n      <td>5</td>\n    </tr>\n    <tr>\n      <th>5305</th>\n      <td>1390515</td>\n      <td>20201018</td>\n      <td>20201018172337</td>\n      <td>20201018173723</td>\n      <td>南京-京沪高铁-孙家湾2Z-LTE-D81</td>\n      <td>31.929797</td>\n      <td>118.73126</td>\n      <td>826</td>\n      <td>0.000000</td>\n      <td>5</td>\n    </tr>\n    <tr>\n      <th>5484</th>\n      <td>1390515</td>\n      <td>20201021</td>\n      <td>20201021210856</td>\n      <td>20201021232851</td>\n      <td>南京-京沪高铁-孙家湾2Z-LTE-D81</td>\n      <td>31.929797</td>\n      <td>118.73126</td>\n      <td>8395</td>\n      <td>16.796875</td>\n      <td>5</td>\n    </tr>\n    <tr>\n      <th>5522</th>\n      <td>1390515</td>\n      <td>20201022</td>\n      <td>20201022221511</td>\n      <td>20201022231333</td>\n      <td>南京-京沪高铁-孙家湾2Z-LTE-D81</td>\n      <td>31.929797</td>\n      <td>118.73126</td>\n      <td>3502</td>\n      <td>9.187500</td>\n      <td>5</td>\n    </tr>\n    <tr>\n      <th>5831</th>\n      <td>1390515</td>\n      <td>20201028</td>\n      <td>20201028211104</td>\n      <td>20201028221919</td>\n      <td>南京-京沪高铁-孙家湾2Z-LTE-D81</td>\n      <td>31.929797</td>\n      <td>118.73126</td>\n      <td>4095</td>\n      <td>14.098633</td>\n      <td>5</td>\n    </tr>\n    <tr>\n      <th>5833</th>\n      <td>1390515</td>\n      <td>20201028</td>\n      <td>20201028223842</td>\n      <td>20201028232843</td>\n      <td>南京-京沪高铁-孙家湾2Z-LTE-D81</td>\n      <td>31.929797</td>\n      <td>118.73126</td>\n      <td>3001</td>\n      <td>7.496094</td>\n      <td>5</td>\n    </tr>\n    <tr>\n      <th>5834</th>\n      <td>1390515</td>\n      <td>20201028</td>\n      <td>20201028232843</td>\n      <td>20201028235959</td>\n      <td>南京-京沪高铁-孙家湾2Z-LTE-D81</td>\n      <td>31.929797</td>\n      <td>118.73126</td>\n      <td>1876</td>\n      <td>0.000000</td>\n      <td>5</td>\n    </tr>\n    <tr>\n      <th>6009</th>\n      <td>1390515</td>\n      <td>20201031</td>\n      <td>20201031112136</td>\n      <td>20201031163231</td>\n      <td>南京-京沪高铁-孙家湾2Z-LTE-D81</td>\n      <td>31.929797</td>\n      <td>118.73126</td>\n      <td>18655</td>\n      <td>44156.715820</td>\n      <td>5</td>\n    </tr>\n    <tr>\n      <th>6064</th>\n      <td>1390515</td>\n      <td>20201031</td>\n      <td>20201031221815</td>\n      <td>20201031232951</td>\n      <td>南京-京沪高铁-孙家湾2Z-LTE-D81</td>\n      <td>31.929797</td>\n      <td>118.73126</td>\n      <td>4296</td>\n      <td>11590.368164</td>\n      <td>5</td>\n    </tr>\n  </tbody>\n</table>\n</div>"
     },
     "metadata": {},
     "execution_count": 121
    }
   ],
   "source": [
    "df2 = tr_gen.sam.df.copy()\n",
    "df2 = df2[df2['USER_ID'] == 1390515]\n",
    "df2[df2['CLUSTER_ID'] == 5]\n",
    "# df2[df2['CLUSTER_ID'] == 5][['LATITUDE', 'LONGITUDE']].values\n",
    "# df2[df2['CLUSTER_ID'] == 5]['LONGITUDE'].values\n",
    "# df2[df2['CLUSTER_ID'] == 5]['LATITUDE'].values\n",
    "# df2[df2['CLUSTER_ID'] == 5]['CLUSTER_ID'].values\n",
    "# df2.CLUSTER_ID.unique()\n",
    "# df2[df2['USER_ID'] == 1390515 & (df2['CLUSTER_ID'] == 5)]"
   ]
  },
  {
   "cell_type": "code",
   "execution_count": 65,
   "metadata": {},
   "outputs": [],
   "source": [
    "tr_gen.semantic_tag_conversion(theta=0.9, poi_gen=poi_gen)"
   ]
  },
  {
   "cell_type": "code",
   "execution_count": 123,
   "metadata": {},
   "outputs": [],
   "source": [
    "df = tr_gen.df.copy()"
   ]
  },
  {
   "cell_type": "code",
   "execution_count": 96,
   "metadata": {},
   "outputs": [
    {
     "output_type": "stream",
     "name": "stdout",
     "text": [
      "[(1377032, 0), (1377032, 2)]\n[(1381404, 0), (1381404, 9)]\n[(1385177, 0), (1385177, 10)]\n[(1390515, 4), (1390515, 0), (1390515, 5)]\n[(1391598, 0), (1391598, 14)]\n[(1505184, 0), (1505184, 4)]\n[(1510515, 0), (1510515, 6)]\n[(1789501, 0), (1789501, 11)]\n[(1870519, 0), (1870519, 11)]\n"
     ]
    }
   ],
   "source": [
    "tr_gen.stc = SemanticTagConversion(df)\n",
    "tr_gen.stc.main_area_mining(theta=0.8)\n",
    "tr_gen.stc.semantic_tag_conversion(poi_gen)\n",
    "tr_gen.stc.gen_cluster_poi_json(dir_name=r'D:/CodeRepository/Python/IDMSImplementation/data/cluster_poi/')"
   ]
  },
  {
   "cell_type": "code",
   "execution_count": 95,
   "metadata": {},
   "outputs": [
    {
     "output_type": "execute_result",
     "data": {
      "text/plain": [
       "              sn   dur_sum              d   type\n",
       "CLUSTER_ID                                      \n",
       "4           17.0  695501.0  510253.782916   work\n",
       "0           22.0  628955.0   28473.817960   home\n",
       "5           10.0  142735.0   61085.525977   home\n",
       "6            4.0   44507.0      40.387451  other\n",
       "1            7.0   42927.0    6260.135324  other\n",
       "20           1.0   22512.0   11158.031250  other\n",
       "7            7.0   19811.0      12.011719  other\n",
       "23           1.0    9662.0   43077.658203  other\n",
       "10           1.0    9426.0   98233.446289  other\n",
       "8            3.0    8366.0     304.532878  other\n",
       "24           1.0    7988.0   14363.562500  other\n",
       "13           2.0    6307.0       7.570312  other\n",
       "12           1.0    5191.0   38022.099609  other\n",
       "17           1.0    4144.0     574.188477  other\n",
       "15           1.0    3977.0   52278.453125  other\n",
       "11           1.0    3957.0     978.121094  other\n",
       "9            1.0    3035.0       0.000000  other\n",
       "22           1.0    3015.0      13.956055  other\n",
       "16           1.0    2174.0   13488.476562  other\n",
       "14           1.0    2088.0   31042.759766  other\n",
       "21           1.0    2088.0       0.000000  other\n",
       "19           1.0    2047.0   28103.447266  other\n",
       "18           1.0    1092.0     541.991211  other"
      ],
      "text/html": "<div>\n<style scoped>\n    .dataframe tbody tr th:only-of-type {\n        vertical-align: middle;\n    }\n\n    .dataframe tbody tr th {\n        vertical-align: top;\n    }\n\n    .dataframe thead th {\n        text-align: right;\n    }\n</style>\n<table border=\"1\" class=\"dataframe\">\n  <thead>\n    <tr style=\"text-align: right;\">\n      <th></th>\n      <th>sn</th>\n      <th>dur_sum</th>\n      <th>d</th>\n      <th>type</th>\n    </tr>\n    <tr>\n      <th>CLUSTER_ID</th>\n      <th></th>\n      <th></th>\n      <th></th>\n      <th></th>\n    </tr>\n  </thead>\n  <tbody>\n    <tr>\n      <th>4</th>\n      <td>17.0</td>\n      <td>695501.0</td>\n      <td>510253.782916</td>\n      <td>work</td>\n    </tr>\n    <tr>\n      <th>0</th>\n      <td>22.0</td>\n      <td>628955.0</td>\n      <td>28473.817960</td>\n      <td>home</td>\n    </tr>\n    <tr>\n      <th>5</th>\n      <td>10.0</td>\n      <td>142735.0</td>\n      <td>61085.525977</td>\n      <td>home</td>\n    </tr>\n    <tr>\n      <th>6</th>\n      <td>4.0</td>\n      <td>44507.0</td>\n      <td>40.387451</td>\n      <td>other</td>\n    </tr>\n    <tr>\n      <th>1</th>\n      <td>7.0</td>\n      <td>42927.0</td>\n      <td>6260.135324</td>\n      <td>other</td>\n    </tr>\n    <tr>\n      <th>20</th>\n      <td>1.0</td>\n      <td>22512.0</td>\n      <td>11158.031250</td>\n      <td>other</td>\n    </tr>\n    <tr>\n      <th>7</th>\n      <td>7.0</td>\n      <td>19811.0</td>\n      <td>12.011719</td>\n      <td>other</td>\n    </tr>\n    <tr>\n      <th>23</th>\n      <td>1.0</td>\n      <td>9662.0</td>\n      <td>43077.658203</td>\n      <td>other</td>\n    </tr>\n    <tr>\n      <th>10</th>\n      <td>1.0</td>\n      <td>9426.0</td>\n      <td>98233.446289</td>\n      <td>other</td>\n    </tr>\n    <tr>\n      <th>8</th>\n      <td>3.0</td>\n      <td>8366.0</td>\n      <td>304.532878</td>\n      <td>other</td>\n    </tr>\n    <tr>\n      <th>24</th>\n      <td>1.0</td>\n      <td>7988.0</td>\n      <td>14363.562500</td>\n      <td>other</td>\n    </tr>\n    <tr>\n      <th>13</th>\n      <td>2.0</td>\n      <td>6307.0</td>\n      <td>7.570312</td>\n      <td>other</td>\n    </tr>\n    <tr>\n      <th>12</th>\n      <td>1.0</td>\n      <td>5191.0</td>\n      <td>38022.099609</td>\n      <td>other</td>\n    </tr>\n    <tr>\n      <th>17</th>\n      <td>1.0</td>\n      <td>4144.0</td>\n      <td>574.188477</td>\n      <td>other</td>\n    </tr>\n    <tr>\n      <th>15</th>\n      <td>1.0</td>\n      <td>3977.0</td>\n      <td>52278.453125</td>\n      <td>other</td>\n    </tr>\n    <tr>\n      <th>11</th>\n      <td>1.0</td>\n      <td>3957.0</td>\n      <td>978.121094</td>\n      <td>other</td>\n    </tr>\n    <tr>\n      <th>9</th>\n      <td>1.0</td>\n      <td>3035.0</td>\n      <td>0.000000</td>\n      <td>other</td>\n    </tr>\n    <tr>\n      <th>22</th>\n      <td>1.0</td>\n      <td>3015.0</td>\n      <td>13.956055</td>\n      <td>other</td>\n    </tr>\n    <tr>\n      <th>16</th>\n      <td>1.0</td>\n      <td>2174.0</td>\n      <td>13488.476562</td>\n      <td>other</td>\n    </tr>\n    <tr>\n      <th>14</th>\n      <td>1.0</td>\n      <td>2088.0</td>\n      <td>31042.759766</td>\n      <td>other</td>\n    </tr>\n    <tr>\n      <th>21</th>\n      <td>1.0</td>\n      <td>2088.0</td>\n      <td>0.000000</td>\n      <td>other</td>\n    </tr>\n    <tr>\n      <th>19</th>\n      <td>1.0</td>\n      <td>2047.0</td>\n      <td>28103.447266</td>\n      <td>other</td>\n    </tr>\n    <tr>\n      <th>18</th>\n      <td>1.0</td>\n      <td>1092.0</td>\n      <td>541.991211</td>\n      <td>other</td>\n    </tr>\n  </tbody>\n</table>\n</div>"
     },
     "metadata": {},
     "execution_count": 95
    }
   ],
   "source": [
    "tr_gen.stc.cluster_attr.loc[1390515]"
   ]
  },
  {
   "cell_type": "code",
   "execution_count": 98,
   "metadata": {},
   "outputs": [
    {
     "output_type": "execute_result",
     "data": {
      "text/plain": [
       "             LATITUDE   LONGITUDE   type    big_ctg medium_ctg   small_ctg  \\\n",
       "CLUSTER_ID                                                                   \n",
       "0           31.956772  118.724438   home       商务住宅        住宅区        住宅小区   \n",
       "4           31.982762  118.728408   work       公司企业         公司          公司   \n",
       "5           31.929797  118.731260   home       公司企业         公司          公司   \n",
       "7           31.934620  118.735130  other       公司企业         公司          公司   \n",
       "6           31.925460  118.729660  other       公司企业         公司          公司   \n",
       "1           31.967553  118.715838  other       住宿服务     住宿服务相关      住宿服务相关   \n",
       "8           31.948330  118.726806  other       公司企业         公司          公司   \n",
       "11          32.009203  118.727128  other       生活服务      美容美发店       美容美发店   \n",
       "10          32.010884  118.720642  other       餐饮服务     休闲餐饮场所      休闲餐饮场所   \n",
       "12          32.011292  118.759872  other       餐饮服务       外国餐厅        日本料理   \n",
       "13          32.024885  118.746713  other  政府机构及社会团体      公检法机构      公证鉴定机构   \n",
       "9           31.967670  118.740110  other     医疗保健服务       综合医院        综合医院   \n",
       "15          32.057993  118.778327  other       风景名胜       风景名胜        风景名胜   \n",
       "16          31.975740  118.799430  other       公司企业         公司          公司   \n",
       "17          31.966402  118.801806  other       住宿服务     住宿服务相关      住宿服务相关   \n",
       "18          31.974590  118.805160  other       公司企业       公司企业        公司企业   \n",
       "14          31.970777  118.792985  other     科教文化服务       会展中心        会展中心   \n",
       "20          31.787540  118.656340  other  政府机构及社会团体       社会团体          残联   \n",
       "19          31.729142  118.755023  other     交通设施服务       公交车站      公交车站相关   \n",
       "21          32.021110  118.744480  other  政府机构及社会团体       政府机关  乡镇级政府及事业单位   \n",
       "22          31.969220  118.781730  other       商务住宅        住宅区         住宅区   \n",
       "23          32.048233  118.755859  other  政府机构及社会团体       政府机关  区县级政府及事业单位   \n",
       "24          31.983203  118.718016  other     科教文化服务         学校         幼儿园   \n",
       "\n",
       "                          name province city region    poi_lat     poi_lon  \n",
       "CLUSTER_ID                                                                  \n",
       "0                      福润雅居翠竹园      江苏省  南京市   雨花台区  31.957287  118.724869  \n",
       "4                 炫彩互动网络科技有限公司      江苏省  南京市    建邺区  31.982745  118.728328  \n",
       "5                南京大世纪艺术模型有限公司      江苏省  南京市   雨花台区  31.931557  118.729747  \n",
       "7              江苏科瑞特工程质量检测有限公司      江苏省  南京市   雨花台区  31.934896  118.734855  \n",
       "6                南京大世纪艺术模型有限公司      江苏省  南京市   雨花台区  31.931557  118.729747  \n",
       "1                     南京铂悦精品公寓      江苏省  南京市    建邺区  31.967566  118.715207  \n",
       "8                     南京苏启印花公司      江苏省  南京市   雨花台区  31.947862  118.724393  \n",
       "11           米娜美甲美睫皮肤管理(中央商场店)      江苏省  南京市    建邺区  32.009256  118.727162  \n",
       "10                         制菓家      江苏省  南京市    建邺区  32.010833  118.721105  \n",
       "12                    赤坂亭(虹悦城)      江苏省  南京市   雨花台区  32.011357  118.759868  \n",
       "13          南京市轨道交通建设工程质量安全监督站      江苏省  南京市    建邺区  32.024789  118.746377  \n",
       "9                    南京瑞海博康复医院      江苏省  南京市   雨花台区  31.967762  118.739863  \n",
       "15            国民党三民主义青年团中央团部大门      江苏省  南京市    鼓楼区  32.057707  118.778591  \n",
       "16                    南京多彩装饰公司      江苏省  南京市   雨花台区  31.974714  118.796154  \n",
       "17              五棵树国际酒店公寓(南站店)      江苏省  南京市    江宁区  31.966274  118.801771  \n",
       "18                南京交通产业集团有限公司      江苏省  南京市    江宁区  31.974671  118.805146  \n",
       "14                    东汇(南京南站)      江苏省  南京市   雨花台区  31.970901  118.792867  \n",
       "20                    牌坊村残疾人协会      江苏省  南京市    江宁区  31.788055  118.654515  \n",
       "19                     横岗(公交站)      江苏省  南京市    江宁区  31.732801  118.758755  \n",
       "21                  南苑街道便民服务中心      江苏省  南京市    建邺区  32.020981  118.744806  \n",
       "22                      梅香路5号院      江苏省  南京市   雨花台区  31.969727  118.781767  \n",
       "23               鼓楼区人力资源和社会保障局      江苏省  南京市    鼓楼区  32.048299  118.756020  \n",
       "24                    南京市双和幼儿园      江苏省  南京市    建邺区  31.983145  118.717719  "
      ],
      "text/html": "<div>\n<style scoped>\n    .dataframe tbody tr th:only-of-type {\n        vertical-align: middle;\n    }\n\n    .dataframe tbody tr th {\n        vertical-align: top;\n    }\n\n    .dataframe thead th {\n        text-align: right;\n    }\n</style>\n<table border=\"1\" class=\"dataframe\">\n  <thead>\n    <tr style=\"text-align: right;\">\n      <th></th>\n      <th>LATITUDE</th>\n      <th>LONGITUDE</th>\n      <th>type</th>\n      <th>big_ctg</th>\n      <th>medium_ctg</th>\n      <th>small_ctg</th>\n      <th>name</th>\n      <th>province</th>\n      <th>city</th>\n      <th>region</th>\n      <th>poi_lat</th>\n      <th>poi_lon</th>\n    </tr>\n    <tr>\n      <th>CLUSTER_ID</th>\n      <th></th>\n      <th></th>\n      <th></th>\n      <th></th>\n      <th></th>\n      <th></th>\n      <th></th>\n      <th></th>\n      <th></th>\n      <th></th>\n      <th></th>\n      <th></th>\n    </tr>\n  </thead>\n  <tbody>\n    <tr>\n      <th>0</th>\n      <td>31.956772</td>\n      <td>118.724438</td>\n      <td>home</td>\n      <td>商务住宅</td>\n      <td>住宅区</td>\n      <td>住宅小区</td>\n      <td>福润雅居翠竹园</td>\n      <td>江苏省</td>\n      <td>南京市</td>\n      <td>雨花台区</td>\n      <td>31.957287</td>\n      <td>118.724869</td>\n    </tr>\n    <tr>\n      <th>4</th>\n      <td>31.982762</td>\n      <td>118.728408</td>\n      <td>work</td>\n      <td>公司企业</td>\n      <td>公司</td>\n      <td>公司</td>\n      <td>炫彩互动网络科技有限公司</td>\n      <td>江苏省</td>\n      <td>南京市</td>\n      <td>建邺区</td>\n      <td>31.982745</td>\n      <td>118.728328</td>\n    </tr>\n    <tr>\n      <th>5</th>\n      <td>31.929797</td>\n      <td>118.731260</td>\n      <td>home</td>\n      <td>公司企业</td>\n      <td>公司</td>\n      <td>公司</td>\n      <td>南京大世纪艺术模型有限公司</td>\n      <td>江苏省</td>\n      <td>南京市</td>\n      <td>雨花台区</td>\n      <td>31.931557</td>\n      <td>118.729747</td>\n    </tr>\n    <tr>\n      <th>7</th>\n      <td>31.934620</td>\n      <td>118.735130</td>\n      <td>other</td>\n      <td>公司企业</td>\n      <td>公司</td>\n      <td>公司</td>\n      <td>江苏科瑞特工程质量检测有限公司</td>\n      <td>江苏省</td>\n      <td>南京市</td>\n      <td>雨花台区</td>\n      <td>31.934896</td>\n      <td>118.734855</td>\n    </tr>\n    <tr>\n      <th>6</th>\n      <td>31.925460</td>\n      <td>118.729660</td>\n      <td>other</td>\n      <td>公司企业</td>\n      <td>公司</td>\n      <td>公司</td>\n      <td>南京大世纪艺术模型有限公司</td>\n      <td>江苏省</td>\n      <td>南京市</td>\n      <td>雨花台区</td>\n      <td>31.931557</td>\n      <td>118.729747</td>\n    </tr>\n    <tr>\n      <th>1</th>\n      <td>31.967553</td>\n      <td>118.715838</td>\n      <td>other</td>\n      <td>住宿服务</td>\n      <td>住宿服务相关</td>\n      <td>住宿服务相关</td>\n      <td>南京铂悦精品公寓</td>\n      <td>江苏省</td>\n      <td>南京市</td>\n      <td>建邺区</td>\n      <td>31.967566</td>\n      <td>118.715207</td>\n    </tr>\n    <tr>\n      <th>8</th>\n      <td>31.948330</td>\n      <td>118.726806</td>\n      <td>other</td>\n      <td>公司企业</td>\n      <td>公司</td>\n      <td>公司</td>\n      <td>南京苏启印花公司</td>\n      <td>江苏省</td>\n      <td>南京市</td>\n      <td>雨花台区</td>\n      <td>31.947862</td>\n      <td>118.724393</td>\n    </tr>\n    <tr>\n      <th>11</th>\n      <td>32.009203</td>\n      <td>118.727128</td>\n      <td>other</td>\n      <td>生活服务</td>\n      <td>美容美发店</td>\n      <td>美容美发店</td>\n      <td>米娜美甲美睫皮肤管理(中央商场店)</td>\n      <td>江苏省</td>\n      <td>南京市</td>\n      <td>建邺区</td>\n      <td>32.009256</td>\n      <td>118.727162</td>\n    </tr>\n    <tr>\n      <th>10</th>\n      <td>32.010884</td>\n      <td>118.720642</td>\n      <td>other</td>\n      <td>餐饮服务</td>\n      <td>休闲餐饮场所</td>\n      <td>休闲餐饮场所</td>\n      <td>制菓家</td>\n      <td>江苏省</td>\n      <td>南京市</td>\n      <td>建邺区</td>\n      <td>32.010833</td>\n      <td>118.721105</td>\n    </tr>\n    <tr>\n      <th>12</th>\n      <td>32.011292</td>\n      <td>118.759872</td>\n      <td>other</td>\n      <td>餐饮服务</td>\n      <td>外国餐厅</td>\n      <td>日本料理</td>\n      <td>赤坂亭(虹悦城)</td>\n      <td>江苏省</td>\n      <td>南京市</td>\n      <td>雨花台区</td>\n      <td>32.011357</td>\n      <td>118.759868</td>\n    </tr>\n    <tr>\n      <th>13</th>\n      <td>32.024885</td>\n      <td>118.746713</td>\n      <td>other</td>\n      <td>政府机构及社会团体</td>\n      <td>公检法机构</td>\n      <td>公证鉴定机构</td>\n      <td>南京市轨道交通建设工程质量安全监督站</td>\n      <td>江苏省</td>\n      <td>南京市</td>\n      <td>建邺区</td>\n      <td>32.024789</td>\n      <td>118.746377</td>\n    </tr>\n    <tr>\n      <th>9</th>\n      <td>31.967670</td>\n      <td>118.740110</td>\n      <td>other</td>\n      <td>医疗保健服务</td>\n      <td>综合医院</td>\n      <td>综合医院</td>\n      <td>南京瑞海博康复医院</td>\n      <td>江苏省</td>\n      <td>南京市</td>\n      <td>雨花台区</td>\n      <td>31.967762</td>\n      <td>118.739863</td>\n    </tr>\n    <tr>\n      <th>15</th>\n      <td>32.057993</td>\n      <td>118.778327</td>\n      <td>other</td>\n      <td>风景名胜</td>\n      <td>风景名胜</td>\n      <td>风景名胜</td>\n      <td>国民党三民主义青年团中央团部大门</td>\n      <td>江苏省</td>\n      <td>南京市</td>\n      <td>鼓楼区</td>\n      <td>32.057707</td>\n      <td>118.778591</td>\n    </tr>\n    <tr>\n      <th>16</th>\n      <td>31.975740</td>\n      <td>118.799430</td>\n      <td>other</td>\n      <td>公司企业</td>\n      <td>公司</td>\n      <td>公司</td>\n      <td>南京多彩装饰公司</td>\n      <td>江苏省</td>\n      <td>南京市</td>\n      <td>雨花台区</td>\n      <td>31.974714</td>\n      <td>118.796154</td>\n    </tr>\n    <tr>\n      <th>17</th>\n      <td>31.966402</td>\n      <td>118.801806</td>\n      <td>other</td>\n      <td>住宿服务</td>\n      <td>住宿服务相关</td>\n      <td>住宿服务相关</td>\n      <td>五棵树国际酒店公寓(南站店)</td>\n      <td>江苏省</td>\n      <td>南京市</td>\n      <td>江宁区</td>\n      <td>31.966274</td>\n      <td>118.801771</td>\n    </tr>\n    <tr>\n      <th>18</th>\n      <td>31.974590</td>\n      <td>118.805160</td>\n      <td>other</td>\n      <td>公司企业</td>\n      <td>公司企业</td>\n      <td>公司企业</td>\n      <td>南京交通产业集团有限公司</td>\n      <td>江苏省</td>\n      <td>南京市</td>\n      <td>江宁区</td>\n      <td>31.974671</td>\n      <td>118.805146</td>\n    </tr>\n    <tr>\n      <th>14</th>\n      <td>31.970777</td>\n      <td>118.792985</td>\n      <td>other</td>\n      <td>科教文化服务</td>\n      <td>会展中心</td>\n      <td>会展中心</td>\n      <td>东汇(南京南站)</td>\n      <td>江苏省</td>\n      <td>南京市</td>\n      <td>雨花台区</td>\n      <td>31.970901</td>\n      <td>118.792867</td>\n    </tr>\n    <tr>\n      <th>20</th>\n      <td>31.787540</td>\n      <td>118.656340</td>\n      <td>other</td>\n      <td>政府机构及社会团体</td>\n      <td>社会团体</td>\n      <td>残联</td>\n      <td>牌坊村残疾人协会</td>\n      <td>江苏省</td>\n      <td>南京市</td>\n      <td>江宁区</td>\n      <td>31.788055</td>\n      <td>118.654515</td>\n    </tr>\n    <tr>\n      <th>19</th>\n      <td>31.729142</td>\n      <td>118.755023</td>\n      <td>other</td>\n      <td>交通设施服务</td>\n      <td>公交车站</td>\n      <td>公交车站相关</td>\n      <td>横岗(公交站)</td>\n      <td>江苏省</td>\n      <td>南京市</td>\n      <td>江宁区</td>\n      <td>31.732801</td>\n      <td>118.758755</td>\n    </tr>\n    <tr>\n      <th>21</th>\n      <td>32.021110</td>\n      <td>118.744480</td>\n      <td>other</td>\n      <td>政府机构及社会团体</td>\n      <td>政府机关</td>\n      <td>乡镇级政府及事业单位</td>\n      <td>南苑街道便民服务中心</td>\n      <td>江苏省</td>\n      <td>南京市</td>\n      <td>建邺区</td>\n      <td>32.020981</td>\n      <td>118.744806</td>\n    </tr>\n    <tr>\n      <th>22</th>\n      <td>31.969220</td>\n      <td>118.781730</td>\n      <td>other</td>\n      <td>商务住宅</td>\n      <td>住宅区</td>\n      <td>住宅区</td>\n      <td>梅香路5号院</td>\n      <td>江苏省</td>\n      <td>南京市</td>\n      <td>雨花台区</td>\n      <td>31.969727</td>\n      <td>118.781767</td>\n    </tr>\n    <tr>\n      <th>23</th>\n      <td>32.048233</td>\n      <td>118.755859</td>\n      <td>other</td>\n      <td>政府机构及社会团体</td>\n      <td>政府机关</td>\n      <td>区县级政府及事业单位</td>\n      <td>鼓楼区人力资源和社会保障局</td>\n      <td>江苏省</td>\n      <td>南京市</td>\n      <td>鼓楼区</td>\n      <td>32.048299</td>\n      <td>118.756020</td>\n    </tr>\n    <tr>\n      <th>24</th>\n      <td>31.983203</td>\n      <td>118.718016</td>\n      <td>other</td>\n      <td>科教文化服务</td>\n      <td>学校</td>\n      <td>幼儿园</td>\n      <td>南京市双和幼儿园</td>\n      <td>江苏省</td>\n      <td>南京市</td>\n      <td>建邺区</td>\n      <td>31.983145</td>\n      <td>118.717719</td>\n    </tr>\n  </tbody>\n</table>\n</div>"
     },
     "metadata": {},
     "execution_count": 98
    }
   ],
   "source": [
    "tr_gen.stc.cluster_poi.loc[1390515]"
   ]
  },
  {
   "cell_type": "code",
   "execution_count": 57,
   "metadata": {},
   "outputs": [],
   "source": [
    "\n",
    "cluster_poi = tr_gen.stc.cluster_poi.reset_index(drop=False)\n",
    "user_grp = cluster_poi.groupby(['USER_ID'], sort=False)\n",
    "for uid, user in user_grp:\n",
    "    user.set_index('CLUSTER_ID', inplace=True)\n",
    "    user = user[['LATITUDE', 'LONGITUDE', 'poi_lat', 'poi_lon']]\n",
    "    user.to_json(f\"../data/cluster_poi/{uid}_cluster_poi.json\", orient='index')\n",
    "# cluster_poi.loc['USER_ID']\n",
    "# cluster_poi = cluster_poi[['LATITUDE','LONGITUDE', 'poi_lat', 'poi_lon']]\n",
    "# cluster_poi\n",
    "# cluster_poi.to_json(\"../data/cluster_poi.json\", orient='index')"
   ]
  },
  {
   "cell_type": "code",
   "execution_count": 61,
   "metadata": {
    "tags": []
   },
   "outputs": [],
   "source": [
    "tr_gen.stc.semantic_tag_conversion(poi_gen=poi_gen)"
   ]
  },
  {
   "cell_type": "code",
   "execution_count": 62,
   "metadata": {},
   "outputs": [
    {
     "output_type": "execute_result",
     "data": {
      "text/plain": [
       "     USER_ID  CLUSTER_ID  STAT_DATE           STIME        END_TIME  \\\n",
       "0    1377032           0   20201010  20201010010256  20201010075958   \n",
       "1    1377032           2   20201010  20201010081943  20201010082011   \n",
       "2    1377032           0   20201010  20201010204937  20201010205111   \n",
       "3    1377032           0   20201011  20201011002044  20201011002919   \n",
       "4    1377032           4   20201011  20201011145242  20201011145426   \n",
       "..       ...         ...        ...             ...             ...   \n",
       "770  1870519           0   20201031  20201031005638  20201031005809   \n",
       "771  1870519          24   20201031  20201031075833  20201031075913   \n",
       "772  1870519          33   20201031  20201031180811  20201031184443   \n",
       "773  1870519          34   20201031  20201031193626  20201031201730   \n",
       "774  1870519           0   20201031  20201031211049  20201031211148   \n",
       "\n",
       "      LATITUDE   LONGITUDE  DURATION     TOTAL_DATA   type big_ctg medium_ctg  \\\n",
       "0    31.967434  118.711093     25806    2533.554688   home    商务住宅        住宅区   \n",
       "1    31.983472  118.728787     43345  194624.958984   work    公司企业         公司   \n",
       "2    31.967434  118.711093     11313   34651.035156   home    商务住宅        住宅区   \n",
       "3    31.967434  118.711093     50614   12646.069336   home    商务住宅        住宅区   \n",
       "4    32.017927  118.721801      7159     576.026367  other  体育休闲服务       娱乐场所   \n",
       "..         ...         ...       ...            ...    ...     ...        ...   \n",
       "770  31.921618  118.895487     22954   15704.668945   home    生活服务      美容美发店   \n",
       "771  32.071657  118.613613     34340   75173.943359   work    公司企业         公司   \n",
       "772  32.095958  118.689354      2192  205260.387695  other    公司企业         公司   \n",
       "773  31.903750  118.779801      2464   52149.913086  other    公司企业         公司   \n",
       "774  31.921618  118.895487     10137   71259.740234   home    生活服务      美容美发店   \n",
       "\n",
       "    small_ctg               name province city region  \n",
       "0        住宅小区             莲花新城嘉园      江苏省  南京市    建邺区  \n",
       "1          公司       南京试错教育科技有限公司      江苏省  南京市    建邺区  \n",
       "2        住宅小区             莲花新城嘉园      江苏省  南京市    建邺区  \n",
       "3        住宅小区             莲花新城嘉园      江苏省  南京市    建邺区  \n",
       "4         棋牌室               宾馆棋牌      江苏省  南京市    建邺区  \n",
       "..        ...                ...      ...  ...    ...  \n",
       "770     美容美发店            幻伊人美容美体      江苏省  南京市    江宁区  \n",
       "771        公司  南京远能电力工程有限公司浦口分公司      江苏省  南京市    浦口区  \n",
       "772        公司      江北扬子江隧道救援服务中心      江苏省  南京市    浦口区  \n",
       "773        公司       南京善围建筑科技有限公司      江苏省  南京市    江宁区  \n",
       "774     美容美发店            幻伊人美容美体      江苏省  南京市    江宁区  \n",
       "\n",
       "[775 rows x 17 columns]"
      ],
      "text/html": "<div>\n<style scoped>\n    .dataframe tbody tr th:only-of-type {\n        vertical-align: middle;\n    }\n\n    .dataframe tbody tr th {\n        vertical-align: top;\n    }\n\n    .dataframe thead th {\n        text-align: right;\n    }\n</style>\n<table border=\"1\" class=\"dataframe\">\n  <thead>\n    <tr style=\"text-align: right;\">\n      <th></th>\n      <th>USER_ID</th>\n      <th>CLUSTER_ID</th>\n      <th>STAT_DATE</th>\n      <th>STIME</th>\n      <th>END_TIME</th>\n      <th>LATITUDE</th>\n      <th>LONGITUDE</th>\n      <th>DURATION</th>\n      <th>TOTAL_DATA</th>\n      <th>type</th>\n      <th>big_ctg</th>\n      <th>medium_ctg</th>\n      <th>small_ctg</th>\n      <th>name</th>\n      <th>province</th>\n      <th>city</th>\n      <th>region</th>\n    </tr>\n  </thead>\n  <tbody>\n    <tr>\n      <th>0</th>\n      <td>1377032</td>\n      <td>0</td>\n      <td>20201010</td>\n      <td>20201010010256</td>\n      <td>20201010075958</td>\n      <td>31.967434</td>\n      <td>118.711093</td>\n      <td>25806</td>\n      <td>2533.554688</td>\n      <td>home</td>\n      <td>商务住宅</td>\n      <td>住宅区</td>\n      <td>住宅小区</td>\n      <td>莲花新城嘉园</td>\n      <td>江苏省</td>\n      <td>南京市</td>\n      <td>建邺区</td>\n    </tr>\n    <tr>\n      <th>1</th>\n      <td>1377032</td>\n      <td>2</td>\n      <td>20201010</td>\n      <td>20201010081943</td>\n      <td>20201010082011</td>\n      <td>31.983472</td>\n      <td>118.728787</td>\n      <td>43345</td>\n      <td>194624.958984</td>\n      <td>work</td>\n      <td>公司企业</td>\n      <td>公司</td>\n      <td>公司</td>\n      <td>南京试错教育科技有限公司</td>\n      <td>江苏省</td>\n      <td>南京市</td>\n      <td>建邺区</td>\n    </tr>\n    <tr>\n      <th>2</th>\n      <td>1377032</td>\n      <td>0</td>\n      <td>20201010</td>\n      <td>20201010204937</td>\n      <td>20201010205111</td>\n      <td>31.967434</td>\n      <td>118.711093</td>\n      <td>11313</td>\n      <td>34651.035156</td>\n      <td>home</td>\n      <td>商务住宅</td>\n      <td>住宅区</td>\n      <td>住宅小区</td>\n      <td>莲花新城嘉园</td>\n      <td>江苏省</td>\n      <td>南京市</td>\n      <td>建邺区</td>\n    </tr>\n    <tr>\n      <th>3</th>\n      <td>1377032</td>\n      <td>0</td>\n      <td>20201011</td>\n      <td>20201011002044</td>\n      <td>20201011002919</td>\n      <td>31.967434</td>\n      <td>118.711093</td>\n      <td>50614</td>\n      <td>12646.069336</td>\n      <td>home</td>\n      <td>商务住宅</td>\n      <td>住宅区</td>\n      <td>住宅小区</td>\n      <td>莲花新城嘉园</td>\n      <td>江苏省</td>\n      <td>南京市</td>\n      <td>建邺区</td>\n    </tr>\n    <tr>\n      <th>4</th>\n      <td>1377032</td>\n      <td>4</td>\n      <td>20201011</td>\n      <td>20201011145242</td>\n      <td>20201011145426</td>\n      <td>32.017927</td>\n      <td>118.721801</td>\n      <td>7159</td>\n      <td>576.026367</td>\n      <td>other</td>\n      <td>体育休闲服务</td>\n      <td>娱乐场所</td>\n      <td>棋牌室</td>\n      <td>宾馆棋牌</td>\n      <td>江苏省</td>\n      <td>南京市</td>\n      <td>建邺区</td>\n    </tr>\n    <tr>\n      <th>...</th>\n      <td>...</td>\n      <td>...</td>\n      <td>...</td>\n      <td>...</td>\n      <td>...</td>\n      <td>...</td>\n      <td>...</td>\n      <td>...</td>\n      <td>...</td>\n      <td>...</td>\n      <td>...</td>\n      <td>...</td>\n      <td>...</td>\n      <td>...</td>\n      <td>...</td>\n      <td>...</td>\n      <td>...</td>\n    </tr>\n    <tr>\n      <th>770</th>\n      <td>1870519</td>\n      <td>0</td>\n      <td>20201031</td>\n      <td>20201031005638</td>\n      <td>20201031005809</td>\n      <td>31.921618</td>\n      <td>118.895487</td>\n      <td>22954</td>\n      <td>15704.668945</td>\n      <td>home</td>\n      <td>生活服务</td>\n      <td>美容美发店</td>\n      <td>美容美发店</td>\n      <td>幻伊人美容美体</td>\n      <td>江苏省</td>\n      <td>南京市</td>\n      <td>江宁区</td>\n    </tr>\n    <tr>\n      <th>771</th>\n      <td>1870519</td>\n      <td>24</td>\n      <td>20201031</td>\n      <td>20201031075833</td>\n      <td>20201031075913</td>\n      <td>32.071657</td>\n      <td>118.613613</td>\n      <td>34340</td>\n      <td>75173.943359</td>\n      <td>work</td>\n      <td>公司企业</td>\n      <td>公司</td>\n      <td>公司</td>\n      <td>南京远能电力工程有限公司浦口分公司</td>\n      <td>江苏省</td>\n      <td>南京市</td>\n      <td>浦口区</td>\n    </tr>\n    <tr>\n      <th>772</th>\n      <td>1870519</td>\n      <td>33</td>\n      <td>20201031</td>\n      <td>20201031180811</td>\n      <td>20201031184443</td>\n      <td>32.095958</td>\n      <td>118.689354</td>\n      <td>2192</td>\n      <td>205260.387695</td>\n      <td>other</td>\n      <td>公司企业</td>\n      <td>公司</td>\n      <td>公司</td>\n      <td>江北扬子江隧道救援服务中心</td>\n      <td>江苏省</td>\n      <td>南京市</td>\n      <td>浦口区</td>\n    </tr>\n    <tr>\n      <th>773</th>\n      <td>1870519</td>\n      <td>34</td>\n      <td>20201031</td>\n      <td>20201031193626</td>\n      <td>20201031201730</td>\n      <td>31.903750</td>\n      <td>118.779801</td>\n      <td>2464</td>\n      <td>52149.913086</td>\n      <td>other</td>\n      <td>公司企业</td>\n      <td>公司</td>\n      <td>公司</td>\n      <td>南京善围建筑科技有限公司</td>\n      <td>江苏省</td>\n      <td>南京市</td>\n      <td>江宁区</td>\n    </tr>\n    <tr>\n      <th>774</th>\n      <td>1870519</td>\n      <td>0</td>\n      <td>20201031</td>\n      <td>20201031211049</td>\n      <td>20201031211148</td>\n      <td>31.921618</td>\n      <td>118.895487</td>\n      <td>10137</td>\n      <td>71259.740234</td>\n      <td>home</td>\n      <td>生活服务</td>\n      <td>美容美发店</td>\n      <td>美容美发店</td>\n      <td>幻伊人美容美体</td>\n      <td>江苏省</td>\n      <td>南京市</td>\n      <td>江宁区</td>\n    </tr>\n  </tbody>\n</table>\n<p>775 rows × 17 columns</p>\n</div>"
     },
     "metadata": {},
     "execution_count": 62
    }
   ],
   "source": [
    "tr_gen.stc.df"
   ]
  },
  {
   "cell_type": "code",
   "execution_count": 63,
   "metadata": {},
   "outputs": [],
   "source": [
    "tr_gen.stc.df.to_csv('../data/9_user_with_flag_new.csv', encoding='gbk',index=False)"
   ]
  },
  {
   "cell_type": "code",
   "execution_count": 153,
   "metadata": {},
   "outputs": [
    {
     "output_type": "execute_result",
     "data": {
      "text/plain": [
       "2"
      ]
     },
     "metadata": {},
     "execution_count": 153
    }
   ],
   "source": [
    "from collections import Counter\n",
    "\n",
    "a = [1, 2, 3, 3, 2, 2, 3]\n",
    "\n",
    "c = Counter(a)\n",
    "c.most_common(1)[0][0]"
   ]
  }
 ]
}